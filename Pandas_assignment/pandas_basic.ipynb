{
  "cells": [
    {
      "cell_type": "markdown",
      "metadata": {
        "colab_type": "text",
        "id": "view-in-github"
      },
      "source": [
        "<a href=\"https://colab.research.google.com/github/adeebkhan0706/pwskillsassignmnets/blob/main/pandas_basic.ipynb\" target=\"_parent\"><img src=\"https://colab.research.google.com/assets/colab-badge.svg\" alt=\"Open In Colab\"/></a>"
      ]
    },
    {
      "cell_type": "markdown",
      "metadata": {},
      "source": [
        "# Pandas Basic"
      ]
    },
    {
      "cell_type": "markdown",
      "metadata": {
        "id": "_C-oJ2Shj_ob"
      },
      "source": [
        "## Q1. Create a Pandas Series that contains the following data: 4, 8, 15, 16, 23, and 42. Then, print the series."
      ]
    },
    {
      "cell_type": "code",
      "execution_count": 2,
      "metadata": {
        "colab": {
          "base_uri": "https://localhost:8080/"
        },
        "id": "k8Mn8A6Pj6bs",
        "outputId": "ed9d5e01-e827-4e62-ab21-301ee9d92d0b"
      },
      "outputs": [
        {
          "name": "stdout",
          "output_type": "stream",
          "text": [
            "[4, 8, 15, 16, 23, 42]\n"
          ]
        }
      ],
      "source": [
        "import pandas as pd\n",
        "data = [4, 8, 15, 16, 23, 42]\n",
        "df = pd.Series(data)\n",
        "print(data)"
      ]
    },
    {
      "cell_type": "code",
      "execution_count": 3,
      "metadata": {
        "colab": {
          "base_uri": "https://localhost:8080/"
        },
        "id": "0AVfVhVRkQUA",
        "outputId": "736a4286-b71a-4f84-fe1f-4a078d5007c2"
      },
      "outputs": [
        {
          "data": {
            "text/plain": [
              "pandas.core.series.Series"
            ]
          },
          "execution_count": 3,
          "metadata": {},
          "output_type": "execute_result"
        }
      ],
      "source": [
        "type(df)"
      ]
    },
    {
      "cell_type": "code",
      "execution_count": 19,
      "metadata": {
        "colab": {
          "base_uri": "https://localhost:8080/"
        },
        "id": "p_kY_eLz-JDV",
        "outputId": "aa31bf85-b278-48f1-92af-245dc126a11d"
      },
      "outputs": [
        {
          "data": {
            "text/plain": [
              "0     4\n",
              "1     8\n",
              "2    15\n",
              "3    16\n",
              "4    23\n",
              "5    42\n",
              "dtype: int64"
            ]
          },
          "execution_count": 19,
          "metadata": {},
          "output_type": "execute_result"
        }
      ],
      "source": [
        "df"
      ]
    },
    {
      "cell_type": "markdown",
      "metadata": {
        "id": "1uQmZObl8-RC"
      },
      "source": [
        "## Q2. Create a variable of list type containing 10 elements in it, and apply pandas.Series function on the variable print it."
      ]
    },
    {
      "cell_type": "code",
      "execution_count": 15,
      "metadata": {
        "colab": {
          "base_uri": "https://localhost:8080/"
        },
        "id": "GK2dveSUkjb1",
        "outputId": "5da8f4f7-28ff-4df9-d0b5-9ef113d8a10e"
      },
      "outputs": [
        {
          "name": "stdout",
          "output_type": "stream",
          "text": [
            "[89, 9, 10, 28, 82, 14, 88, 96, 15, 89]\n"
          ]
        }
      ],
      "source": [
        "import random\n",
        "random_integers = [random.randint(1, 100) for _ in range(10)]\n",
        "print(random_integers)"
      ]
    },
    {
      "cell_type": "code",
      "execution_count": 16,
      "metadata": {
        "id": "dc4qKXve9UFx"
      },
      "outputs": [],
      "source": [
        "series = pd.Series(random_integers)"
      ]
    },
    {
      "cell_type": "code",
      "execution_count": 17,
      "metadata": {
        "colab": {
          "base_uri": "https://localhost:8080/"
        },
        "id": "ErCZOayV-DLW",
        "outputId": "4e434094-422b-42dc-aa2f-6966c183cba6"
      },
      "outputs": [
        {
          "data": {
            "text/plain": [
              "pandas.core.series.Series"
            ]
          },
          "execution_count": 17,
          "metadata": {},
          "output_type": "execute_result"
        }
      ],
      "source": [
        "type(series)"
      ]
    },
    {
      "cell_type": "code",
      "execution_count": 20,
      "metadata": {
        "colab": {
          "base_uri": "https://localhost:8080/"
        },
        "id": "s1lwhPcK-EW2",
        "outputId": "f3bad133-4e60-4962-dd78-959ff85f0094"
      },
      "outputs": [
        {
          "data": {
            "text/plain": [
              "0    89\n",
              "1     9\n",
              "2    10\n",
              "3    28\n",
              "4    82\n",
              "5    14\n",
              "6    88\n",
              "7    96\n",
              "8    15\n",
              "9    89\n",
              "dtype: int64"
            ]
          },
          "execution_count": 20,
          "metadata": {},
          "output_type": "execute_result"
        }
      ],
      "source": [
        "series"
      ]
    },
    {
      "cell_type": "markdown",
      "metadata": {
        "id": "0WNEhG6P-PPV"
      },
      "source": [
        "## Q3. Create a Pandas DataFrame that contains the following data:"
      ]
    },
    {
      "cell_type": "code",
      "execution_count": 20,
      "metadata": {
        "id": "w5x7G9F5-K4O"
      },
      "outputs": [],
      "source": [
        "data = [('Alice', 25, 'Male'), ('Bob', 'good', 'Male'), ('Claire', 27, 'Male')]\n",
        "cols = [('Name', 'Age', 'Gender')]"
      ]
    },
    {
      "cell_type": "code",
      "execution_count": 21,
      "metadata": {
        "id": "QX8N1yu9-vUD"
      },
      "outputs": [],
      "source": [
        "df = pd.DataFrame(data, columns =cols[0])"
      ]
    },
    {
      "cell_type": "code",
      "execution_count": 22,
      "metadata": {
        "colab": {
          "base_uri": "https://localhost:8080/",
          "height": 143
        },
        "id": "ao3SAIvb-zqK",
        "outputId": "1494047a-9649-47c5-ed82-a5f6c461dfb2"
      },
      "outputs": [
        {
          "data": {
            "text/html": [
              "<div>\n",
              "<style scoped>\n",
              "    .dataframe tbody tr th:only-of-type {\n",
              "        vertical-align: middle;\n",
              "    }\n",
              "\n",
              "    .dataframe tbody tr th {\n",
              "        vertical-align: top;\n",
              "    }\n",
              "\n",
              "    .dataframe thead th {\n",
              "        text-align: right;\n",
              "    }\n",
              "</style>\n",
              "<table border=\"1\" class=\"dataframe\">\n",
              "  <thead>\n",
              "    <tr style=\"text-align: right;\">\n",
              "      <th></th>\n",
              "      <th>Name</th>\n",
              "      <th>Age</th>\n",
              "      <th>Gender</th>\n",
              "    </tr>\n",
              "  </thead>\n",
              "  <tbody>\n",
              "    <tr>\n",
              "      <th>0</th>\n",
              "      <td>Alice</td>\n",
              "      <td>25</td>\n",
              "      <td>Male</td>\n",
              "    </tr>\n",
              "    <tr>\n",
              "      <th>1</th>\n",
              "      <td>Bob</td>\n",
              "      <td>good</td>\n",
              "      <td>Male</td>\n",
              "    </tr>\n",
              "    <tr>\n",
              "      <th>2</th>\n",
              "      <td>Claire</td>\n",
              "      <td>27</td>\n",
              "      <td>Male</td>\n",
              "    </tr>\n",
              "  </tbody>\n",
              "</table>\n",
              "</div>"
            ],
            "text/plain": [
              "     Name   Age Gender\n",
              "0   Alice    25   Male\n",
              "1     Bob  good   Male\n",
              "2  Claire    27   Male"
            ]
          },
          "execution_count": 22,
          "metadata": {},
          "output_type": "execute_result"
        }
      ],
      "source": [
        "df"
      ]
    },
    {
      "cell_type": "markdown",
      "metadata": {
        "id": "tj5Za2J2_7eJ"
      },
      "source": [
        "## Q4. What is 'DataFrame' in pandas and how is it different from pandas.series? Explain with an example."
      ]
    },
    {
      "cell_type": "markdown",
      "metadata": {
        "id": "yLuIti2aAXgz"
      },
      "source": [
        "In the pandas library, a DataFrame is a two-dimensional labeled data structure that is commonly used for data manipulation and analysis. It can be thought of as a table where data is organized into rows and columns. Each column in a DataFrame can be of a different data type, and it allows you to perform various operations like filtering, selecting, merging, and aggregating data.\n",
        "\n",
        "On the other hand, a Series is a one-dimensional labeled array that can hold data of any type. It is essentially a single column of a DataFrame. A Series has an associated index, which labels the elements, making it similar to a dictionary or a list in Python.\n",
        "\n",
        "Here's an example to illustrate the difference between a DataFrame and a Series:"
      ]
    },
    {
      "cell_type": "code",
      "execution_count": 23,
      "metadata": {
        "colab": {
          "base_uri": "https://localhost:8080/"
        },
        "id": "tY6U01y8-0Xa",
        "outputId": "b64679a6-7582-4f26-b281-8cbcec4ca36d"
      },
      "outputs": [
        {
          "name": "stdout",
          "output_type": "stream",
          "text": [
            "DataFrame:\n",
            "      Name  Age\n",
            "0    Alice   25\n",
            "1      Bob   30\n",
            "2  Charlie   22\n",
            "3    David   28\n",
            "\n",
            "Series:\n",
            "0    25\n",
            "1    30\n",
            "2    22\n",
            "3    28\n",
            "Name: Age, dtype: int64\n"
          ]
        }
      ],
      "source": [
        "import pandas as pd\n",
        "\n",
        "# Creating a DataFrame\n",
        "data = {'Name': ['Alice', 'Bob', 'Charlie', 'David'],\n",
        "        'Age': [25, 30, 22, 28]}\n",
        "df = pd.DataFrame(data)\n",
        "\n",
        "# Creating a Series\n",
        "ages = pd.Series([25, 30, 22, 28], name='Age')\n",
        "\n",
        "print(\"DataFrame:\")\n",
        "print(df)\n",
        "print(\"\\nSeries:\")\n",
        "print(ages)\n"
      ]
    },
    {
      "cell_type": "markdown",
      "metadata": {
        "id": "bRCNVpN0AjD_"
      },
      "source": [
        "## Q5. What are some common functions you can use to manipulate data in a Pandas DataFrame? Can you give an example of when you might use one of these functions?"
      ]
    },
    {
      "cell_type": "markdown",
      "metadata": {
        "id": "k6A92FfTA8nW"
      },
      "source": [
        "Pandas provides a wide range of functions for data manipulation in a DataFrame. Here are some common functions and methods along with examples of how they might be used:\n",
        "\n",
        "1. head() and tail(): These functions allow you to view the first few rows (head()) or the last few rows (tail()) of a DataFrame. They are often used to quickly inspect the data."
      ]
    },
    {
      "cell_type": "code",
      "execution_count": 25,
      "metadata": {
        "colab": {
          "base_uri": "https://localhost:8080/"
        },
        "id": "_FDWiUgrAb8x",
        "outputId": "fb90f9fe-9638-4044-cec6-421fbb06aa1f"
      },
      "outputs": [
        {
          "name": "stdout",
          "output_type": "stream",
          "text": [
            "    Name  Age\n",
            "0  Alice   25\n",
            "1    Bob   30\n",
            "    Name  Age\n",
            "3  David   28\n"
          ]
        }
      ],
      "source": [
        "import pandas as pd\n",
        "\n",
        "data = {'Name': ['Alice', 'Bob', 'Charlie', 'David'],\n",
        "        'Age': [25, 30, 22, 28]}\n",
        "df = pd.DataFrame(data)\n",
        "\n",
        "print(df.head(2))  # Display the first 2 rows\n",
        "print(df.tail(1))  # Display the last row\n"
      ]
    },
    {
      "cell_type": "markdown",
      "metadata": {
        "id": "ryplGMnSBDLG"
      },
      "source": [
        "2. info(): This function provides a concise summary of a DataFrame, including the data types, non-null counts, and memory usage. It's useful for understanding the structure of the data.\n"
      ]
    },
    {
      "cell_type": "code",
      "execution_count": 28,
      "metadata": {
        "colab": {
          "base_uri": "https://localhost:8080/"
        },
        "id": "mnN6aOl2BGl_",
        "outputId": "7fd89ece-8efc-4c94-c183-bfc43d77e06d"
      },
      "outputs": [
        {
          "name": "stdout",
          "output_type": "stream",
          "text": [
            "<class 'pandas.core.frame.DataFrame'>\n",
            "RangeIndex: 4 entries, 0 to 3\n",
            "Data columns (total 2 columns):\n",
            " #   Column  Non-Null Count  Dtype \n",
            "---  ------  --------------  ----- \n",
            " 0   Name    4 non-null      object\n",
            " 1   Age     4 non-null      int64 \n",
            "dtypes: int64(1), object(1)\n",
            "memory usage: 196.0+ bytes\n",
            "None\n"
          ]
        }
      ],
      "source": [
        "print(df.info())"
      ]
    },
    {
      "cell_type": "markdown",
      "metadata": {
        "id": "Ydt8mMgIBKIi"
      },
      "source": [
        "3. describe(): This function generates various summary statistics of the numeric columns in a DataFrame, such as count, mean, standard deviation, min, max, and quartiles."
      ]
    },
    {
      "cell_type": "code",
      "execution_count": 27,
      "metadata": {
        "colab": {
          "base_uri": "https://localhost:8080/"
        },
        "id": "mCZ5DwemBIQ3",
        "outputId": "45fc1a5d-a6fd-4ef6-ca30-2331369b9db3"
      },
      "outputs": [
        {
          "name": "stdout",
          "output_type": "stream",
          "text": [
            "         Age\n",
            "count   4.00\n",
            "mean   26.25\n",
            "std     3.50\n",
            "min    22.00\n",
            "25%    24.25\n",
            "50%    26.50\n",
            "75%    28.50\n",
            "max    30.00\n"
          ]
        }
      ],
      "source": [
        "print(df.describe())"
      ]
    },
    {
      "cell_type": "markdown",
      "metadata": {
        "id": "sFyr1gLeBQ1c"
      },
      "source": [
        "4. value_counts(): This method counts the occurrences of unique values in a column. It's useful for exploring categorical data."
      ]
    },
    {
      "cell_type": "code",
      "execution_count": 29,
      "metadata": {
        "colab": {
          "base_uri": "https://localhost:8080/"
        },
        "id": "CA_1huslBPSA",
        "outputId": "d602378a-45a4-4205-8202-5630d52cb73c"
      },
      "outputs": [
        {
          "name": "stdout",
          "output_type": "stream",
          "text": [
            "Name\n",
            "Alice      1\n",
            "Bob        1\n",
            "Charlie    1\n",
            "David      1\n",
            "Name: count, dtype: int64\n"
          ]
        }
      ],
      "source": [
        "print(df['Name'].value_counts())"
      ]
    },
    {
      "cell_type": "markdown",
      "metadata": {
        "id": "zJgSwk8kBVWR"
      },
      "source": [
        "5. sort_values(): This function allows you to sort the DataFrame by one or more columns."
      ]
    },
    {
      "cell_type": "code",
      "execution_count": 46,
      "metadata": {
        "colab": {
          "base_uri": "https://localhost:8080/"
        },
        "id": "j6OyX2C-BUq4",
        "outputId": "fdea94e6-93ac-42af-855c-8f23bb5a01de"
      },
      "outputs": [
        {
          "name": "stdout",
          "output_type": "stream",
          "text": [
            "      Name  Age\n",
            "1      Bob   30\n",
            "3    David   28\n",
            "0    Alice   25\n",
            "2  Charlie   22\n"
          ]
        }
      ],
      "source": [
        "sorted_df = df.sort_values(by='Age', ascending=False)\n",
        "print(sorted_df)"
      ]
    },
    {
      "cell_type": "markdown",
      "metadata": {
        "id": "ztnF3eJQBbiv"
      },
      "source": [
        "6. groupby() and aggregation functions: groupby() is used to group data based on one or more columns, and aggregation functions like mean(), sum(), count(), etc., can be applied to calculate summary statistics for each group."
      ]
    },
    {
      "cell_type": "code",
      "execution_count": 47,
      "metadata": {
        "colab": {
          "base_uri": "https://localhost:8080/"
        },
        "id": "9U55UMDtBZaZ",
        "outputId": "f53802bf-4655-4273-9320-265dceb70a2a"
      },
      "outputs": [
        {
          "name": "stdout",
          "output_type": "stream",
          "text": [
            "Age\n",
            "22    1\n",
            "25    1\n",
            "28    1\n",
            "30    1\n",
            "Name: Name, dtype: int64\n"
          ]
        }
      ],
      "source": [
        "grouped = df.groupby('Age')['Name'].count()\n",
        "print(grouped)"
      ]
    },
    {
      "cell_type": "markdown",
      "metadata": {
        "id": "_TtrEGdfBgQp"
      },
      "source": [
        "7. drop(): This method is used to remove rows or columns from a DataFrame."
      ]
    },
    {
      "cell_type": "code",
      "execution_count": 48,
      "metadata": {
        "colab": {
          "base_uri": "https://localhost:8080/"
        },
        "id": "6xnrXYdkBeeJ",
        "outputId": "d6049a7e-62f2-45b5-da4d-c6e47eeae3a0"
      },
      "outputs": [
        {
          "name": "stdout",
          "output_type": "stream",
          "text": [
            "      Name\n",
            "0    Alice\n",
            "1      Bob\n",
            "2  Charlie\n",
            "3    David\n"
          ]
        }
      ],
      "source": [
        "new_df = df.drop(columns=['Age'])  # Remove the 'Age' column\n",
        "print(new_df)"
      ]
    },
    {
      "cell_type": "markdown",
      "metadata": {
        "id": "KStnZRg1Bl5E"
      },
      "source": [
        "8. fillna(): This method is used to fill missing values in a DataFrame with a specified value or a calculated value."
      ]
    },
    {
      "cell_type": "code",
      "execution_count": 49,
      "metadata": {
        "colab": {
          "base_uri": "https://localhost:8080/"
        },
        "id": "81rKzTk-BjEi",
        "outputId": "c5a46748-9af1-4284-bdda-dccee22eb923"
      },
      "outputs": [
        {
          "name": "stdout",
          "output_type": "stream",
          "text": [
            "      Name  Age\n",
            "0    Alice   25\n",
            "1      Bob   30\n",
            "2  Charlie   22\n",
            "3    David   28\n"
          ]
        }
      ],
      "source": [
        "df_filled = df.fillna(value=0)  # Fill missing values with 0\n",
        "print(df_filled)"
      ]
    },
    {
      "cell_type": "markdown",
      "metadata": {
        "id": "OAenDlGoBsNY"
      },
      "source": [
        "9. merge() and concat(): These functions are used to combine multiple DataFrames based on common columns or indexes."
      ]
    },
    {
      "cell_type": "code",
      "execution_count": 50,
      "metadata": {
        "colab": {
          "base_uri": "https://localhost:8080/"
        },
        "id": "Bypq9Aj5BpzK",
        "outputId": "d86b3706-c82e-48e0-956e-f7d618862ce9"
      },
      "outputs": [
        {
          "name": "stdout",
          "output_type": "stream",
          "text": [
            "   ID  Score_x  Score_y\n",
            "0   2       90       92\n",
            "1   3       78       88\n"
          ]
        }
      ],
      "source": [
        "df1 = pd.DataFrame({'ID': [1, 2, 3], 'Score': [85, 90, 78]})\n",
        "df2 = pd.DataFrame({'ID': [2, 3, 4], 'Score': [92, 88, 95]})\n",
        "\n",
        "merged_df = pd.merge(df1, df2, on='ID', how='inner')\n",
        "print(merged_df)"
      ]
    },
    {
      "cell_type": "code",
      "execution_count": null,
      "metadata": {
        "id": "Ly7tAYc2BuoL"
      },
      "outputs": [],
      "source": []
    },
    {
      "cell_type": "markdown",
      "metadata": {
        "id": "WEB6zqJ3BzVc"
      },
      "source": [
        "## Q6. Which of the following is mutable in nature Series, DataFrame, Panel?"
      ]
    },
    {
      "cell_type": "markdown",
      "metadata": {
        "id": "BQ4FGHR1COhh"
      },
      "source": [
        "Among the options you provided, the DataFrame is mutable in nature.\n",
        "\n",
        "A mutable object is one that can be modified after it is created. In the context of Pandas, mutability refers to the ability to modify the contents of an object after its creation.\n",
        "\n",
        "Series: A Pandas Series is immutable, meaning you cannot change the elements after it's created. You can perform operations that generate a new Series with modified data, but the original Series remains unchanged.\n",
        "\n",
        "DataFrame: A Pandas DataFrame is mutable, meaning you can modify the data, add or remove columns, change values, etc., after the DataFrame is created.\n",
        "\n",
        "Panel: Note that the Panel was deprecated in recent versions of Pandas (0.25.0) and removed in later versions. It was intended to be a 3D data structure with DataFrame-like capabilities across multiple panels (a bit like a DataFrame of DataFrames). However, due to its complexity and the availability of better alternatives, it was deprecated and removed in favor of other data structures."
      ]
    },
    {
      "cell_type": "markdown",
      "metadata": {
        "id": "NQp1A1nICR5N"
      },
      "source": [
        "## Q7. Create a DataFrame using multiple Series. Explain with an example."
      ]
    },
    {
      "cell_type": "code",
      "execution_count": 30,
      "metadata": {
        "colab": {
          "base_uri": "https://localhost:8080/"
        },
        "id": "XPJcZIuYB0hU",
        "outputId": "d620d9be-629a-4615-925f-cae23774a4e9"
      },
      "outputs": [
        {
          "name": "stdout",
          "output_type": "stream",
          "text": [
            "      Name  Age  Grade\n",
            "0    Alice   25     85\n",
            "1      Bob   30     90\n",
            "2  Charlie   22     78\n",
            "3    David   28     92\n"
          ]
        }
      ],
      "source": [
        "import pandas as pd\n",
        "\n",
        "# Creating individual Series\n",
        "names = pd.Series(['Alice', 'Bob', 'Charlie', 'David'])\n",
        "ages = pd.Series([25, 30, 22, 28])\n",
        "grades = pd.Series([85, 90, 78, 92])\n",
        "\n",
        "# Creating a DataFrame using the Series\n",
        "data = {'Name': names, 'Age': ages, 'Grade': grades}\n",
        "df = pd.DataFrame(data)\n",
        "\n",
        "# Displaying the DataFrame\n",
        "print(df)\n"
      ]
    },
    {
      "cell_type": "code",
      "execution_count": null,
      "metadata": {},
      "outputs": [],
      "source": []
    }
  ],
  "metadata": {
    "colab": {
      "authorship_tag": "ABX9TyObYQrEF4xGpOxeS2EIEwNp",
      "include_colab_link": true,
      "provenance": []
    },
    "kernelspec": {
      "display_name": "Python 3",
      "name": "python3"
    },
    "language_info": {
      "codemirror_mode": {
        "name": "ipython",
        "version": 3
      },
      "file_extension": ".py",
      "mimetype": "text/x-python",
      "name": "python",
      "nbconvert_exporter": "python",
      "pygments_lexer": "ipython3",
      "version": "3.11.5"
    }
  },
  "nbformat": 4,
  "nbformat_minor": 0
}
