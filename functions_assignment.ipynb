{
  "nbformat": 4,
  "nbformat_minor": 0,
  "metadata": {
    "colab": {
      "provenance": [],
      "authorship_tag": "ABX9TyO9lBUBDokRc5lt0oXtvrMG"
    },
    "kernelspec": {
      "name": "python3",
      "display_name": "Python 3"
    },
    "language_info": {
      "name": "python"
    }
  },
  "cells": [
    {
      "cell_type": "markdown",
      "source": [
        "Q1. Which keyword is used to create a function? Create a function to return a list of odd numbers in the\n",
        "range of 1 to 25."
      ],
      "metadata": {
        "id": "UbhV7Rs95eDz"
      }
    },
    {
      "cell_type": "markdown",
      "source": [
        "Ans: \n",
        "\n",
        "\"def\" keyword is used to create a function in python\n"
      ],
      "metadata": {
        "id": "fn7f4Rqg5z3Y"
      }
    },
    {
      "cell_type": "code",
      "source": [
        "def get_odd_numbers():\n",
        "    odd_numbers = []\n",
        "    for num in range(1, 26):\n",
        "        if num % 2 != 0:\n",
        "            odd_numbers.append(num)\n",
        "    return odd_numbers\n",
        "\n",
        "# Call the function\n",
        "result = get_odd_numbers()\n",
        "print(result)"
      ],
      "metadata": {
        "colab": {
          "base_uri": "https://localhost:8080/"
        },
        "id": "L0eyt3rv6LUN",
        "outputId": "a3619bac-96ee-47ae-e033-7b03fb485f7b"
      },
      "execution_count": 2,
      "outputs": [
        {
          "output_type": "stream",
          "name": "stdout",
          "text": [
            "[1, 3, 5, 7, 9, 11, 13, 15, 17, 19, 21, 23, 25]\n"
          ]
        }
      ]
    },
    {
      "cell_type": "markdown",
      "source": [
        "Q2. Why *args and **kwargs is used in some functions? Create a function each for *args and **kwargs to\n",
        "demonstrate their use."
      ],
      "metadata": {
        "id": "LPgR8J-p5gSd"
      }
    },
    {
      "cell_type": "markdown",
      "source": [
        "Ans:\n",
        "The *args and **kwargs are used in Python functions to handle a variable number of arguments.\n",
        "\n",
        "*args is used to pass a variable number of non-keyword arguments to a function. It allows you to pass any number of arguments to the function as a tuple.\n",
        "**kwargs is used to pass a variable number of keyword arguments to a function. It allows you to pass any number of keyword arguments to the function as a dictionary."
      ],
      "metadata": {
        "id": "nUiOJes050ux"
      }
    },
    {
      "cell_type": "code",
      "source": [
        "# Example function using *args\n",
        "def concatenate(*args):\n",
        "    result = \"\"\n",
        "    for arg in args:\n",
        "        result += arg\n",
        "    return result\n",
        "\n",
        "print(concatenate(\"Hello\", \" \", \"world!\"))  # Output: \"Hello world!\"\n",
        "\n",
        "# Example function using **kwargs\n",
        "def print_details(**kwargs):\n",
        "    for key, value in kwargs.items():\n",
        "        print(f\"{key}: {value}\")\n",
        "\n",
        "print_details(name=\"John\", age=25, city=\"New York\")"
      ],
      "metadata": {
        "colab": {
          "base_uri": "https://localhost:8080/"
        },
        "id": "LsjV0Myp6VRu",
        "outputId": "efbb61d9-340b-4b2a-aa02-8323c25622c1"
      },
      "execution_count": 3,
      "outputs": [
        {
          "output_type": "stream",
          "name": "stdout",
          "text": [
            "Hello world!\n",
            "name: John\n",
            "age: 25\n",
            "city: New York\n"
          ]
        }
      ]
    },
    {
      "cell_type": "markdown",
      "source": [
        "Q3. What is an iterator in python? Name the method used to initialise the iterator object and the method\n",
        "used for iteration. Use these methods to print the first five elements of the given list [2, 4, 6, 8, 10, 12, 14, 16,\n",
        "18, 20]."
      ],
      "metadata": {
        "id": "2uz7TPvP5g_J"
      }
    },
    {
      "cell_type": "markdown",
      "source": [
        "Ans:\n",
        "an iterator is an object that allows iteration over a container or a sequence of elements. It provides a way to access elements one by one without needing to know the underlying structure of the container.\n",
        "\n",
        "To initialize an iterator object, you can use the iter() function, passing the container or sequence as an argument. The next() function is then used to iterate over the elements of the iterator."
      ],
      "metadata": {
        "id": "Ey17PZzS51UA"
      }
    },
    {
      "cell_type": "code",
      "source": [
        "my_list = [2, 4, 6, 8, 10, 12, 14, 16, 18, 20]\n",
        "\n",
        "# Initialize the iterator object\n",
        "my_iterator = iter(my_list)\n",
        "\n",
        "# Iterate and print the first five elements\n",
        "for _ in range(5):\n",
        "    element = next(my_iterator)\n",
        "    print(element)"
      ],
      "metadata": {
        "colab": {
          "base_uri": "https://localhost:8080/"
        },
        "id": "BDGdqdhZ6pzf",
        "outputId": "06569111-0de4-46c7-bc52-05d84e856607"
      },
      "execution_count": 4,
      "outputs": [
        {
          "output_type": "stream",
          "name": "stdout",
          "text": [
            "2\n",
            "4\n",
            "6\n",
            "8\n",
            "10\n"
          ]
        }
      ]
    },
    {
      "cell_type": "markdown",
      "source": [
        "Q4. What is a generator function in python? Why yield keyword is used? Give an example of a generator\n",
        "function."
      ],
      "metadata": {
        "id": "utk_hvW95har"
      }
    },
    {
      "cell_type": "markdown",
      "source": [
        "Ans:\n",
        "A generator function is a special type of function that generates a sequence of values using the yield keyword. Unlike normal functions that return a value and terminate, generator functions can pause and resume their execution, allowing them to produce a series of values over time.\n",
        "\n",
        "The yield keyword is used in a generator function to yield a value to the caller and suspend the function's execution. When the generator function is called again, it resumes execution from where it left off, maintaining its internal state.\n"
      ],
      "metadata": {
        "id": "WLcFR3wN52C4"
      }
    },
    {
      "cell_type": "code",
      "source": [
        "def even_numbers():\n",
        "    num = 0\n",
        "    while True:\n",
        "        yield num\n",
        "        num += 2\n",
        "\n",
        "# Create a generator object\n",
        "generator = even_numbers()\n",
        "\n",
        "# Print the first five even numbers\n",
        "for _ in range(5):\n",
        "    print(next(generator))\n"
      ],
      "metadata": {
        "colab": {
          "base_uri": "https://localhost:8080/"
        },
        "id": "xWC-xpgS61gI",
        "outputId": "7c0ae83d-238a-49fc-a90b-7c27c67a1968"
      },
      "execution_count": 5,
      "outputs": [
        {
          "output_type": "stream",
          "name": "stdout",
          "text": [
            "0\n",
            "2\n",
            "4\n",
            "6\n",
            "8\n"
          ]
        }
      ]
    },
    {
      "cell_type": "markdown",
      "source": [
        "Q5. Create a generator function for prime numbers less than 1000. Use the next() method to print the\n",
        "first 20 prime numbers."
      ],
      "metadata": {
        "id": "v_-gcGEG5x4p"
      }
    },
    {
      "cell_type": "code",
      "source": [
        "def prime_generator():\n",
        "    primes = []\n",
        "    num = 2\n",
        "    while num < 1000:\n",
        "        if all(num % p != 0 for p in primes):\n",
        "            primes.append(num)\n",
        "            yield num\n",
        "        num += 1\n",
        "\n",
        "# Create a generator object\n",
        "generator = prime_generator()\n",
        "\n",
        "# Print the first 20 prime numbers\n",
        "for _ in range(20):\n",
        "    prime = next(generator)\n",
        "    print(prime)\n"
      ],
      "metadata": {
        "colab": {
          "base_uri": "https://localhost:8080/"
        },
        "id": "a3ruYcYe7GTq",
        "outputId": "de3e58a9-5e2b-4f11-8490-a262aacbda42"
      },
      "execution_count": 6,
      "outputs": [
        {
          "output_type": "stream",
          "name": "stdout",
          "text": [
            "2\n",
            "3\n",
            "5\n",
            "7\n",
            "11\n",
            "13\n",
            "17\n",
            "19\n",
            "23\n",
            "29\n",
            "31\n",
            "37\n",
            "41\n",
            "43\n",
            "47\n",
            "53\n",
            "59\n",
            "61\n",
            "67\n",
            "71\n"
          ]
        }
      ]
    }
  ]
}