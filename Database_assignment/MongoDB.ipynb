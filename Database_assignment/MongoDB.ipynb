{
  "cells": [
    {
      "cell_type": "markdown",
      "metadata": {
        "colab_type": "text",
        "id": "view-in-github"
      },
      "source": [
        "<a href=\"https://colab.research.google.com/github/adeebkhan0706/pwskillsassignmnets/blob/main/MongoDB.ipynb\" target=\"_parent\"><img src=\"https://colab.research.google.com/assets/colab-badge.svg\" alt=\"Open In Colab\"/></a>"
      ]
    },
    {
      "cell_type": "markdown",
      "metadata": {},
      "source": [
        "# MongoDB"
      ]
    },
    {
      "cell_type": "markdown",
      "metadata": {
        "id": "EZHVEgHlxLV7"
      },
      "source": [
        "## Q1. What is MongoDB? Explain non-relational databases in short. In which scenarios it is preferred to use MongoDB over SQL databases?"
      ]
    },
    {
      "cell_type": "markdown",
      "metadata": {
        "id": "Jt4ejIfzxxRv"
      },
      "source": [
        "MongoDB is a popular open-source document-oriented NoSQL database. It falls under the category of non-relational databases, also known as NoSQL databases.\n",
        "\n",
        "Non-relational databases differ from traditional SQL databases by not using a fixed schema and not relying on tables with rows and columns. Instead, they store data in a more flexible and dynamic manner, usually using formats like key-value pairs, documents, or graphs. These databases are designed to handle large volumes of unstructured or semi-structured data and provide high scalability and performance.\n",
        "\n",
        "MongoDB, specifically, uses a document model where data is stored in flexible, JSON-like documents called BSON (Binary JSON). It allows for nested data structures and supports a variety of data types. MongoDB also provides rich querying capabilities, indexing, and automatic sharding for horizontal scaling.\n",
        "\n",
        "MongoDB is often preferred over SQL databases in scenarios where:\n",
        "\n",
        "1. Flexibility of data structure: MongoDB's schema-less nature allows you to store data without a predefined structure. This is advantageous when dealing with rapidly changing or evolving data, as you can easily add or modify fields in the documents.\n",
        "\n",
        "2. Scalability and performance: MongoDB is built to scale horizontally, distributing data across multiple servers or clusters. It can handle high-volume workloads and is designed for efficient read and write operations.\n",
        "\n",
        "3. Agile development: MongoDB's flexible schema makes it suitable for agile development methodologies, where application requirements may change frequently. It enables developers to iterate quickly and adapt to evolving business needs.\n",
        "\n",
        "4. Unstructured or semi-structured data: If your data has a variable structure or lacks a rigid schema, MongoDB's document model provides a better fit. It allows you to store and query diverse data types within the same collection.\n",
        "\n",
        "5. Real-time analytics and event-driven applications: MongoDB's ability to handle high write loads and support real-time analytics makes it well-suited for applications involving large-scale data ingestion, event-driven architectures, and data-driven decision-making processes."
      ]
    },
    {
      "cell_type": "markdown",
      "metadata": {
        "id": "b_ZzcJMkxLT2"
      },
      "source": [
        "## Q2. State and Explain the features of MongoDB."
      ]
    },
    {
      "cell_type": "markdown",
      "metadata": {
        "id": "28MY6SKOxLRZ"
      },
      "source": [
        "MongoDB offers several key features that make it a popular choice for building modern applications. Here are some of the prominent features of MongoDB:\n",
        "\n",
        "1. Document-oriented: MongoDB stores data in flexible, self-descriptive documents using BSON (Binary JSON). This document model allows for easy representation of complex relationships and hierarchical data structures.\n",
        "\n",
        "2. Flexible schema: Unlike traditional SQL databases, MongoDB does not enforce a fixed schema. It allows you to store different types of data in the same collection, and documents within a collection can have varying structures. This flexibility enables agile development and makes it easier to evolve your data model over time.\n",
        "\n",
        "3. Scalability and high availability: MongoDB is designed to scale horizontally by distributing data across multiple servers or clusters. It supports automatic sharding, allowing you to handle large data volumes and high traffic loads. MongoDB also provides built-in replication for high availability, ensuring data durability and fault tolerance.\n",
        "\n",
        "4. Rich query language: MongoDB's query language allows for powerful and expressive queries. It supports a wide range of query types, including field-based queries, range queries, text search, and geospatial queries. MongoDB also provides aggregation framework for advanced data processing and analytics.\n",
        "\n",
        "5. Indexing and performance optimization: MongoDB supports various indexing techniques to improve query performance. It allows you to create indexes on individual fields, compound indexes across multiple fields, and even text indexes for efficient text search. Indexing helps speed up query execution and enhances overall performance.\n",
        "\n",
        "6. Ad hoc queries: MongoDB allows you to perform ad hoc queries on your data without requiring a predefined schema or data model. This flexibility is particularly useful during the initial stages of development or when dealing with evolving requirements.\n",
        "\n",
        "7. Geospatial capabilities: MongoDB provides geospatial indexes and operators to support location-based queries and geospatial data processing. This makes it suitable for applications involving mapping, geolocation, or spatial analysis.\n",
        "\n",
        "8. Full-text search: MongoDB offers built-in full-text search capabilities, allowing you to perform text-based searches across documents and collections. This feature enables efficient search functionality without the need for external search engines.\n",
        "\n",
        "9. Automatic sharding and load balancing: MongoDB automatically distributes data across multiple shards (partitions) based on predefined shard keys. This ensures data is evenly distributed and provides horizontal scalability. Load balancing is also handled by MongoDB, optimizing resource utilization across the cluster.\n",
        "\n",
        "10. Support for transactions: Starting from version 4.0, MongoDB introduced multi-document ACID transactions, allowing you to perform complex, multi-step operations that require atomicity and consistency across multiple documents or collections."
      ]
    },
    {
      "cell_type": "markdown",
      "metadata": {
        "id": "-HUwo8A1xLPF"
      },
      "source": [
        "## Q3. Write a code to connect MongoDB to Python. Also, create a database and a collection in MongoDB."
      ]
    },
    {
      "cell_type": "code",
      "execution_count": null,
      "metadata": {
        "id": "Qm73UFX9ywFE"
      },
      "outputs": [],
      "source": [
        "import pymongo\n",
        "\n",
        "# Establish a connection to MongoDB\n",
        "client = pymongo.MongoClient(\"mongodb://localhost:27017\")\n",
        "\n",
        "# Create or access a database\n",
        "database = client[\"mydatabase\"]\n",
        "\n",
        "# Create or access a collection within the database\n",
        "collection = database[\"mycollection\"]\n",
        "\n",
        "# Insert a document into the collection\n",
        "document = {\"name\": \"John Doe\", \"age\": 30}\n",
        "inserted_document = collection.insert_one(document)\n",
        "print(\"Inserted document ID:\", inserted_document.inserted_id)\n",
        "\n",
        "# Close the MongoDB connection\n",
        "client.close()\n"
      ]
    },
    {
      "cell_type": "markdown",
      "metadata": {
        "id": "siqO6LzBxLNB"
      },
      "source": [
        "In the above code, we import the pymongo module, which provides the necessary functions and classes for interacting with MongoDB. We then establish a connection to MongoDB using the MongoClient class and specify the connection URL (mongodb://localhost:27017 in this case, assuming MongoDB is running on the default port on the local machine).\n",
        "\n",
        "Next, we create or access a database named \"mydatabase\" using the client[\"mydatabase\"] syntax. Similarly, we create or access a collection named \"mycollection\" within the database using the database[\"mycollection\"] syntax.\n",
        "\n",
        "We then define a document, in this case, a dictionary containing a name and an age field. We insert this document into the collection using the insert_one() method of the collection object. The inserted_id property of the returned InsertOneResult object contains the unique identifier of the inserted document.\n",
        "\n",
        "Finally, we close the MongoDB connection using the close() method of the client object."
      ]
    },
    {
      "cell_type": "markdown",
      "metadata": {
        "id": "GuOTGtp0xLKl"
      },
      "source": [
        "## Q4. Using the database and the collection created in question number 3, write a code to insert one record, and insert many records. Use the find() and find_one() methods to print the inserted record."
      ]
    },
    {
      "cell_type": "code",
      "execution_count": null,
      "metadata": {
        "id": "njNGpTcyzNSL"
      },
      "outputs": [],
      "source": [
        "import pymongo\n",
        "\n",
        "# Establish a connection to MongoDB\n",
        "client = pymongo.MongoClient(\"mongodb://localhost:27017\")\n",
        "\n",
        "# Access the database and collection\n",
        "database = client[\"mydatabase\"]\n",
        "collection = database[\"mycollection\"]\n",
        "\n",
        "# Insert one record\n",
        "document = {\"name\": \"Alice\", \"age\": 25}\n",
        "inserted_document = collection.insert_one(document)\n",
        "print(\"Inserted document ID:\", inserted_document.inserted_id)\n",
        "\n",
        "# Insert many records\n",
        "documents = [\n",
        "    {\"name\": \"Bob\", \"age\": 30},\n",
        "    {\"name\": \"Charlie\", \"age\": 35},\n",
        "    {\"name\": \"Eve\", \"age\": 28}\n",
        "]\n",
        "inserted_documents = collection.insert_many(documents)\n",
        "print(\"Inserted document IDs:\", inserted_documents.inserted_ids)\n",
        "\n",
        "# Find and print the inserted record using find_one()\n",
        "result = collection.find_one({\"name\": \"Alice\"})\n",
        "print(\"Single inserted record:\", result)\n",
        "\n",
        "# Find and print all inserted records using find()\n",
        "results = collection.find()\n",
        "print(\"All inserted records:\")\n",
        "for result in results:\n",
        "    print(result)\n",
        "\n",
        "# Close the MongoDB connection\n",
        "client.close()\n"
      ]
    },
    {
      "cell_type": "markdown",
      "metadata": {
        "id": "mjEdnGuvxLIB"
      },
      "source": [
        "In the above code, after connecting to MongoDB and accessing the database and collection, we first insert one record using the insert_one() method. The inserted document's ID is printed using the inserted_id property.\n",
        "\n",
        "Then, we insert multiple records using the insert_many() method. The IDs of the inserted documents are printed using the inserted_ids property.\n",
        "\n",
        "Next, we use the find_one() method to retrieve and print the single inserted record with the name \"Alice\". We pass a query object {\"name\": \"Alice\"} to match the document.\n",
        "\n",
        "After that, we use the find() method to retrieve and print all inserted records. The find() method returns a cursor, and we iterate over the cursor to print each document.\n",
        "\n",
        "Finally, we close the MongoDB connection."
      ]
    },
    {
      "cell_type": "markdown",
      "metadata": {
        "id": "jVWIgfOixLFl"
      },
      "source": [
        "## Q5. Explain how you can use the find() method to query the MongoDB database. Write a simple code to demonstrate this."
      ]
    },
    {
      "cell_type": "code",
      "execution_count": null,
      "metadata": {
        "id": "lan5MOzHzeKK"
      },
      "outputs": [],
      "source": [
        "import pymongo\n",
        "\n",
        "# Establish a connection to MongoDB\n",
        "client = pymongo.MongoClient(\"mongodb://localhost:27017\")\n",
        "\n",
        "# Access the database and collection\n",
        "database = client[\"mydatabase\"]\n",
        "collection = database[\"mycollection\"]\n",
        "\n",
        "# Insert sample documents\n",
        "documents = [\n",
        "    {\"name\": \"Alice\", \"age\": 25},\n",
        "    {\"name\": \"Bob\", \"age\": 30},\n",
        "    {\"name\": \"Charlie\", \"age\": 35},\n",
        "    {\"name\": \"Eve\", \"age\": 28}\n",
        "]\n",
        "collection.insert_many(documents)\n",
        "\n",
        "# Find documents with age greater than or equal to 30\n",
        "query = {\"age\": {\"$gte\": 30}}\n",
        "results = collection.find(query)\n",
        "\n",
        "# Print the matched documents\n",
        "print(\"Matching documents:\")\n",
        "for result in results:\n",
        "    print(result)\n",
        "\n",
        "# Close the MongoDB connection\n",
        "client.close()\n"
      ]
    },
    {
      "cell_type": "markdown",
      "metadata": {
        "id": "5HqbhIE4xlfb"
      },
      "source": [
        "In the above code, after connecting to MongoDB and accessing the database and collection, we insert multiple sample documents into the collection using the insert_many() method.\n",
        "\n",
        "Then, we define a query object {\"age\": {\"$gte\": 30}}, which matches documents with an age greater than or equal to 30. Here, $gte is a MongoDB query operator that represents the greater than or equal to condition.\n",
        "\n",
        "We pass the query object as a parameter to the find() method. The find() method returns a cursor, and we iterate over the cursor using a for loop to print each matched document.\n",
        "\n",
        "In this example, the output will be the documents with the name \"Bob\" and \"Charlie\" since their ages are greater than or equal to 30."
      ]
    },
    {
      "cell_type": "markdown",
      "metadata": {
        "id": "Ef8zFPDzxlc3"
      },
      "source": [
        "## Q6. Explain the sort() method. Give an example to demonstrate sorting in MongoDB."
      ]
    },
    {
      "cell_type": "markdown",
      "metadata": {
        "id": "1WWizD9Lxlaj"
      },
      "source": [
        "The sort() method in MongoDB is used to sort the documents in a collection based on one or more fields. It allows you to specify the sorting order, either in ascending (default) or descending order, for the specified fields.\n",
        "\n",
        "The sort() method takes a query object as an optional parameter to filter the documents before sorting. It returns a cursor with the sorted results."
      ]
    },
    {
      "cell_type": "code",
      "execution_count": null,
      "metadata": {
        "id": "4-bmFnnVzvqE"
      },
      "outputs": [],
      "source": [
        "import pymongo\n",
        "\n",
        "# Establish a connection to MongoDB\n",
        "client = pymongo.MongoClient(\"mongodb://localhost:27017\")\n",
        "\n",
        "# Access the database and collection\n",
        "database = client[\"mydatabase\"]\n",
        "collection = database[\"mycollection\"]\n",
        "\n",
        "# Insert sample documents\n",
        "documents = [\n",
        "    {\"name\": \"Alice\", \"age\": 25},\n",
        "    {\"name\": \"Bob\", \"age\": 30},\n",
        "    {\"name\": \"Charlie\", \"age\": 35},\n",
        "    {\"name\": \"Eve\", \"age\": 28}\n",
        "]\n",
        "collection.insert_many(documents)\n",
        "\n",
        "# Sort documents by age in ascending order\n",
        "results_asc = collection.find().sort(\"age\")\n",
        "\n",
        "# Print the sorted documents in ascending order\n",
        "print(\"Sorted documents (ascending):\")\n",
        "for result in results_asc:\n",
        "    print(result)\n",
        "\n",
        "# Sort documents by age in descending order\n",
        "results_desc = collection.find().sort(\"age\", pymongo.DESCENDING)\n",
        "\n",
        "# Print the sorted documents in descending order\n",
        "print(\"Sorted documents (descending):\")\n",
        "for result in results_desc:\n",
        "    print(result)\n",
        "\n",
        "# Close the MongoDB connection\n",
        "client.close()\n"
      ]
    },
    {
      "cell_type": "markdown",
      "metadata": {
        "id": "rOMIFYbBzzGG"
      },
      "source": [
        "In the above code, after connecting to MongoDB and accessing the database and collection, we insert multiple sample documents into the collection using the insert_many() method.\n",
        "\n",
        "To sort the documents, we use the sort() method on the cursor returned by the find() method. In the first example, we sort the documents in ascending order based on the \"age\" field by passing the field name \"age\" to the sort() method.\n",
        "\n",
        "We iterate over the cursor and print the sorted documents in ascending order.\n",
        "\n",
        "In the second example, we sort the documents in descending order by adding the pymongo.DESCENDING parameter to the sort() method.\n",
        "\n",
        "Again, we iterate over the cursor and print the sorted documents in descending order.\n",
        "\n",
        "The output will show the documents sorted based on the \"age\" field in the specified order."
      ]
    },
    {
      "cell_type": "markdown",
      "metadata": {
        "id": "B7fhCV9AxlYQ"
      },
      "source": [
        "## Q7. Explain why delete_one(), delete_many(), and drop() is used."
      ]
    },
    {
      "cell_type": "markdown",
      "metadata": {
        "id": "z39dueY2xlV5"
      },
      "source": [
        "In MongoDB, the delete_one(), delete_many(), and drop() methods are used to remove documents or collections from a MongoDB database. Here's an explanation of each method:\n",
        "\n",
        "\n",
        "1. The delete_one() method is used to delete a single document that matches the specified filter.\n",
        "It takes a filter object as a parameter, which defines the criteria for matching the document to be deleted.\n",
        "If multiple documents match the filter, only the first document encountered is deleted.\n",
        "This method is useful when you want to delete a specific document based on certain conditions.\n",
        "delete_many(filter)\n",
        "\n",
        "2. The delete_many() method is used to delete multiple documents that match the specified filter.\n",
        "It takes a filter object as a parameter, similar to delete_one().\n",
        "All the documents that match the filter are deleted.\n",
        "This method is useful when you want to delete multiple documents that meet certain criteria.\n",
        "drop()\n",
        "\n",
        "3. The drop() method is used to remove an entire collection from the database.\n",
        "It does not take any parameters.\n",
        "When you drop a collection, all the documents in that collection are permanently deleted.\n",
        "This method is useful when you want to remove an entire collection and its associated data.\n",
        "These methods provide different levels of granularity for removing data in MongoDB. You can use delete_one() to selectively delete individual documents, delete_many() to delete multiple documents at once, and drop() to remove an entire collection."
      ]
    },
    {
      "cell_type": "code",
      "execution_count": null,
      "metadata": {
        "id": "Z7W7UzUR0xAe"
      },
      "outputs": [],
      "source": []
    }
  ],
  "metadata": {
    "colab": {
      "authorship_tag": "ABX9TyMz3XECTH9+5w4WGutvH2z5",
      "include_colab_link": true,
      "provenance": []
    },
    "kernelspec": {
      "display_name": "Python 3",
      "name": "python3"
    },
    "language_info": {
      "name": "python"
    }
  },
  "nbformat": 4,
  "nbformat_minor": 0
}
