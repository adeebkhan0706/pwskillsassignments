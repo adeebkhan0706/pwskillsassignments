{
  "cells": [
    {
      "cell_type": "markdown",
      "metadata": {
        "colab_type": "text",
        "id": "view-in-github"
      },
      "source": [
        "<a href=\"https://colab.research.google.com/github/adeebkhan0706/pwskillsassignmnets/blob/main/MySQL_assignment.ipynb\" target=\"_parent\"><img src=\"https://colab.research.google.com/assets/colab-badge.svg\" alt=\"Open In Colab\"/></a>"
      ]
    },
    {
      "cell_type": "markdown",
      "metadata": {},
      "source": [
        "# MySQL Assignment"
      ]
    },
    {
      "cell_type": "markdown",
      "metadata": {
        "id": "kcUJTqfwGy6h"
      },
      "source": [
        "## Q1. What is a database? Differentiate between SQL and NoSQL databases."
      ]
    },
    {
      "cell_type": "markdown",
      "metadata": {
        "id": "HiT35hvWIE6q"
      },
      "source": [
        "A database is a structured collection of data that is organized and stored in a way that allows for efficient retrieval, manipulation, and management of the data. It serves as a reliable and central repository for storing and managing information for various applications and systems.\n",
        "\n",
        "SQL and NoSQL are two different types of database management systems, each with its own characteristics and use cases:\n",
        "\n",
        "SQL (Structured Query Language) databases:\n",
        "\n",
        "1. SQL databases are based on a relational\n",
        "model and use structured query language (SQL) for defining and manipulating the data.\n",
        "2. They have a predefined schema that determines the structure of the data and the relationships between different tables.\n",
        "3. SQL databases provide strong data consistency, enforce data integrity through constraints, and support complex queries with the help of joins and aggregations.\n",
        "4. Examples of SQL databases include MySQL, Oracle Database, PostgreSQL, and Microsoft SQL Server.\n",
        "\n",
        "\n",
        "NoSQL (Not Only SQL) databases:\n",
        "\n",
        "1. NoSQL databases are designed to handle large amounts of unstructured and semi-structured data, such as documents, key-value pairs, graphs, or time-series data.\n",
        "2. They are schema-less, meaning that the structure of the data can be dynamic and can vary across different records.\n",
        "NoSQL databases provide high scalability and performance by allowing for distributed architectures and horizontal scaling.\n",
        "3. They are often used for applications with rapidly changing requirements, big data processing, real-time analytics, and handling massive amounts of user-generated data.\n",
        "4. Examples of NoSQL databases include MongoDB, Cassandra, CouchDB, and Redis."
      ]
    },
    {
      "cell_type": "markdown",
      "metadata": {
        "id": "gxfkBByHGy2-"
      },
      "source": [
        "## Q2. What is DDL? Explain why CREATE, DROP, ALTER, and TRUNCATE are used with an example."
      ]
    },
    {
      "cell_type": "markdown",
      "metadata": {
        "id": "IvSR98bYIFmb"
      },
      "source": [
        "A2.\n",
        "\n",
        "DDL stands for Data Definition Language. It is a subset of SQL (Structured Query Language) that is used to define and manage the structure of a database. DDL statements are responsible for creating, modifying, and deleting database objects such as tables, indexes, views, and constraints.\n",
        "\n",
        "Here are explanations of the commonly used DDL statements along with examples:\n",
        "\n",
        "1. CREATE:\n",
        "The CREATE statement is used to create new database objects. For example, to create a table named \"Customers\" with columns for customer ID, name, and email, you would use the following SQL statement:"
      ]
    },
    {
      "cell_type": "code",
      "execution_count": null,
      "metadata": {
        "id": "BaF63HnkMvzS"
      },
      "outputs": [],
      "source": [
        "CREATE TABLE Customers (\n",
        "    CustomerID INT,\n",
        "    Name VARCHAR(50),\n",
        "    Email VARCHAR(100)\n",
        ");"
      ]
    },
    {
      "cell_type": "markdown",
      "metadata": {
        "id": "BiLywZ-gM044"
      },
      "source": [
        "2. DROP:\n",
        "The DROP statement is used to delete an existing database object. For example, to delete the \"Customers\" table created earlier, you would use the following SQL statement:"
      ]
    },
    {
      "cell_type": "code",
      "execution_count": null,
      "metadata": {
        "id": "84No3q1HM53X"
      },
      "outputs": [],
      "source": [
        "DROP TABLE Customers;"
      ]
    },
    {
      "cell_type": "markdown",
      "metadata": {
        "id": "Gs2GaZkdM8Er"
      },
      "source": [
        "3. ALTER:\n",
        "The ALTER statement is used to modify the structure of an existing database object. It can be used to add, modify, or delete columns, constraints, or indexes. For example, to add a new column \"Phone\" to the \"Customers\" table, you would use the following SQL statement:"
      ]
    },
    {
      "cell_type": "code",
      "execution_count": null,
      "metadata": {
        "id": "sssrFQT4NBnR"
      },
      "outputs": [],
      "source": [
        "ALTER TABLE Customers\n",
        "ADD Phone VARCHAR(15);"
      ]
    },
    {
      "cell_type": "markdown",
      "metadata": {
        "id": "3wHYWqvaNIkb"
      },
      "source": [
        "4. TRUNCATE:\n",
        "The TRUNCATE statement is used to remove all data from a table while keeping its structure intact. It is faster and more efficient than using the DELETE statement to remove all rows. For example, to remove all data from the \"Customers\" table, you would use the following SQL statement:"
      ]
    },
    {
      "cell_type": "code",
      "execution_count": null,
      "metadata": {
        "id": "DMW0RMpoNUwb"
      },
      "outputs": [],
      "source": [
        "TRUNCATE TABLE Customers;"
      ]
    },
    {
      "cell_type": "markdown",
      "metadata": {
        "id": "2yPPvxA_NWXo"
      },
      "source": []
    },
    {
      "cell_type": "markdown",
      "metadata": {
        "id": "HvzNtC67Gy0U"
      },
      "source": [
        "## Q3. What is DML? Explain INSERT, UPDATE, and DELETE with an example."
      ]
    },
    {
      "cell_type": "markdown",
      "metadata": {
        "id": "cUOW6EtWIGYE"
      },
      "source": [
        "A3.\n",
        "\n",
        "DML stands for Data Manipulation Language. It is a subset of SQL (Structured Query Language) used to manipulate and work with the data stored in a database. DML statements are responsible for inserting, updating, and deleting data within database tables.\n",
        "\n",
        "Here are explanations of the commonly used DML statements along with examples:\n",
        "\n",
        "1. INSERT:\n",
        "The INSERT statement is used to add new records or rows into a table. It allows you to specify the values to be inserted into specific columns. For example, to insert a new record into the \"Customers\" table with values for the customer's name and email, you would use the following SQL statement:"
      ]
    },
    {
      "cell_type": "code",
      "execution_count": null,
      "metadata": {
        "id": "PfXBzcu1N7kB"
      },
      "outputs": [],
      "source": [
        "INSERT INTO Customers (Name, Email)\n",
        "VALUES ('John Doe', 'johndoe@example.com');"
      ]
    },
    {
      "cell_type": "markdown",
      "metadata": {
        "id": "i-Zjfe88OIX2"
      },
      "source": [
        "2. UPDATE:\n",
        "The UPDATE statement is used to modify existing records in a table. It allows you to change the values of specific columns based on specified conditions. For example, to update the email address of a customer with a specific customer ID, you would use the following SQL statement:"
      ]
    },
    {
      "cell_type": "code",
      "execution_count": null,
      "metadata": {
        "id": "KjKE-drxOQRJ"
      },
      "outputs": [],
      "source": [
        "UPDATE Customers\n",
        "SET Email = 'newemail@example.com'\n",
        "WHERE CustomerID = 123;"
      ]
    },
    {
      "cell_type": "markdown",
      "metadata": {
        "id": "BKFs9z16OgE5"
      },
      "source": [
        "3. DELETE:\n",
        "The DELETE statement is used to remove records from a table based on specified conditions. It allows you to delete one or more rows that meet the specified criteria. For example, to delete all customers with a specific name from the \"Customers\" table, you would use the following SQL statement:"
      ]
    },
    {
      "cell_type": "code",
      "execution_count": null,
      "metadata": {
        "id": "PMYJX8WEOuLO"
      },
      "outputs": [],
      "source": [
        "DELETE FROM Customers\n",
        "WHERE Name = 'John Doe';"
      ]
    },
    {
      "cell_type": "markdown",
      "metadata": {
        "id": "g9p5PxyUGyx_"
      },
      "source": [
        "## Q4. What is DQL? Explain SELECT with an example."
      ]
    },
    {
      "cell_type": "markdown",
      "metadata": {
        "id": "a895Ak3bIG6c"
      },
      "source": [
        "A4.\n",
        "\n",
        "DQL stands for Data Query Language. It is a subset of SQL (Structured Query Language) used to retrieve and query data from a database. DQL statements are primarily focused on retrieving data from one or more tables based on specified conditions.\n",
        "\n",
        "The most commonly used DQL statement is SELECT, which allows you to retrieve data from one or more tables and specify conditions, sorting, grouping, and other criteria. Here's an explanation of the SELECT statement with an example:\n",
        "\n",
        "SELECT:\n",
        "The SELECT statement is used to retrieve data from a table or multiple tables. It allows you to specify the columns to be retrieved, filter the data using conditions, perform aggregations, and more. Here's a basic example of the SELECT statement:"
      ]
    },
    {
      "cell_type": "code",
      "execution_count": null,
      "metadata": {
        "id": "12LctY2PPIBI"
      },
      "outputs": [],
      "source": [
        "SELECT column1, column2, ...\n",
        "FROM table_name\n",
        "WHERE condition;"
      ]
    },
    {
      "cell_type": "markdown",
      "metadata": {
        "id": "dO4lLIjhPT12"
      },
      "source": [
        "* column1, column2, ...: Specifies the\n",
        "columns to be retrieved from the table. You can also use the wildcard (*) to select all columns.\n",
        "* table_name: Specifies the name of the table from which data is to be retrieved.\n",
        "* WHERE condition: Optional clause that specifies the conditions for filtering the data. It allows you to specify conditions using logical operators (e.g., AND, OR) and comparison operators (e.g., =, <, >).\n",
        "\n",
        "Example:\n",
        "Let's say we have a table called \"Employees\" with columns such as EmployeeID, FirstName, LastName, Age, and Salary. To retrieve the EmployeeID, FirstName, and LastName of all employees with a salary greater than $50,000, you would use the following SQL statement:"
      ]
    },
    {
      "cell_type": "code",
      "execution_count": null,
      "metadata": {
        "id": "KYIp_rKgRY9X"
      },
      "outputs": [],
      "source": [
        "SELECT EmployeeID, FirstName, LastName\n",
        "FROM Employees\n",
        "WHERE Salary > 50000;\n"
      ]
    },
    {
      "cell_type": "markdown",
      "metadata": {
        "id": "MNj5I3uQRdqp"
      },
      "source": [
        "This SELECT statement will retrieve the EmployeeID, FirstName, and LastName columns from the \"Employees\" table, but only for those employees whose salary is greater than $50,000."
      ]
    },
    {
      "cell_type": "markdown",
      "metadata": {
        "id": "AC86UD5pGyvY"
      },
      "source": [
        "## Q5. Explain Primary Key and Foreign Key."
      ]
    },
    {
      "cell_type": "markdown",
      "metadata": {
        "id": "1l-uZ4E-IHlq"
      },
      "source": [
        "A5.\n",
        "\n",
        "Primary Key:\n",
        "A primary key is a unique identifier for a record in a database table. It is a column or a combination of columns that uniquely identifies each row in a table. The primary key enforces entity integrity by ensuring that each row in a table is uniquely identifiable. Here are some key characteristics of a primary key:\n",
        "\n",
        "1. Uniqueness: Every value in the primary key column(s) must be unique. No two rows in the table can have the same primary key value.\n",
        "2. Non-nullability: A primary key value cannot be null. It must have a value for every record in the table.\n",
        "3. Immutable: The primary key value should not change once it is assigned to a record. This ensures stability and consistency of the key.\n",
        "\n",
        "\n",
        "The primary key is typically used to identify and retrieve specific rows in a table. It serves as a reference point for other tables to establish relationships through foreign keys.\n",
        "\n",
        "Foreign Key:\n",
        "A foreign key is a column or a combination of columns in a table that refers to the primary key of another table. It establishes a relationship between two tables, where the foreign key in one table refers to the primary key in another table. Here are some key characteristics of a foreign key:\n",
        "\n",
        "1. Referential Integrity: The foreign key ensures referential integrity, which means that the values in the foreign key column(s) must correspond to existing values in the primary key column(s) of the referenced table.\n",
        "2. Relationship Establishment: The foreign key establishes a relationship between two tables, representing the associations or dependencies between the data in those tables.\n",
        "3. Cascading Actions: Foreign keys can also define cascading actions, such as ON DELETE and ON UPDATE, to specify what should happen to dependent records when the referenced record in the primary key table is deleted or updated.\n",
        "\n",
        "\n",
        "By using foreign keys, you can create relationships between tables, enforce data integrity, and enable efficient querying and retrieval of related data. They play a crucial role in maintaining the consistency and integrity of the data across multiple tables in a database."
      ]
    },
    {
      "cell_type": "markdown",
      "metadata": {
        "id": "ZKZX-d-JGyR5"
      },
      "source": [
        "## Q6. Write a python code to connect MySQL to python. Explain the cursor() and execute() method."
      ]
    },
    {
      "cell_type": "markdown",
      "metadata": {
        "id": "Zd5HpVPEIIw7"
      },
      "source": [
        "\n",
        "To connect MySQL to Python, you need to install the MySQL Connector/Python library. You can install it using the following command:"
      ]
    },
    {
      "cell_type": "code",
      "execution_count": null,
      "metadata": {
        "id": "QKN4YTsUUBlJ"
      },
      "outputs": [],
      "source": [
        "pip install mysql-connector-python"
      ]
    },
    {
      "cell_type": "markdown",
      "metadata": {
        "id": "bT1dXrKzUSZs"
      },
      "source": [
        "Once installed, you can use the library to establish a connection to a MySQL database and execute SQL queries. Here's an example code snippet that demonstrates how to connect to MySQL and execute a simple query:"
      ]
    },
    {
      "cell_type": "code",
      "execution_count": null,
      "metadata": {
        "id": "Pqju-5hNUi6N"
      },
      "outputs": [],
      "source": [
        "import mysql.connector\n",
        "\n",
        "# Establish a connection to the MySQL server\n",
        "mydb = mysql.connector.connect(\n",
        "  host=\"localhost\",\n",
        "  user=\"your_username\",\n",
        "  password=\"your_password\",\n",
        "  database=\"your_database\"\n",
        ")\n",
        "\n",
        "# Create a cursor object to interact with the database\n",
        "cursor = mydb.cursor()\n",
        "\n",
        "# Execute a SQL query\n",
        "query = \"SELECT * FROM employees\"\n",
        "cursor.execute(query)\n",
        "\n",
        "# Fetch all the rows returned by the query\n",
        "rows = cursor.fetchall()\n",
        "\n",
        "# Process the fetched rows\n",
        "for row in rows:\n",
        "  print(row)\n",
        "\n",
        "# Close the cursor and the database connection\n",
        "cursor.close()\n",
        "mydb.close()"
      ]
    },
    {
      "cell_type": "markdown",
      "metadata": {
        "id": "iqHC1zciVIg8"
      },
      "source": [
        "Explanation:\n",
        "\n",
        "1. Import the mysql.connector module to use the MySQL Connector/Python library.\n",
        "\n",
        "2. Use the mysql.connector.connect() function to establish a connection to the MySQL server. Pass the host, user, password, and database details as parameters.\n",
        "\n",
        "3. Create a cursor object by calling the cursor() method on the connection object (mydb). The cursor allows you to execute SQL queries and fetch the results.\n",
        "\n",
        "4. Use the execute() method on the cursor to execute a SQL query. Pass the query as a parameter to the execute() method.\n",
        "\n",
        "5. After executing the query, you can fetch the rows returned by the query using the fetchall() method on the cursor. This method retrieves all the rows as a list of tuples.\n",
        "\n",
        "6. Process the fetched rows as per your requirement. In the example, the rows are simply printed.\n",
        "\n",
        "7. Close the cursor and the database connection to release the resources.\n",
        "\n",
        "The cursor() method creates a cursor object, which provides methods for executing SQL queries and fetching results. It acts as a handle to perform operations on the database.\n",
        "\n",
        "The execute() method is used to execute SQL queries. You pass the query as a parameter to this method. The execute() method can be used for SELECT, INSERT, UPDATE, DELETE, and other SQL statements. After executing a SELECT query, you can fetch the rows using methods like fetchall(), fetchone(), etc., on the cursor object."
      ]
    },
    {
      "cell_type": "markdown",
      "metadata": {
        "id": "Z8eYH4KJHdOa"
      },
      "source": [
        "## Q7. Give the order of execution of SQL clauses in an SQL query."
      ]
    },
    {
      "cell_type": "markdown",
      "metadata": {
        "id": "aVNhZQmnIM_C"
      },
      "source": [
        "The order of execution of SQL clauses in an SQL query is as follows:\n",
        "\n",
        "1. FROM clause: Specifies the table(s) from which data will be retrieved.\n",
        "\n",
        "2. WHERE clause: Filters the data based on specified conditions.\n",
        "\n",
        "3. GROUP BY clause: Groups the data based on specified columns.\n",
        "\n",
        "4. HAVING clause: Filters the grouped data based on specified conditions.\n",
        "\n",
        "5. SELECT clause: Specifies the columns to be retrieved from the table(s).\n",
        "\n",
        "6. ORDER BY clause: Sorts the retrieved data based on specified columns.\n",
        "\n",
        "7. LIMIT/OFFSET clause: Limits the number of rows to be returned or skips a certain number of rows.\n",
        "\n",
        "It's important to note that not all clauses are required in every SQL query. The clauses mentioned above may or may not be present depending on the specific requirements of the query. Additionally, the clauses can be combined in various ways to construct complex SQL queries that meet specific data retrieval and manipulation needs."
      ]
    },
    {
      "cell_type": "code",
      "execution_count": null,
      "metadata": {
        "id": "Qjr97KcoWmGE"
      },
      "outputs": [],
      "source": []
    }
  ],
  "metadata": {
    "colab": {
      "authorship_tag": "ABX9TyMYqifacdi34DeRUNJGYnYo",
      "include_colab_link": true,
      "provenance": []
    },
    "kernelspec": {
      "display_name": "Python 3",
      "name": "python3"
    },
    "language_info": {
      "name": "python"
    }
  },
  "nbformat": 4,
  "nbformat_minor": 0
}
