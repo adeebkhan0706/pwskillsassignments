{
 "cells": [
  {
   "cell_type": "markdown",
   "metadata": {},
   "source": [
    "## 1. Generate a dataset using two columns one is CGPA whose values are in between 0 to 10 and the other column is of package(LPA) whose values are in range of 0 to 12q"
   ]
  },
  {
   "cell_type": "code",
   "execution_count": 5,
   "metadata": {},
   "outputs": [
    {
     "name": "stdout",
     "output_type": "stream",
     "text": [
      "       CGPA  Package (LPA)\n",
      "0  6.426653       9.598158\n",
      "1  2.600472       6.519294\n",
      "2  5.914755      10.927685\n",
      "3  3.457108       1.418587\n",
      "4  7.608255       7.144933\n"
     ]
    }
   ],
   "source": [
    "import pandas as pd\n",
    "import numpy as np\n",
    "\n",
    "# Generate random data for CGPA and Package\n",
    "num_samples = 1000\n",
    "cgpa_values = np.random.uniform(0, 10, num_samples)\n",
    "package_values = np.random.uniform(0, 12, num_samples)\n",
    "\n",
    "# Create a DataFrame\n",
    "data = pd.DataFrame({\n",
    "    'CGPA': cgpa_values,\n",
    "    'Package (LPA)': package_values\n",
    "})\n",
    "\n",
    "# Display the first few rows of the DataFrame\n",
    "print(data.head())"
   ]
  },
  {
   "cell_type": "code",
   "execution_count": null,
   "metadata": {},
   "outputs": [],
   "source": []
  }
 ],
 "metadata": {
  "kernelspec": {
   "display_name": "Python 3",
   "language": "python",
   "name": "python3"
  },
  "language_info": {
   "codemirror_mode": {
    "name": "ipython",
    "version": 3
   },
   "file_extension": ".py",
   "mimetype": "text/x-python",
   "name": "python",
   "nbconvert_exporter": "python",
   "pygments_lexer": "ipython3",
   "version": "3.11.5"
  }
 },
 "nbformat": 4,
 "nbformat_minor": 2
}
