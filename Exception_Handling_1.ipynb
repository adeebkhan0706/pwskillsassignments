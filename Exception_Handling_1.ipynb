{
  "nbformat": 4,
  "nbformat_minor": 0,
  "metadata": {
    "colab": {
      "provenance": [],
      "authorship_tag": "ABX9TyMVevsNkWLV3Kkq+kLn3jYH",
      "include_colab_link": true
    },
    "kernelspec": {
      "name": "python3",
      "display_name": "Python 3"
    },
    "language_info": {
      "name": "python"
    }
  },
  "cells": [
    {
      "cell_type": "markdown",
      "metadata": {
        "id": "view-in-github",
        "colab_type": "text"
      },
      "source": [
        "<a href=\"https://colab.research.google.com/github/adeebkhan0706/pwskillsassignmnets/blob/main/Exception_Handling_1.ipynb\" target=\"_parent\"><img src=\"https://colab.research.google.com/assets/colab-badge.svg\" alt=\"Open In Colab\"/></a>"
      ]
    },
    {
      "cell_type": "markdown",
      "source": [
        "Q1. What is an Exception in python? Write the difference between Exceptions and Syntax errors"
      ],
      "metadata": {
        "id": "xjkL0CA5vKgF"
      }
    },
    {
      "cell_type": "markdown",
      "source": [
        "A1:\n",
        "An exception in Python is an event that occurs during the execution of a program, which disrupts the normal flow of the program's instructions. When an exceptional situation arises, Python raises an exception to handle it. Exceptions can be errors or other exceptional events that require special handling.\n",
        "\n",
        "Differences between exceptions and syntax errors:\n",
        "\n",
        "1. Definition: An exception is a runtime error or an exceptional event that occurs during the execution of a program. A syntax error, on the other hand, is a coding mistake that violates the rules of the Python language and prevents the code from being executed.\n",
        "\n",
        "2. Timing: Exceptions are detected and raised during the execution of a program, while syntax errors are identified during the parsing phase before the program is executed.\n",
        "\n",
        "3. Handling: Exceptions can be caught and handled using try-except blocks. By using exception handling mechanisms, you can gracefully handle exceptional situations and prevent the program from crashing. On the other hand, syntax errors need to be fixed by correcting the code before running it.\n",
        "\n",
        "4. Impact on Execution: When an exception occurs and is not handled, it can terminate the execution of the program. Syntax errors prevent the program from running altogether until the errors are fixed."
      ],
      "metadata": {
        "id": "QhacreStI8BY"
      }
    },
    {
      "cell_type": "markdown",
      "source": [
        "Q2. What happens when an exception is not handled? Explain with an example"
      ],
      "metadata": {
        "id": "yp1zLTMQJ5Ar"
      }
    },
    {
      "cell_type": "markdown",
      "source": [
        "When an exception is not handled in Python, it results in an unhandled exception, which can cause the program to terminate abruptly and display an error message known as a traceback. The traceback provides information about the type of exception, the line of code where the exception occurred, and the call stack leading to the exception."
      ],
      "metadata": {
        "id": "9Mx2QpuoKVv1"
      }
    },
    {
      "cell_type": "code",
      "source": [
        "def divide_numbers(a, b):\n",
        "    result = a / b\n",
        "    return result\n",
        "\n",
        "# Calling the function with invalid arguments\n",
        "result = divide_numbers(10, 0)\n",
        "print(result)"
      ],
      "metadata": {
        "id": "hnJLD2L3vMPK"
      },
      "execution_count": null,
      "outputs": []
    },
    {
      "cell_type": "markdown",
      "source": [
        "In this example, the divide_numbers function attempts to divide the first argument a by the second argument b. However, when b is 0, it raises a ZeroDivisionError exception because division by zero is not allowed.\n",
        "\n",
        "If this exception is not handled, the program will terminate and display a traceback"
      ],
      "metadata": {
        "id": "bvGCY1_4KdJC"
      }
    },
    {
      "cell_type": "markdown",
      "source": [
        "Q3. Which Python statements are used to catch and handle exceptions? Explain with an example"
      ],
      "metadata": {
        "id": "ZZ5kRRUwLIaR"
      }
    },
    {
      "cell_type": "markdown",
      "source": [
        "A3: In Python, the try and except statements are used to catch and handle exceptions. The try block is used to enclose the code that might raise an exception, and the except block is used to specify the handling code for the exception."
      ],
      "metadata": {
        "id": "7GTU8UHSLgfq"
      }
    },
    {
      "cell_type": "code",
      "source": [
        "def divide_numbers(a, b):\n",
        "    try:\n",
        "        result = a / b\n",
        "        return result\n",
        "    except ZeroDivisionError:\n",
        "        print(\"Error: Division by zero is not allowed.\")\n",
        "        return None\n",
        "\n",
        "# Calling the function with different arguments\n",
        "result1 = divide_numbers(10, 2)\n",
        "print(result1)  # Output: 5.0\n",
        "\n",
        "result2 = divide_numbers(10, 0)\n",
        "print(result2)  # Output: Error: Division by zero is not allowed.\n"
      ],
      "metadata": {
        "colab": {
          "base_uri": "https://localhost:8080/"
        },
        "id": "URZjcujwKh7q",
        "outputId": "87faec8e-5196-49b1-87a7-da660cb2591a"
      },
      "execution_count": null,
      "outputs": [
        {
          "output_type": "stream",
          "name": "stdout",
          "text": [
            "5.0\n",
            "Error: Division by zero is not allowed.\n",
            "None\n"
          ]
        }
      ]
    },
    {
      "cell_type": "markdown",
      "source": [
        "In this example, the divide_numbers function attempts to divide the first argument a by the second argument b. The try block encloses this division operation. If a ZeroDivisionError exception is raised during the division (when b is 0), the control flow jumps to the corresponding except block.\n",
        "\n",
        "In the except block, the specified exception type (ZeroDivisionError) is caught, and the code within the block is executed. In this case, it prints an error message stating that division by zero is not allowed and returns None. This prevents the program from terminating due to an unhandled exception.\n",
        "\n",
        "When the function is called with valid arguments, such as divide_numbers(10, 2), the division operation is successful, and the result is returned (5.0). When the function is called with invalid arguments, such as divide_numbers(10, 0), the ZeroDivisionError exception is raised, and the corresponding except block is executed. In this case, the error message is printed, and None is returned.\n",
        "\n",
        "By using the try and except statements, you can catch and handle specific exceptions, allowing your program to gracefully handle exceptional situations and continue execution without crashing."
      ],
      "metadata": {
        "id": "Kp1w5q83LnI2"
      }
    },
    {
      "cell_type": "markdown",
      "source": [
        "Q4. Explain with an example:\n",
        "  a. try and else\n",
        "  b. finally\n",
        "  c. raise"
      ],
      "metadata": {
        "id": "drd9YHTzM0E9"
      }
    },
    {
      "cell_type": "markdown",
      "source": [
        "a. try and else:\n",
        "The try and else statements work together to define a block of code that might raise an exception and a block of code that should be executed if no exception occurs."
      ],
      "metadata": {
        "id": "PQQCc-nHQAjq"
      }
    },
    {
      "cell_type": "code",
      "source": [
        "try:\n",
        "    num1 = int(input(\"Enter a number: \"))\n",
        "    num2 = int(input(\"Enter another number: \"))\n",
        "    result = num1 / num2\n",
        "except ValueError:\n",
        "    print(\"Error: Invalid input. Please enter a valid number.\")\n",
        "else:\n",
        "    print(\"The division result is:\", result)\n"
      ],
      "metadata": {
        "colab": {
          "base_uri": "https://localhost:8080/"
        },
        "id": "yMZ2g-bbN-a0",
        "outputId": "44967d0b-73cc-4104-9430-0a14639950fb"
      },
      "execution_count": null,
      "outputs": [
        {
          "output_type": "stream",
          "name": "stdout",
          "text": [
            "Enter a number: 56\n",
            "Enter another number: 45\n",
            "The division result is: 1.2444444444444445\n"
          ]
        }
      ]
    },
    {
      "cell_type": "markdown",
      "source": [
        "b. finally:\n",
        "The finally statement allows you to define a block of code that will be executed regardless of whether an exception occurred or not. This block is useful for performing cleanup operations, such as closing files or releasing resources, that should be executed regardless of the program's flow."
      ],
      "metadata": {
        "id": "MOaWrPE-6_1M"
      }
    },
    {
      "cell_type": "code",
      "source": [
        "file = None\n",
        "try:\n",
        "    file = open(\"example.txt\", \"r\")\n",
        "    content = file.read()\n",
        "    print(content)\n",
        "except FileNotFoundError:\n",
        "    print(\"Error: The file does not exist.\")\n",
        "finally:\n",
        "    if file:\n",
        "        file.close()\n"
      ],
      "metadata": {
        "colab": {
          "base_uri": "https://localhost:8080/"
        },
        "id": "Cxe5DhWx7Dwf",
        "outputId": "18a47ba3-0d45-4d1d-98bb-992a987d0ef1"
      },
      "execution_count": 1,
      "outputs": [
        {
          "output_type": "stream",
          "name": "stdout",
          "text": [
            "Error: The file does not exist.\n"
          ]
        }
      ]
    },
    {
      "cell_type": "markdown",
      "source": [
        "In this example, the try block attempts to open a file called \"example.txt\" for reading. If a FileNotFoundError occurs because the file does not exist, the control flow jumps to the except block, and an error message is printed.\n",
        "\n",
        "Regardless of whether an exception occurs or not, the finally block is executed. In this case, it checks if the file object (file) exists and closes it to release system resources."
      ],
      "metadata": {
        "id": "7LIHtAJP7NtZ"
      }
    },
    {
      "cell_type": "markdown",
      "source": [
        "c. raise:\n",
        "The raise statement is used to manually raise an exception in Python. It allows you to create and raise custom exceptions or propagate built-in exceptions."
      ],
      "metadata": {
        "id": "UN8cx7XV7O4F"
      }
    },
    {
      "cell_type": "code",
      "source": [
        "def validate_age(age):\n",
        "    if age < 0:\n",
        "        raise ValueError(\"Error: Invalid age. Age must be a positive value.\")\n",
        "    elif age < 18:\n",
        "        raise ValueError(\"Error: You must be at least 18 years old.\")\n",
        "\n",
        "try:\n",
        "    user_age = int(input(\"Enter your age: \"))\n",
        "    validate_age(user_age)\n",
        "    print(\"Age validation successful.\")\n",
        "except ValueError as e:\n",
        "    print(str(e))\n"
      ],
      "metadata": {
        "colab": {
          "base_uri": "https://localhost:8080/"
        },
        "id": "7LpqrGI47Rnx",
        "outputId": "1d29489d-6f2f-4499-cc3d-cfa80cad578a"
      },
      "execution_count": 2,
      "outputs": [
        {
          "output_type": "stream",
          "name": "stdout",
          "text": [
            "Enter your age: 15\n",
            "Error: You must be at least 18 years old.\n"
          ]
        }
      ]
    },
    {
      "cell_type": "markdown",
      "source": [
        "In this example, the validate_age function is used to check if the provided age is valid. If the age is negative, a custom ValueError exception is raised with an appropriate error message. If the age is less than 18, another ValueError exception is raised.\n",
        "\n",
        "In the try block, the user is prompted to enter their age. The validate_age function is called to validate the entered age. If an exception is raised within the function, the control flow jumps to the except block, and the exception message is printed.\n",
        "\n",
        "By using the raise statement, you can create and raise exceptions to handle specific error conditions in your code."
      ],
      "metadata": {
        "id": "cY_fE2MB7Wpp"
      }
    },
    {
      "cell_type": "markdown",
      "source": [
        "Q5. What are Custom Exceptions in python? Why do we need Custom Exceptions? Explain with an example"
      ],
      "metadata": {
        "id": "kO_PRSOeOJAJ"
      }
    },
    {
      "cell_type": "markdown",
      "source": [
        "Custom exceptions, also known as user-defined exceptions, are exceptions created by the programmer to handle specific error conditions or exceptional situations that are not covered by the built-in exceptions in Python. Custom exceptions allow you to define your own hierarchy of exceptions and provide meaningful error messages for specific scenarios in your code.\n",
        "\n",
        "We need custom exceptions for the following reasons:\n",
        "\n",
        "1. Specific Error Handling: Custom exceptions allow us to handle specific error conditions or exceptional situations in a more precise and targeted way. By creating custom exceptions, we can differentiate between different types of errors and handle them accordingly.\n",
        "\n",
        "2. Code Readability: Custom exceptions make the code more readable and self-explanatory. By using custom exception names that reflect the nature of the error, it becomes easier for other developers to understand the intent and behavior of the code.\n",
        "\n",
        "3. Code Reusability: Custom exceptions can be reused across multiple code modules or projects. By defining custom exceptions with specific functionality, you can use them in different parts of your codebase without duplicating error handling logic"
      ],
      "metadata": {
        "id": "zitTtfXk7ikq"
      }
    },
    {
      "cell_type": "code",
      "source": [
        "class InsufficientFundsError(Exception):\n",
        "    def __init__(self, balance, amount):\n",
        "        self.balance = balance\n",
        "        self.amount = amount\n",
        "        self.message = f\"Insufficient funds. Balance: {balance}, Amount: {amount}\"\n",
        "\n",
        "    def __str__(self):\n",
        "        return self.message\n",
        "\n",
        "def withdraw(balance, amount):\n",
        "    if amount > balance:\n",
        "        raise InsufficientFundsError(balance, amount)\n",
        "    else:\n",
        "        # Perform withdrawal logic here\n",
        "        pass\n",
        "\n",
        "# Usage of the custom exception\n",
        "try:\n",
        "    account_balance = 1000\n",
        "    withdrawal_amount = 1500\n",
        "    withdraw(account_balance, withdrawal_amount)\n",
        "except InsufficientFundsError as e:\n",
        "    print(str(e))\n"
      ],
      "metadata": {
        "id": "dimOTGf3OMDv"
      },
      "execution_count": null,
      "outputs": []
    },
    {
      "cell_type": "markdown",
      "source": [
        "In this example, a custom exception called InsufficientFundsError is defined by creating a new class that inherits from the base Exception class. The custom exception takes the current balance and the withdrawal amount as parameters to provide a meaningful error message.\n",
        "\n",
        "The withdraw function is used to simulate a withdrawal from an account. If the withdrawal amount exceeds the account balance, an InsufficientFundsError exception is raised, providing the current balance and the attempted withdrawal amount.\n",
        "\n",
        "By catching the custom exception in the try-except block, we can handle the specific scenario of insufficient funds. In the except block, the error message of the custom exception is printed.\n",
        "\n",
        "By creating custom exceptions, we can handle specific error scenarios more effectively and provide clearer error messages, enhancing the robustness and readability of our code."
      ],
      "metadata": {
        "id": "AnDueQSN7rXs"
      }
    },
    {
      "cell_type": "markdown",
      "source": [
        "Q6. Create custom exceptions class. Use this class to handle exception."
      ],
      "metadata": {
        "id": "aRFi6xVEOMq-"
      }
    },
    {
      "cell_type": "code",
      "source": [
        "class CustomException(Exception):\n",
        "    def __init__(self, message):\n",
        "        self.message = message\n",
        "\n",
        "try:\n",
        "    num = int(input(\"Enter a positive number: \"))\n",
        "    if num < 0:\n",
        "        raise CustomException(\"Error: Negative number entered.\")\n",
        "    else:\n",
        "        print(\"Number:\", num)\n",
        "except CustomException as e:\n",
        "    print(str(e))\n"
      ],
      "metadata": {
        "id": "fNHbdGbkOQr2",
        "colab": {
          "base_uri": "https://localhost:8080/"
        },
        "outputId": "d5168663-6d3c-4a54-c8ff-df8c922826db"
      },
      "execution_count": 3,
      "outputs": [
        {
          "output_type": "stream",
          "name": "stdout",
          "text": [
            "Enter a positive number: 85\n",
            "Number: 85\n"
          ]
        }
      ]
    },
    {
      "cell_type": "markdown",
      "source": [
        "In this example, we create a custom exception class called CustomException that inherits from the base Exception class. The __init__ method is defined to accept a message parameter, which will be used to store the error message.\n",
        "\n",
        "Within the try block, the user is prompted to enter a positive number. If a negative number is entered, we raise an instance of our custom exception by using the raise statement. The error message is passed as an argument to the CustomException constructor.\n",
        "\n",
        "In the except block, we catch the CustomException and store it in the variable e. We then print the error message using str(e).\n",
        "\n",
        "By creating and using custom exceptions, we can handle specific error conditions with more precision and provide informative error messages tailored to our application's needs."
      ],
      "metadata": {
        "id": "8L2c1Do_72Xu"
      }
    },
    {
      "cell_type": "code",
      "source": [],
      "metadata": {
        "id": "RegNkbyX76KT"
      },
      "execution_count": null,
      "outputs": []
    }
  ]
}