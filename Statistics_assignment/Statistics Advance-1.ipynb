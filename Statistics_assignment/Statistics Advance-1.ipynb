{
 "cells": [
  {
   "cell_type": "markdown",
   "metadata": {},
   "source": [
    "# Statistics Advance-1"
   ]
  },
  {
   "cell_type": "markdown",
   "metadata": {},
   "source": [
    "## Q1. What is the Probability density function?"
   ]
  },
  {
   "cell_type": "markdown",
   "metadata": {},
   "source": [
    "A Probability Density Function (PDF) is a fundamental concept in probability and statistics. It is a function that describes the likelihood of a continuous random variable taking on a specific value or falling within a particular range of values. The PDF is typically denoted as f(x), where \"x\" represents the variable of interest.\n",
    "\n",
    "The PDF has the following properties:\n",
    "\n",
    "1. **Non-negativity**: The PDF is non-negative for all possible values of the random variable: f(x) ≥ 0 for all x.\n",
    "\n",
    "2. **Area under the curve**: The total area under the PDF curve over the entire range of possible values is equal to 1. This ensures that the probability of the random variable taking any value within its range is 1.\n",
    "\n",
    "3. **Probability within a range**: To find the probability that the random variable falls within a specific range [a, b], you can integrate the PDF over that range: ∫[a, b] f(x) dx. This gives the probability that x falls between a and b."
   ]
  },
  {
   "cell_type": "markdown",
   "metadata": {},
   "source": [
    "## Q2. What are the types of Probability distribution?"
   ]
  },
  {
   "cell_type": "markdown",
   "metadata": {},
   "source": [
    "Probability distributions describe how the probabilities are distributed over the possible outcomes of a random variable. There are several types of probability distributions, but some of the most common ones include:\n",
    "\n",
    "1. **Uniform Distribution**: In a uniform distribution, all outcomes are equally likely. For a continuous uniform distribution, all values within a specified range have the same probability. For a discrete uniform distribution, all possible outcomes have the same probability.\n",
    "\n",
    "2. **Normal Distribution (Gaussian Distribution)**: The normal distribution is one of the most important distributions in statistics. It is characterized by a symmetric bell-shaped curve and is completely defined by its mean (μ) and standard deviation (σ). Many natural phenomena and measurements in various fields follow a normal distribution.\n",
    "\n",
    "3. **Binomial Distribution**: The binomial distribution is used to model the number of successes in a fixed number of independent Bernoulli trials, where each trial has two possible outcomes (usually labeled as \"success\" and \"failure\"). It is defined by two parameters: the probability of success (p) and the number of trials (n).\n",
    "\n",
    "4. **Poisson Distribution**: The Poisson distribution models the number of events occurring in a fixed interval of time or space. It is often used for rare events and is defined by a single parameter, the average rate of occurrence (λ).\n",
    "\n",
    "5. **Exponential Distribution**: The exponential distribution models the time between events in a Poisson process, where events occur continuously and independently at a constant average rate. It is characterized by the parameter λ, which is the average rate of occurrence.\n",
    "\n",
    "6. **Geometric Distribution**: The geometric distribution models the number of trials needed for the first success in a sequence of independent Bernoulli trials with the same probability of success (p).\n",
    "\n",
    "7. **Bernoulli Distribution**: The Bernoulli distribution is a simple distribution representing a single trial with two possible outcomes, typically labeled as \"success\" and \"failure.\" It is characterized by the probability of success (p).\n",
    "\n",
    "8. **Hypergeometric Distribution**: The hypergeometric distribution models the probability of drawing a specific number of successes from a finite population without replacement. It is used in scenarios such as sampling without replacement.\n",
    "\n",
    "9. **Gamma Distribution**: The gamma distribution is a continuous probability distribution with two parameters, typically used to model waiting times, lifetimes, and other continuous, positive variables.\n",
    "\n",
    "9. **Chi-Square Distribution**: The chi-square distribution is used in hypothesis testing and confidence interval construction for the population variance. It has one parameter: the degrees of freedom.\n",
    "\n",
    "10. **T-Distribution (Student's T-Distribution)**: The t-distribution is commonly used in hypothesis testing and confidence interval estimation when dealing with small sample sizes. It has one parameter: the degrees of freedom.\n",
    "\n",
    "11. **F-Distribution**: The F-distribution is used in statistical hypothesis testing, particularly in analysis of variance (ANOVA) and regression analysis. It has two sets of degrees of freedom."
   ]
  },
  {
   "cell_type": "markdown",
   "metadata": {},
   "source": [
    "## Q3. Write a Python function to calculate the probability density function of a normal distribution with given mean and standard deviation at a given point."
   ]
  },
  {
   "cell_type": "code",
   "execution_count": 1,
   "metadata": {},
   "outputs": [
    {
     "name": "stdout",
     "output_type": "stream",
     "text": [
      "PDF at x = 4.0: 0.2130\n"
     ]
    }
   ],
   "source": [
    "import math\n",
    "\n",
    "def normal_pdf(x, mean, std_dev):\n",
    "    \"\"\"\n",
    "    Calculate the probability density function (PDF) of a normal distribution at a given point.\n",
    "    \n",
    "    Args:\n",
    "    x (float): The point at which to calculate the PDF.\n",
    "    mean (float): The mean of the normal distribution.\n",
    "    std_dev (float): The standard deviation of the normal distribution.\n",
    "    \n",
    "    Returns:\n",
    "    float: The PDF at the given point.\n",
    "    \"\"\"\n",
    "    if std_dev <= 0:\n",
    "        raise ValueError(\"Standard deviation must be greater than 0.\")\n",
    "    \n",
    "    coefficient = 1 / (std_dev * math.sqrt(2 * math.pi))\n",
    "    exponent = -((x - mean) ** 2) / (2 * std_dev ** 2)\n",
    "    pdf = coefficient * math.exp(exponent)\n",
    "    \n",
    "    return pdf\n",
    "\n",
    "# Example usage:\n",
    "mean = 3.0\n",
    "std_dev = 1.5\n",
    "x_value = 4.0\n",
    "pdf_at_x = normal_pdf(x_value, mean, std_dev)\n",
    "print(f\"PDF at x = {x_value}: {pdf_at_x:.4f}\")\n"
   ]
  },
  {
   "cell_type": "markdown",
   "metadata": {},
   "source": [
    "## Q4. What are the properties of Binomial distribution? Give two examples of events where binomial distribution can be applied."
   ]
  },
  {
   "cell_type": "markdown",
   "metadata": {},
   "source": [
    "The binomial distribution is a discrete probability distribution that is characterized by the following properties:\n",
    "\n",
    "1. **Fixed Number of Trials (n)**: The binomial distribution describes a fixed number of independent and identical trials, denoted as \"n.\" In other words, the number of trials is predetermined and does not change during the experiment.\n",
    "\n",
    "2. **Two Possible Outcomes**: Each trial has two possible outcomes, typically labeled as \"success\" and \"failure.\" These outcomes are mutually exclusive.\n",
    "\n",
    "3. **Constant Probability of Success (p)**: The probability of success, denoted as \"p,\" remains constant from trial to trial. In mathematical terms, P(success) = p and P(failure) = 1 - p for each trial.\n",
    "\n",
    "4. **Independence**: The trials are independent, meaning that the outcome of one trial does not affect the outcome of the other trials.\n",
    "\n",
    "5. **Discreteness**: The random variable representing the number of successes in the n trials is a discrete variable, meaning it can take on integer values (0, 1, 2, ... , n).\n",
    "\n",
    "Examples of events and situations where the binomial distribution can be applied include:\n",
    "\n",
    "1. **Coin Flips**: The outcome of flipping a fair coin multiple times can be modeled using a binomial distribution. Each flip has two possible outcomes (heads or tails), and the probability of getting heads or tails remains constant from flip to flip. The number of heads (or tails) in a fixed number of flips follows a binomial distribution.\n",
    "\n",
    "2. **Quality Control**: In a manufacturing process, you might want to know the probability of a certain number of defective items in a sample of a fixed size. If the probability of an item being defective is constant and the items are inspected independently, the number of defective items in the sample can be modeled using a binomial distribution.\n",
    "\n",
    "3. **Survey Responses**: Consider a survey where each respondent answers either \"yes\" or \"no\" to a particular question. If the survey is conducted with a fixed number of respondents, and each respondent's decision is independent and the probability of a \"yes\" response is constant, the number of \"yes\" responses follows a binomial distribution.\n",
    "\n",
    "4. **Success-Failure Experiments**: Any situation where you have a fixed number of trials with only two possible outcomes and a constant probability of success can be modeled with a binomial distribution. This includes scenarios in biology (e.g., the probability of a mutation occurring in a DNA sequence), social sciences (e.g., the probability of a voter choosing a particular candidate), and more."
   ]
  },
  {
   "cell_type": "markdown",
   "metadata": {},
   "source": [
    "## Q5. Generate a random sample of size 1000 from a binomial distribution with probability of success 0.4 and plot a histogram of the results using matplotlib."
   ]
  },
  {
   "cell_type": "code",
   "execution_count": 2,
   "metadata": {},
   "outputs": [
    {
     "name": "stdout",
     "output_type": "stream",
     "text": [
      "[420 412 412 389 411 414 397 391 403 406 404 408 390 409 418 417 380 408\n",
      " 384 385 403 401 403 405 427 361 425 398 418 401 402 408 389 390 425 413\n",
      " 394 417 395 361 431 369 394 388 375 426 405 416 387 422 386 397 363 398\n",
      " 386 407 413 425 406 411 400 406 396 401 386 394 388 424 408 404 386 387\n",
      " 378 417 417 395 388 390 401 418 389 385 406 418 399 402 397 406 418 423\n",
      " 407 409 377 417 402 397 417 379 406 375 390 378 398 400 418 385 407 416\n",
      " 406 419 367 390 395 405 397 385 383 418 389 375 406 397 374 396 386 419\n",
      " 396 411 406 390 409 401 370 387 407 394 394 417 419 396 395 389 406 391\n",
      " 420 416 397 420 399 366 404 428 407 421 404 410 426 392 396 418 395 397\n",
      " 390 388 400 389 414 399 392 385 383 389 398 403 379 359 433 410 402 428\n",
      " 405 389 418 392 406 390 416 373 376 386 383 386 400 405 410 405 415 385\n",
      " 381 402 405 397 425 423 401 388 401 396 406 390 396 410 401 380 378 383\n",
      " 411 410 381 379 408 398 389 422 396 383 406 403 400 403 391 443 435 394\n",
      " 388 413 369 360 380 430 403 398 407 426 414 399 378 398 420 402 403 389\n",
      " 387 424 397 420 375 388 393 409 401 406 385 372 431 407 378 400 393 395\n",
      " 404 428 402 396 412 416 386 411 413 377 376 397 410 398 423 367 422 397\n",
      " 414 428 425 424 410 403 400 418 414 420 400 407 400 402 411 427 408 420\n",
      " 395 394 428 381 428 366 391 415 389 391 403 376 423 409 388 420 417 386\n",
      " 433 392 364 408 400 397 377 394 411 371 388 394 400 402 383 396 395 404\n",
      " 375 414 408 397 399 424 427 410 416 400 379 414 443 371 399 379 403 415\n",
      " 393 382 417 407 400 380 399 391 405 399 365 400 406 390 402 400 382 411\n",
      " 382 407 422 406 389 413 397 409 393 438 395 429 384 393 414 440 404 396\n",
      " 424 395 419 405 400 393 433 398 378 425 381 376 399 416 402 398 388 394\n",
      " 398 413 411 387 378 394 417 384 415 403 404 358 397 432 390 429 375 429\n",
      " 413 385 406 353 385 407 416 376 402 414 413 407 430 406 407 373 396 414\n",
      " 373 379 382 411 403 400 382 408 396 395 399 386 418 408 356 396 403 389\n",
      " 400 377 403 394 381 416 383 418 425 394 399 344 379 399 390 390 398 410\n",
      " 419 380 364 404 398 406 400 401 414 393 394 408 363 394 407 389 370 393\n",
      " 422 391 407 390 411 395 412 395 410 394 395 386 393 391 409 384 390 384\n",
      " 427 402 404 404 390 411 383 411 365 406 417 390 405 419 386 387 386 372\n",
      " 395 405 380 389 359 404 424 394 419 390 402 416 367 381 405 399 398 388\n",
      " 400 378 388 394 420 423 379 395 392 376 399 404 401 408 396 378 397 387\n",
      " 420 398 381 383 371 393 407 385 390 410 400 393 405 385 391 406 393 387\n",
      " 395 395 382 396 424 422 397 382 407 392 432 405 391 413 402 401 385 371\n",
      " 403 390 398 392 401 404 400 415 392 417 380 392 384 406 388 428 380 384\n",
      " 438 404 412 401 408 408 402 399 403 393 396 371 405 390 409 412 395 380\n",
      " 424 430 401 406 426 414 394 414 395 421 423 446 406 367 405 393 401 426\n",
      " 428 409 421 440 389 408 391 392 391 439 378 436 389 394 424 384 403 366\n",
      " 385 395 416 402 392 407 368 398 422 412 390 409 417 405 396 400 423 408\n",
      " 427 409 408 418 387 393 380 431 402 428 378 400 401 376 406 399 399 414\n",
      " 425 417 391 419 402 399 381 410 400 411 388 377 419 398 373 387 396 423\n",
      " 393 398 408 388 395 406 376 394 392 411 408 408 422 396 382 367 437 379\n",
      " 398 406 399 390 389 410 410 394 425 398 407 392 395 383 398 414 403 426\n",
      " 416 410 409 394 427 413 371 416 406 415 396 403 410 409 417 404 399 380\n",
      " 425 380 387 405 415 395 394 370 389 392 375 422 422 385 384 381 425 402\n",
      " 398 388 406 422 401 386 395 421 367 408 417 390 409 409 396 418 421 393\n",
      " 403 409 405 389 417 430 397 409 389 374 377 401 400 391 390 384 388 431\n",
      " 404 368 400 393 399 413 380 390 395 414 392 380 393 378 399 399 407 392\n",
      " 389 401 380 381 371 411 390 422 400 395 398 377 380 412 401 388 406 403\n",
      " 383 442 394 391 398 388 405 411 388 398 405 418 408 400 403 416 396 422\n",
      " 391 384 376 405 362 376 409 405 416 409 388 380 421 410 410 393 378 379\n",
      " 395 391 404 390 421 428 391 386 396 397 401 415 411 424 381 405 402 406\n",
      " 403 386 398 423 402 401 404 389 391 412 403 387 382 379 382 412 388 407\n",
      " 385 402 414 392 419 422 390 401 391 396 408 399 410 425 402 430 410 412\n",
      " 401 405 423 388 395 399 366 410 401 403 415 389 398 411 405 412 395 396\n",
      " 403 432 396 380 396 406 396 409 398 382]\n"
     ]
    },
    {
     "data": {
      "image/png": "[encoded data removed]",
      "text/plain": [
       "<Figure size 640x480 with 1 Axes>"
      ]
     },
     "metadata": {},
     "output_type": "display_data"
    }
   ],
   "source": [
    "import numpy as np\n",
    "import matplotlib.pyplot as plt\n",
    "\n",
    "# Parameters for the binomial distribution\n",
    "n = 1000  # Sample size\n",
    "p = 0.4   # Probability of success\n",
    "\n",
    "# Generate the random sample\n",
    "random_sample = np.random.binomial(n, p, size=n)\n",
    "print(random_sample)\n",
    "# Create a histogram\n",
    "plt.hist(random_sample, bins=20, density=True, color='blue', alpha=0.7, edgecolor='black')\n",
    "\n",
    "# Add labels and title\n",
    "plt.xlabel('Number of Successes')\n",
    "plt.ylabel('Probability')\n",
    "plt.title(f'Binomial Distribution (n={n}, p={p})')\n",
    "\n",
    "# Show the plot\n",
    "plt.grid(True)\n",
    "plt.show()\n"
   ]
  },
  {
   "cell_type": "markdown",
   "metadata": {},
   "source": [
    "## Q6. Write a Python function to calculate the cumulative distribution function of a Poisson distribution with given mean at a given point."
   ]
  },
  {
   "cell_type": "code",
   "execution_count": 7,
   "metadata": {},
   "outputs": [
    {
     "name": "stdout",
     "output_type": "stream",
     "text": [
      "CDF at k = 2: 0.4232\n"
     ]
    }
   ],
   "source": [
    "import math\n",
    "\n",
    "def poisson_cdf(k, mean):\n",
    "    \"\"\"\n",
    "    Calculate the cumulative distribution function (CDF) of a Poisson distribution at a given point.\n",
    "    \n",
    "    Args:\n",
    "    k (int): The point at which to calculate the CDF.\n",
    "    mean (float): The mean of the Poisson distribution.\n",
    "    \n",
    "    Returns:\n",
    "    float: The CDF at the given point.\n",
    "    \"\"\"\n",
    "    if k < 0 or mean <= 0:\n",
    "        raise ValueError(\"k must be non-negative, and the mean must be positive.\")\n",
    "\n",
    "    cdf = 0\n",
    "    for i in range(k + 1):\n",
    "        cdf += (math.exp(-mean) * mean ** i) / math.factorial(i)\n",
    "    \n",
    "    return cdf\n",
    "\n",
    "# Example usage:\n",
    "mean = 3.0\n",
    "point = 2\n",
    "cdf_at_point = poisson_cdf(point, mean)\n",
    "print(f\"CDF at k = {point}: {cdf_at_point:.4f}\")"
   ]
  },
  {
   "cell_type": "markdown",
   "metadata": {},
   "source": []
  },
  {
   "cell_type": "markdown",
   "metadata": {},
   "source": [
    "## Q7. How Binomial distribution different from Poisson distribution?"
   ]
  },
  {
   "cell_type": "markdown",
   "metadata": {},
   "source": [
    "The Binomial distribution and Poisson distribution are two different probability distributions used to model different types of events in statistics and probability theory. Here are the key differences between them:\n",
    "\n",
    "1. Nature of Events:\n",
    "\n",
    "    - **Binomial Distribution**: The Binomial distribution is used to model discrete events that have a fixed number of trials or experiments, each with two possible outcomes (success and failure). These trials are independent and have the same probability of success on each trial. Examples include coin flips, pass/fail experiments, or the number of heads in a series of coin tosses.\n",
    "\n",
    "    - **Poisson Distribution**: The Poisson distribution, on the other hand, is used to model the number of events that occur in a fixed interval of time or space, given a known average rate of occurrence. It is often applied to rare or random events where the probability of an event happening in a very small interval is low, and events are independent of each other. Examples include the number of customer arrivals at a store in an hour or the number of car accidents in a day.\n",
    "\n",
    "2. Number of Trials/Events:\n",
    "\n",
    "    - **Binomial Distribution**: In a Binomial distribution, the number of trials or experiments is fixed and known in advance.\n",
    "\n",
    "    - **Poisson Distribution**: In a Poisson distribution, the number of events is not fixed in advance; it can vary based on the rate parameter, λ, which represents the average number of events in a given interval.\n",
    "\n",
    "3. Parameters:\n",
    "\n",
    "    - **Binomial Distribution**: The Binomial distribution has two parameters: n (the number of trials) and p (the probability of success on each trial).\n",
    "\n",
    "    - **Poisson Distribution**: The Poisson distribution has one parameter: λ (lambda), which represents the average rate of occurrence in the specified interval.\n",
    "\n",
    "4. Probability Function:\n",
    "\n",
    "    - **Binomial Distribution**: The probability mass function for the Binomial distribution gives the probability of getting exactly k successes in n trials, and it is defined as P(X = k) = C(n, k) * p^k * (1 - p)^(n - k), where C(n, k) is the binomial coefficient.\n",
    "\n",
    "    - **Poisson Distribution**: The probability mass function for the Poisson distribution gives the probability of observing k events in the specified interval, and it is defined as P(X = k) = (e^(-λ) * λ^k) / k!, where e is the base of the natural logarithm.\n",
    "\n",
    "5. Assumptions:\n",
    "\n",
    "    - **Binomial Distribution**: The Binomial distribution assumes that the trials are independent, and the probability of success remains constant from trial to trial.\n",
    "\n",
    "    - **Poisson Distribution**: The Poisson distribution assumes events occur randomly and independently with a fixed average rate."
   ]
  },
  {
   "cell_type": "markdown",
   "metadata": {},
   "source": [
    "## Q8. Generate a random sample of size 1000 from a Poisson distribution with mean 5 and calculate the sample mean and variance."
   ]
  },
  {
   "cell_type": "markdown",
   "metadata": {},
   "source": [
    "To generate a random sample of size 1000 from a Poisson distribution with a mean of 5 and calculate the sample mean and variance, you can use a programming language or statistical software that provides functions for generating random numbers from specific distributions. Here, I'll provide you with a Python example using the numpy library:"
   ]
  },
  {
   "cell_type": "code",
   "execution_count": 1,
   "metadata": {},
   "outputs": [
    {
     "name": "stdout",
     "output_type": "stream",
     "text": [
      "Sample Mean: 5.059\n",
      "Sample Variance: 4.927519\n"
     ]
    }
   ],
   "source": [
    "import numpy as np\n",
    "\n",
    "# Set the parameters\n",
    "mean = 5\n",
    "sample_size = 1000\n",
    "\n",
    "# Generate a random sample from a Poisson distribution\n",
    "random_sample = np.random.poisson(mean, sample_size)\n",
    "\n",
    "# Calculate the sample mean and variance\n",
    "sample_mean = np.mean(random_sample)\n",
    "sample_variance = np.var(random_sample)\n",
    "\n",
    "print(\"Sample Mean:\", sample_mean)\n",
    "print(\"Sample Variance:\", sample_variance)"
   ]
  },
  {
   "cell_type": "markdown",
   "metadata": {},
   "source": [
    "## Q9. How mean and variance are related in Binomial distribution and Poisson distribution?"
   ]
  },
  {
   "cell_type": "markdown",
   "metadata": {},
   "source": [
    "The relationship between the mean and variance differs in the Binomial distribution and the Poisson distribution:\n",
    "\n",
    "1. Binomial Distribution:\n",
    "\n",
    "    - In a Binomial distribution with parameters n (the number of trials) and p (the probability of success on each trial), the mean (μ) is given by μ = np.\n",
    "    - The variance (σ^2) of a Binomial distribution is given by σ^2 = np(1 - p).\n",
    "The variance in the Binomial distribution is directly proportional to both n and p. As the number of trials (n) increases while keeping the probability of success (p) constant, the variance also increases. Similarly, as the probability of success (p) increases while keeping the number of trials (n) constant, the variance increases. Therefore, in a Binomial distribution, the variance increases as you move away from the mean.\n",
    "\n",
    "2. Poisson Distribution:\n",
    "\n",
    "    - In a Poisson distribution with parameter λ (lambda), both the mean (μ) and the variance (σ^2) are equal and are given by μ = σ^2 = λ.\n",
    "\n",
    "    In a Poisson distribution, the mean and variance are equal and are both determined by the rate parameter λ. The Poisson distribution is characterized by the property that the variance is equal to the mean. This means that as the rate parameter λ changes, both the mean and variance change proportionally. When λ is small, the distribution is concentrated around the mean, and when λ is large, the distribution becomes more spread out."
   ]
  },
  {
   "cell_type": "markdown",
   "metadata": {},
   "source": [
    "## Q10. In normal distribution with respect to mean position, where does the least frequent data appear?"
   ]
  },
  {
   "cell_type": "markdown",
   "metadata": {},
   "source": [
    "In a normal distribution (also known as a Gaussian distribution), the least frequent data appears in the tails of the distribution, farthest away from the mean. The normal distribution is a symmetric distribution, and it follows a bell-shaped curve.\n",
    "\n",
    "Here's how the data is distributed in a normal distribution with respect to the mean:\n",
    "\n",
    "1. Central Peak (High Frequency): The data values are most densely concentrated around the mean (the highest point on the curve). This is where the most frequent or common data values are found.\n",
    "\n",
    "2. Tails (Low Frequency): As you move away from the mean in either direction, the data values become less frequent. The data values in the tails of the distribution are the least frequent. These are the extreme values, and they become rarer as you move farther from the mean.\n",
    "\n",
    "In a standard normal distribution (where the mean is 0 and the standard deviation is 1), approximately 68% of the data falls within one standard deviation of the mean (around the central peak), about 95% falls within two standard deviations, and about 99.7% falls within three standard deviations. This means that only a small percentage of the data is found in the tails, making values in the tails the least frequent.\n",
    "\n",
    "The exact position of the least frequent data depends on the specific characteristics of the normal distribution, such as the mean and standard deviation. However, in any normal distribution, the tails, being further from the mean, will always contain the least frequent data points."
   ]
  },
  {
   "cell_type": "markdown",
   "metadata": {},
   "source": []
  }
 ],
 "metadata": {
  "kernelspec": {
   "display_name": ".venv",
   "language": "python",
   "name": "python3"
  },
  "language_info": {
   "codemirror_mode": {
    "name": "ipython",
    "version": 3
   },
   "file_extension": ".py",
   "mimetype": "text/x-python",
   "name": "python",
   "nbconvert_exporter": "python",
   "pygments_lexer": "ipython3",
   "version": "3.11.5"
  }
 },
 "nbformat": 4,
 "nbformat_minor": 2
}
