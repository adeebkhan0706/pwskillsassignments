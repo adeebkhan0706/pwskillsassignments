{
 "cells": [
  {
   "cell_type": "markdown",
   "metadata": {},
   "source": [
    "# Statistics Advance-2"
   ]
  },
  {
   "cell_type": "markdown",
   "metadata": {},
   "source": [
    "## Q1: What are the Probability Mass Function (PMF) and Probability Density Function (PDF)? Explain with an example."
   ]
  },
  {
   "cell_type": "markdown",
   "metadata": {},
   "source": [
    "The Probability Mass Function (PMF) and Probability Density Function (PDF) are mathematical functions used to describe the probabilities associated with specific values of a discrete or continuous random variable, respectively.\n",
    "\n",
    "1. **Probability Mass Function (PMF)**:\n",
    "\n",
    "    - The PMF is used for discrete random variables, which take on distinct, separate values.\n",
    "    - It gives the probability of a random variable taking on a specific value.\n",
    "    - The PMF is defined for each possible value of the random variable.\n",
    "    - The sum of probabilities over all possible values must equal 1.\n",
    "\n",
    "2. **Probability Density Function (PDF)**:\n",
    "\n",
    "    - The PDF is used for continuous random variables, which can take on any value within a range.\n",
    "    - It gives the probability of a random variable falling within a specific range of values.\n",
    "    - The PDF is defined for intervals or ranges of values, not specific values.\n",
    "    - The area under the PDF curve over a given interval represents the probability of the random variable falling within that interval.\n",
    "\n",
    "\n",
    "Here's an example of both a PMF and a PDF:\n",
    "\n",
    "Example: Tossing a Fair Six-Sided Die\n",
    "\n",
    "1. **PMF (Discrete)**:\n",
    "\n",
    "    - A six-sided die is a discrete random variable, as it can take on the values {1, 2, 3, 4, 5, 6}.\n",
    "\n",
    "    - The PMF for this die assigns equal probabilities to each of these values, as it's a fair die. So, the PMF is defined as:\n",
    "\n",
    "        - P(X = 1) = 1/6\n",
    "        - P(X = 2) = 1/6\n",
    "        - P(X = 3) = 1/6\n",
    "        - P(X = 4) = 1/6\n",
    "        - P(X = 5) = 1/6\n",
    "        - P(X = 6) = 1/6\n",
    "\n",
    "    - The sum of all these probabilities equals 1.\n",
    "\n",
    "2. **PDF (Continuous)**:\n",
    "\n",
    "    - Consider a continuous random variable, such as the height of individuals in a population.\n",
    "    - The height can take on any real value within a certain range.\n",
    "    - The PDF for this continuous random variable would describe the likelihood of a person's height falling within a specific range. For example, it might look like a bell-shaped curve, similar to the normal distribution.\n",
    "    - If you wanted to find the probability of a person's height falling between 160 cm and 170 cm, you would calculate the area under the PDF curve over that interval."
   ]
  },
  {
   "cell_type": "markdown",
   "metadata": {},
   "source": [
    "## Q2: What is Cumulative Density Function (CDF)? Explain with an example. Why CDF is used?"
   ]
  },
  {
   "cell_type": "markdown",
   "metadata": {},
   "source": [
    "The **Cumulative Distribution Function (CDF)** is a mathematical function that provides the cumulative probability that a random variable takes on a value less than or equal to a specific value. In other words, it gives you the probability that the random variable is less than or equal to a given value. The CDF is defined for both discrete and continuous random variables.\n",
    "\n",
    "The CDF is denoted as F(x) for a given value x and is defined as follows:\n",
    "\n",
    "1. For a discrete random variable:\n",
    "    - F(x) = P(X ≤ x), where X is the random variable.\n",
    "\n",
    "2. For a continuous random variable:\n",
    "    - F(x) = ∫[a, x] f(t) dt, where f(t) is the Probability Density Function (PDF) of the continuous random variable, and the integral is taken from some reference point 'a' to the value 'x'.\n",
    "\n",
    "\n",
    "Here's an example to illustrate the CDF:\n",
    "\n",
    "**Example: Rolling a Six-Sided Die (Discrete Random Variable)**\n",
    "\n",
    "Let's say you want to find the CDF for rolling a fair six-sided die. The die can take values {1, 2, 3, 4, 5, 6} with equal probability. The CDF would look like this:\n",
    "\n",
    "- F(1) = P(X ≤ 1) = 1/6 (the probability of getting 1 or less)\n",
    "- F(2) = P(X ≤ 2) = 2/6 (the probability of getting 2 or less)\n",
    "- F(3) = P(X ≤ 3) = 3/6 (the probability of getting 3 or less)\n",
    "- F(4) = P(X ≤ 4) = 4/6 (the probability of getting 4 or less)\n",
    "- F(5) = P(X ≤ 5) = 5/6 (the probability of getting 5 or less)\n",
    "- F(6) = P(X ≤ 6) = 1 (the probability of getting 6 or less, which is certain)\n",
    "\n",
    "\n",
    "The CDF provides a way to answer questions like, \"What is the probability of rolling a number less than or equal to 3 on the die?\" In this case, you would look up F(3) to find the answer (which is 3/6 or 1/2).\n",
    "\n",
    "**Why CDF is used:**\n",
    "\n",
    "The CDF is useful for several reasons:\n",
    "\n",
    "1. **Evaluating Probability:** It allows you to calculate the probability that a random variable falls within a given range or is less than a specific value.\n",
    "\n",
    "2. **Describing Distribution Properties:** It helps in understanding the characteristics of a probability distribution, such as where the majority of the data is concentrated and how spread out it is.\n",
    "\n",
    "3. **Comparison:** It facilitates the comparison of different random variables or distributions by examining their cumulative probabilities.\n",
    "\n",
    "4. **Quantiles:** CDFs are used to find quantiles, which are points that divide the distribution into specified percentiles (e.g., median, quartiles).\n",
    "\n",
    "5. **Statistical Testing:** CDFs are used in statistical tests, hypothesis testing, and assessing the fit of data to a particular distribution."
   ]
  },
  {
   "cell_type": "markdown",
   "metadata": {},
   "source": [
    "## Q3: What are some examples of situations where the normal distribution might be used as a model? Explain how the parameters of the normal distribution relate to the shape of the distribution."
   ]
  },
  {
   "cell_type": "markdown",
   "metadata": {},
   "source": [
    "The normal distribution, also known as the Gaussian distribution, is a widely used probability distribution in statistics and has numerous applications in modeling various real-world situations. The parameters of the normal distribution are the mean (μ) and the standard deviation (σ), and they play a crucial role in defining the shape of the distribution. Here are some examples of situations where the normal distribution might be used as a model:\n",
    "\n",
    "1. **Height of Individuals:**\n",
    "\n",
    "The heights of individuals in a large population often follow a normal distribution. The mean height (μ) represents the average height, and the standard deviation (σ) indicates the spread or variability in heights.\n",
    "\n",
    "2. **Test Scores:**\n",
    "\n",
    "In educational testing, scores on standardized tests like the SAT or IQ tests are often assumed to be normally distributed. The mean (μ) represents the average score, and the standard deviation (σ) measures the dispersion of scores around the mean.\n",
    "\n",
    "3. **Errors in Measurements:**\n",
    "\n",
    "In experimental science, measurement errors often approximate a normal distribution. The mean (μ) is typically considered to be zero, and the standard deviation (σ) quantifies the precision and accuracy of measurements.\n",
    "\n",
    "4. **Financial Returns:**\n",
    "\n",
    "In finance, daily or monthly returns on investments (e.g., stocks) are often assumed to be normally distributed. The mean (μ) represents the expected return, and the standard deviation (σ) measures the volatility or risk associated with the investment.\n",
    "\n",
    "5. **Quality Control:**\n",
    "\n",
    "In manufacturing and quality control processes, the distribution of product measurements (e.g., the diameter of manufactured parts) is often approximated by a normal distribution. The mean (μ) represents the target value, and the standard deviation (σ) helps identify the acceptable variation.\n",
    "\n",
    "6. **Biological Traits:**\n",
    "\n",
    "Biological traits such as birth weights, blood pressure, and body temperatures in a population can be modeled using a normal distribution. The mean (μ) represents the typical value for the trait, and the standard deviation (σ) represents the variation.\n",
    "\n",
    "\n",
    "The parameters μ and σ relate to the shape of the normal distribution as follows:\n",
    "\n",
    "1. **Mean (μ):**\n",
    "\n",
    "    - The mean determines the center or peak of the normal distribution.\n",
    "    - Shifting μ to the left or right moves the entire distribution along the horizontal axis.\n",
    "    - Changing μ does not affect the spread or width of the distribution; it only shifts the distribution left or right.\n",
    "2. **Standard Deviation (σ):**\n",
    "\n",
    "    - The standard deviation determines the spread or width of the normal distribution.\n",
    "    - A larger σ results in a wider and flatter distribution, indicating greater variability.\n",
    "    - A smaller σ results in a narrower and taller distribution, indicating less variability."
   ]
  },
  {
   "cell_type": "markdown",
   "metadata": {},
   "source": [
    "## Q4: Explain the importance of Normal Distribution. Give a few real-life examples of Normal Distribution."
   ]
  },
  {
   "cell_type": "markdown",
   "metadata": {},
   "source": [
    "The normal distribution, also known as the Gaussian distribution, is of great importance in statistics and data analysis for several reasons:\n",
    "\n",
    "1. **Widespread Applicability:** The normal distribution is a versatile and widely applicable probability distribution that can model a wide range of real-world phenomena. It is often used as a default distribution for continuous data due to its mathematical properties and simplicity.\n",
    "\n",
    "2. **Central Limit Theorem:** The normal distribution plays a fundamental role in the Central Limit Theorem. This theorem states that the distribution of the sample means of a large number of independent, identically distributed random variables will be approximately normally distributed, regardless of the original population distribution. This property is essential in statistical inference and hypothesis testing.\n",
    "\n",
    "3. **Statistical Inference:** Many statistical methods and hypothesis tests are based on the assumption that data follow a normal distribution. These methods include t-tests, analysis of variance (ANOVA), and regression analysis. Deviations from normality can affect the validity of these tests.\n",
    "\n",
    "4. **Parameter Estimation:** The normal distribution provides maximum likelihood estimates for the mean and variance of a dataset, making it a valuable tool for estimating population parameters.\n",
    "\n",
    "5. **Data Transformation:** In cases where data do not follow a normal distribution, statistical techniques often involve transforming the data to make it more approximately normal. Common transformations include logarithmic, square root, and Box-Cox transformations.\n",
    "\n",
    "Real-life examples of situations where the normal distribution is observed include:\n",
    "\n",
    "1. **Human Characteristics:** Traits like height, weight, IQ scores, and blood pressure in large populations tend to follow a normal distribution. For example, heights of adults in a given region are often approximately normally distributed.\n",
    "\n",
    "2. **Error and Noise:** Measurement errors, experimental noise, and other random factors often follow a normal distribution. This is crucial in scientific research and quality control processes.\n",
    "\n",
    "3. **Financial Markets:** Daily returns of stocks, indices, and other financial assets are often assumed to be normally distributed, though this assumption is often challenged during extreme market events.\n",
    "\n",
    "4. **Product Quality:** The measurements of product dimensions in manufacturing processes often approximate a normal distribution, allowing for quality control and specification limits.\n",
    "\n",
    "5. **Educational Testing:** Scores on standardized tests like the SAT or IQ tests are typically assumed to be normally distributed.\n",
    "\n",
    "6. **Biological Data:** Biological data such as birth weights, body temperatures, and enzyme activity levels can often be modeled using a normal distribution.\n",
    "\n",
    "7. **Environmental Data:** Environmental factors like air pollution levels, rainfall amounts, and temperature readings may exhibit a normal distribution."
   ]
  },
  {
   "cell_type": "markdown",
   "metadata": {},
   "source": [
    "## Q5: What is Bernaulli Distribution? Give an Example. What is the difference between Bernoulli Distribution and Binomial Distribution?"
   ]
  },
  {
   "cell_type": "markdown",
   "metadata": {},
   "source": [
    "**Bernoulli Distribution:**\n",
    "The Bernoulli distribution is a probability distribution that models a random experiment with exactly two possible outcomes: success (usually denoted as 1) and failure (usually denoted as 0). It is named after the Swiss mathematician Jacob Bernoulli. The distribution is characterized by a single parameter, p, which represents the probability of success on a single trial.\n",
    "\n",
    "The probability mass function (PMF) of the Bernoulli distribution is defined as follows:\n",
    "\n",
    "- P(X = 1) = p (probability of success)\n",
    "- P(X = 0) = 1 - p (probability of failure)\n",
    "\n",
    "**Example of Bernoulli Distribution:**\n",
    "A classic example of a Bernoulli distribution is a single toss of a fair coin. If we define \"success\" as getting a heads (H) and \"failure\" as getting a tails (T), then the probability of success (p) is 0.5 (since the coin is fair). The outcome of the experiment follows a Bernoulli distribution.\n",
    "\n",
    "**Difference between Bernoulli Distribution and Binomial Distribution:**\n",
    "The key differences between the Bernoulli distribution and the Binomial distribution are as follows:\n",
    "\n",
    "1. **Number of Trials:**\n",
    "\n",
    "    - Bernoulli Distribution: It models a single trial or experiment with two possible outcomes (success and failure).\n",
    "    - Binomial Distribution: It models a series of independent and identical Bernoulli trials, where each trial can result in success or failure.\n",
    "\n",
    "2. **Parameters:**\n",
    "\n",
    "    - Bernoulli Distribution: It has one parameter, p, which represents the probability of success in a single trial.\n",
    "    - Binomial Distribution: It has two parameters, n (the number of trials) and p (the probability of success on each trial).\n",
    "\n",
    "3. **Probability Mass Function (PMF):**\n",
    "\n",
    "    - Bernoulli Distribution: The PMF defines the probabilities for exactly one success and one failure (two possible outcomes).\n",
    "    - Binomial Distribution: The PMF defines the probabilities for a specific number of successes (k) in n trials. The PMF is given by the binomial coefficient C(n, k) times p^k times (1 - p)^(n - k).\n",
    "\n",
    "4. **Use Cases:**\n",
    "\n",
    "    - Bernoulli Distribution: It is used to model individual, binary events such as the outcome of a single coin toss, the success or failure of a single trial, or the presence or absence of a specific characteristic.\n",
    "    - Binomial Distribution: It is used to model the number of successes in a fixed number of independent and identical Bernoulli trials. It is applicable in situations where you want to know the probability of obtaining a certain number of successes in a series of trials."
   ]
  },
  {
   "cell_type": "markdown",
   "metadata": {},
   "source": [
    "## Q6. Consider a dataset with a mean of 50 and a standard deviation of 10. If we assume that the dataset is normally distributed, what is the probability that a randomly selected observation will be greater than 60? Use the appropriate formula and show your calculations."
   ]
  },
  {
   "cell_type": "markdown",
   "metadata": {},
   "source": []
  },
  {
   "cell_type": "markdown",
   "metadata": {},
   "source": [
    "## Q7: Explain uniform Distribution with an example."
   ]
  },
  {
   "cell_type": "markdown",
   "metadata": {},
   "source": [
    "A uniform distribution, also known as a rectangular distribution, is a probability distribution in statistics that describes a situation where all values within a specific range have an equal probability of occurring. In other words, each possible outcome is equally likely.\n",
    "\n",
    "The probability density function (PDF) of a continuous uniform distribution is characterized by a constant probability over a specified interval. The formula for the PDF of a continuous uniform distribution over the interval [a, b] is as follows:\n",
    "\n",
    "> - f(x) = 1 / (b - a) for a ≤ x ≤ b\n",
    "> - f(x) = 0 otherwise\n",
    "\n",
    "Here's an example to illustrate a uniform distribution:\n",
    "\n",
    "Example: Rolling a Fair Six-Sided Die\n",
    "\n",
    "Consider rolling a fair six-sided die. The die has six faces, numbered from 1 to 6. When you roll the die, each outcome (1, 2, 3, 4, 5, or 6) has an equal probability of occurring, assuming the die is not biased.\n",
    "\n",
    "In this case, the probability of each outcome is 1/6 because there are 6 equally likely outcomes, and the total probability must sum to 1. This is an example of a discrete uniform distribution.\n",
    "\n",
    "In the context of a uniform distribution, this means that if you were to plot a histogram of the results of rolling the die a large number of times, you would see a flat, uniform shape because each number has the same probability of occurring."
   ]
  },
  {
   "cell_type": "markdown",
   "metadata": {},
   "source": [
    "## Q8: What is the z score? State the importance of the z score."
   ]
  },
  {
   "cell_type": "markdown",
   "metadata": {},
   "source": [
    "The z-score, also known as the standard score or standard deviation score, is a statistical measure that quantifies how many standard deviations a data point is away from the mean (average) of a dataset. It is a way to standardize and compare data points from different distributions, allowing for a better understanding of where a specific data point stands relative to the mean.\n",
    "\n",
    "The formula to calculate the z-score of a data point, denoted as \"z,\" is as follows:\n",
    "\n",
    "> z = (x-μ)/σ\n",
    "\n",
    "Where:\n",
    "\n",
    "- z is the z-score.\n",
    "- x is the individual data point.\n",
    "- μ is the mean (average) of the dataset.\n",
    "- σ is the standard deviation of the dataset.\n",
    "\n",
    "\n",
    "The importance of the z-score can be summarized as follows:\n",
    "\n",
    "1. **Standardization:** Z-scores allow for the standardization of data. By expressing data points in terms of standard deviations from the mean, you can compare and analyze data from different datasets that may have different units or scales.\n",
    "\n",
    "2. **Identifying Outliers:** Z-scores are commonly used to identify outliers in a dataset. Data points with z-scores that are significantly different from the mean (usually beyond a certain threshold, e.g., z-scores greater than 2 or less than -2) may be considered outliers.\n",
    "\n",
    "3. **Normal Distribution:** In a standard normal distribution (a special case of the normal distribution with a mean of 0 and a standard deviation of 1), approximately 68% of data falls within one standard deviation of the mean, 95% within two standard deviations, and 99.7% within three standard deviations. Z-scores help you determine the percentage of data within a given range.\n",
    "\n",
    "4. **Hypothesis Testing:** Z-scores are often used in hypothesis testing and confidence interval calculations. They help in assessing whether a sample statistic is significantly different from a population parameter.\n",
    "\n",
    "5. **Data Transformation:** Z-scores are useful in transforming data to have a mean of 0 and a standard deviation of 1. This transformation can be helpful in certain statistical analyses.\n",
    "\n",
    "6. **Data Analysis:** Z-scores provide a common scale for data, making it easier to compare and interpret values within a dataset."
   ]
  },
  {
   "cell_type": "markdown",
   "metadata": {},
   "source": [
    "## Q9: What is Central Limit Theorem? State the significance of the Central Limit Theorem."
   ]
  },
  {
   "cell_type": "markdown",
   "metadata": {},
   "source": [
    "The Central Limit Theorem (CLT) is a fundamental concept in statistics. It states that if you take a sufficiently large sample size from a population with a finite level of variance, the mean of all samples from that population will be roughly equal to the population mean. This theorem allows you to simplify problems in statistics by allowing you to work with a distribution that is approximately normal.\n",
    "\n",
    "The significance of the Central Limit Theorem is vast and it has several applications:\n",
    "- It is at the heart of hypothesis testing.\n",
    "- It is used in political/election polling to estimate the number of people who support a specific candidate.\n",
    "- It is used in various census fields to calculate various population details, such as family income, electricity consumption, individual salaries, and so on.\n",
    "- It notes that the sample means converge on the population means and the distance between them converges to be normally distributed with a variance equal to the population variance as the sample size increases.\n",
    "\n",
    "In essence, the Central Limit Theorem is a crucial pillar of statistics and machine learning.\n"
   ]
  },
  {
   "cell_type": "markdown",
   "metadata": {},
   "source": [
    "## Q10: State the assumptions of the Central Limit Theorem."
   ]
  },
  {
   "cell_type": "markdown",
   "metadata": {},
   "source": [
    "The Central Limit Theorem (CLT) is based on the following assumptions³⁴⁵:\n",
    "\n",
    "1. **Randomization**: The samples must be drawn randomly.\n",
    "2. **Independence**: The samples drawn should be independent of each other, meaning one sample should not influence the others.\n",
    "3. **Sample Size**: When the sampling is done without replacement, the sample size shouldn’t exceed 10% of the total population. Also, the sample size must be sufficiently large, usually n > 30³."
   ]
  }
 ],
 "metadata": {
  "language_info": {
   "name": "python"
  }
 },
 "nbformat": 4,
 "nbformat_minor": 2
}
