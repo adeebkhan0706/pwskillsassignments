{
 "cells": [
  {
   "cell_type": "markdown",
   "metadata": {},
   "source": []
  },
  {
   "cell_type": "markdown",
   "metadata": {},
   "source": [
    "## Q1. What are the three measures of central tendency? "
   ]
  },
  {
   "cell_type": "markdown",
   "metadata": {},
   "source": [
    ">The three measures of central tendency are:\n",
    "\n",
    ">Mean: The mean, also known as the average, is calculated by adding up all the values in a data set and then dividing the sum by the total number of values. It represents the \"typical\" value in a dataset.\n",
    "\n",
    ">Median: The median is the middle value in a data set when the values are arranged in ascending or descending order. If there is an even number of values, the median is the average of the two middle values. The median is less sensitive to extreme values (outliers) compared to the mean.\n",
    "\n",
    ">Mode: The mode is the value that appears most frequently in a data set. A dataset can have no mode, one mode (unimodal), or multiple modes (multimodal). The mode can be useful for identifying the most common value or category in a dataset, particularly in categorical data."
   ]
  },
  {
   "cell_type": "markdown",
   "metadata": {},
   "source": [
    "## Q2. What is the difference between the mean, median, and mode? How are they used to measure the central tendency of a dataset? "
   ]
  },
  {
   "cell_type": "markdown",
   "metadata": {},
   "source": [
    ">The mean, median, and mode are three different measures of central tendency, and they serve distinct purposes in summarizing and understanding a dataset. Here are the key differences between them and how they are used to measure the central tendency of a dataset:\n",
    "\n",
    ">1. Mean:\n",
    ">>Calculation: The mean, also known as the average, is calculated by adding up all the values in a dataset and then dividing the sum by the total number of values. Mathematically, it is represented as (Σx) / N, where Σx is the sum of all values, and N is the number of values.\n",
    "\n",
    ">>Sensitivity to Values: The mean is sensitive to extreme values (outliers) in the dataset. A single outlier can significantly affect the mean.\n",
    "\n",
    ">>Use: The mean is used to find the \"typical\" or \"average\" value in a dataset. It is commonly used in situations where you want to balance out all values to obtain a central estimate.\n",
    "\n",
    ">2. Median:\n",
    ">>Calculation: The median is the middle value in a dataset when the values are arranged in ascending or descending order. If there is an even number of values, the median is the average of the two middle values.\n",
    "\n",
    ">>Sensitivity to Values: The median is less sensitive to extreme values compared to the mean. It is not affected by the actual values but only their order.\n",
    "\n",
    ">>Use: The median is used to find the middle point in a dataset. It is particularly useful when there are outliers or when you are interested in the central value that divides the dataset into two equal halves.\n",
    "\n",
    ">3. Mode:\n",
    ">>Calculation: The mode is the value that appears most frequently in a dataset. A dataset can have no mode, one mode (unimodal), or multiple modes (multimodal).\n",
    "\n",
    ">>Sensitivity to Values: The mode is not sensitive to the actual values, only their frequency of occurrence.\n",
    "\n",
    ">>Use: The mode is used to identify the most common value or category in a dataset, particularly in categorical or discrete data. It helps describe the data's typical category or occurrence."
   ]
  },
  {
   "cell_type": "markdown",
   "metadata": {},
   "source": [
    "## Q3. Measure the three measures of central tendency for the given height data: [178,177,176,177,178.2,178,175,179,180,175,178.9,176.2,177,172.5,178,176.5] "
   ]
  },
  {
   "cell_type": "code",
   "execution_count": 18,
   "metadata": {},
   "outputs": [
    {
     "name": "stdout",
     "output_type": "stream",
     "text": [
      "Mean (Average): 177.01875\n",
      "Median: 177.0\n",
      "Mode: 177.0\n"
     ]
    }
   ],
   "source": [
    "import numpy as np\n",
    "from scipy import stats\n",
    "\n",
    "data = [178,177,176,177,178.2,178,175,179,180,175,178.9,176.2,177,172.5,178,176.5] \n",
    "\n",
    "data_np = np.array(data)\n",
    "\n",
    "mean = np.mean(data_np)\n",
    "median = np.median(data_np)\n",
    "mode = stats.mode(data_np)[0]\n",
    "\n",
    "print(\"Mean (Average):\", mean)\n",
    "print(\"Median:\", median)\n",
    "print(\"Mode:\", mode)"
   ]
  },
  {
   "cell_type": "markdown",
   "metadata": {},
   "source": [
    "## Q4. Find the standard deviation for the given data: [178,177,176,177,178.2,178,175,179,180,175,178.9,176.2,177,172.5,178,176.5] "
   ]
  },
  {
   "cell_type": "code",
   "execution_count": 19,
   "metadata": {},
   "outputs": [
    {
     "name": "stdout",
     "output_type": "stream",
     "text": [
      "Standard Deviation: 1.7885814036548633\n"
     ]
    }
   ],
   "source": [
    "import numpy as np\n",
    "data = [178,177,176,177,178.2,178,175,179,180,175,178.9,176.2,177,172.5,178,176.5] \n",
    "\n",
    "# Calculate the standard deviation\n",
    "std_dev = np.std(data)\n",
    "\n",
    "# Print the result\n",
    "print(\"Standard Deviation:\", std_dev)"
   ]
  },
  {
   "cell_type": "markdown",
   "metadata": {},
   "source": [
    "## Q5. How are measures of dispersion such as range, variance, and standard deviation used to describe the spread of a dataset? Provide an example. "
   ]
  },
  {
   "cell_type": "markdown",
   "metadata": {},
   "source": [
    "    Measures of dispersion, such as range, variance, and standard deviation, are used to describe the spread or variability of a dataset. They provide insight into how the values in a dataset are distributed around the central tendency (mean, median, or mode). Here's how each of these measures is used and an example to illustrate their utility:\n",
    "1. Range:\n",
    "    The range is the simplest measure of dispersion and is calculated as the difference between the maximum and minimum values in a dataset.\n",
    "    It provides an idea of the total spread of data.\n",
    "    Example:\n",
    "    Suppose you have a dataset of exam scores for a class, and the range of scores is from 50 to 95. The range in this case is 95 - 50 = 45, indicating that the scores vary by 45 points from the lowest to the highest.\n",
    "\n",
    "2. Variance:\n",
    "    Variance measures the average of the squared differences between each data point and the mean.\n",
    "    It provides a measure of the overall variability in the data.\n",
    "    Example:\n",
    "    Consider a dataset of daily temperatures for a city over a week: [75, 78, 74, 82, 77, 79, 76]. The mean temperature is 77 degrees. The variance is calculated as (1/6) * ((75-77)^2 + (78-77)^2 + (74-77)^2 + (82-77)^2 + (77-77)^2 + (79-77)^2 + (76-77)^2), which yields a variance of approximately 6.33. A higher variance indicates greater variability in daily temperatures.\n",
    "    \n",
    "3. Standard Deviation:\n",
    "    The standard deviation is the square root of the variance and is often preferred as it is in the same unit as the data.\n",
    "    It provides a measure of how spread out the data is, and it's particularly useful for comparing the spread between datasets with different units or scales."
   ]
  },
  {
   "cell_type": "markdown",
   "metadata": {},
   "source": [
    "## Q6. What is a Venn diagram? "
   ]
  },
  {
   "cell_type": "markdown",
   "metadata": {},
   "source": [
    "    A Venn diagram is a graphical representation used to illustrate the relationships between sets. It is named after John Venn, a British logician and philosopher who introduced the concept in the late 19th century. Venn diagrams are particularly useful for visualizing the intersections and differences between different sets or groups of items.\n",
    "\n",
    "    In a Venn diagram, sets are typically represented as circles or ellipses, and the areas where these circles overlap indicate the elements that are common to both sets. The non-overlapping regions represent elements that are unique to each set. Venn diagrams are a helpful tool for understanding set theory and logical relationships.\n",
    "\n",
    "    Key elements of a Venn diagram include:\n",
    "\n",
    "1. Sets: Each set is represented by a closed curve (usually a circle or ellipse). The elements of the set are listed inside or outside the curve.\n",
    "\n",
    "2. Intersections: Overlapping areas between the curves represent the elements that are common to multiple sets.\n",
    "\n",
    "3. Union: The entire region enclosed by all the sets represents the union of those sets, which includes all the elements from any of the sets.\n",
    "\n",
    "4. Complements: The areas outside the curves represent the elements that do not belong to any of the sets, also known as the complement of the sets.\n",
    "\n",
    "Venn diagrams are widely used in various fields, including mathematics, statistics, logic, and data visualization, to visually represent relationships between different groups or categories. They are especially useful for illustrating concepts such as set operations (union, intersection, difference) and for solving problems involving multiple categories or criteria."
   ]
  },
  {
   "cell_type": "markdown",
   "metadata": {},
   "source": [
    "## Q7. For the two given sets A = (2,3,4,5,6,7) & B = (0,2,6,8,10). Find: (i) A ∩ B (ii) A ⋃ B "
   ]
  },
  {
   "cell_type": "code",
   "execution_count": 24,
   "metadata": {},
   "outputs": [
    {
     "name": "stdout",
     "output_type": "stream",
     "text": [
      "Intersection (A ∩ B): {2, 6}\n",
      "Union (A ∪ B): {0, 2, 3, 4, 5, 6, 7, 8, 10}\n"
     ]
    }
   ],
   "source": [
    "A = {2,3,4,5,6,7}\n",
    "B = {0,2,6,8,10}\n",
    "\n",
    "# Calculate the intersection (A ∩ B)\n",
    "intersection = A.intersection(B)\n",
    "\n",
    "# Calculate the union (A ∪ B)\n",
    "union = A.union(B)\n",
    "\n",
    "# Print the results\n",
    "print(\"Intersection (A ∩ B):\", intersection)\n",
    "print(\"Union (A ∪ B):\", union)\n"
   ]
  },
  {
   "cell_type": "markdown",
   "metadata": {},
   "source": [
    "## Q8. What do you understand about skewness in data? "
   ]
  },
  {
   "cell_type": "markdown",
   "metadata": {},
   "source": [
    "Skewness in data is a statistical measure that describes the asymmetry or lack of symmetry in the distribution of a dataset. It quantifies the degree to which the data is skewed or tilted to one side of the mean or median. In other words, it provides information about the shape of the data distribution.\n",
    "\n",
    "There are three main types of skewness:\n",
    "\n",
    "1. Positive Skew (Right Skew):\n",
    "\n",
    "    - In a positively skewed distribution, the tail on the right-hand side (the larger values) is longer or fatter than the left-hand side.\n",
    "    - The majority of the data points are concentrated on the left side, and there are a few larger values on the right side.\n",
    "    - The mean is typically greater than the median in a positively skewed distribution because the larger values on the right side of the distribution pull the mean in that direction.\n",
    "\n",
    "2. Negative Skew (Left Skew):\n",
    "\n",
    "    - In a negatively skewed distribution, the tail on the left-hand side (the smaller values) is longer or fatter than the right-hand side.\n",
    "    - Most data points are concentrated on the right side, and there are a few smaller values on the left side.\n",
    "    - The mean is typically less than the median in a negatively skewed distribution because the smaller values on the left side pull the mean in that direction.\n",
    "\n",
    "3. No Skew (Symmetrical):\n",
    "\n",
    "    - In a symmetrical distribution, the data is evenly distributed on both sides of the mean or median.\n",
    "    - The left and right tails are of equal length and similar shape.\n",
    "    - The mean and median are approximately the same in a symmetrical distribution.\n",
    "    \n",
    "Skewness can be quantified using statistical measures like the skewness coefficient or skewness index. A positive skewness coefficient indicates positive skew, a negative coefficient indicates negative skew, and a coefficient close to zero suggests little or no skew."
   ]
  },
  {
   "cell_type": "markdown",
   "metadata": {},
   "source": [
    "## Q9. If a data is right skewed then what will be the position of median with respect to mean? "
   ]
  },
  {
   "cell_type": "markdown",
   "metadata": {},
   "source": [
    "- Mean > Median"
   ]
  },
  {
   "cell_type": "markdown",
   "metadata": {},
   "source": [
    "## Q10. Explain the difference between covariance and correlation. How are these measures used in statistical analysis?"
   ]
  },
  {
   "cell_type": "markdown",
   "metadata": {},
   "source": [
    "Covariance and correlation are both measures used to quantify the relationship between two variables in statistical analysis. However, they differ in terms of scale and interpretation:\n",
    "\n",
    "Covariance:\n",
    "\n",
    "1. Definition: Covariance measures the degree to which two variables change together. It indicates whether an increase in one variable corresponds to an increase or decrease in another.\n",
    "2. Scale: The scale of covariance is in the units of the two variables being analyzed, which makes it difficult to interpret, as the magnitude of covariance depends on the scales of the variables.\n",
    "3. Interpretation: A positive covariance indicates a positive relationship (as one variable increases, the other tends to increase), while a negative covariance indicates a negative relationship (as one variable increases, the other tends to decrease).\n",
    "4. Magnitude: The magnitude of covariance does not have an upper or lower bound, making it challenging to compare across different datasets.\n",
    "\n",
    "Correlation:\n",
    "\n",
    "1. Definition: Correlation is a standardized measure that quantifies the strength and direction of the linear relationship between two variables. It scales the covariance by the standard deviations of the variables.\n",
    "2. Scale: The correlation coefficient, denoted by \"r,\" is a unitless value that ranges from -1 to 1. An \"r\" of -1 indicates a perfect negative linear relationship, an \"r\" of 1 indicates a perfect positive linear relationship, and an \"r\" of 0 indicates no linear relationship.\n",
    "3. Interpretation: Correlation provides a more straightforward interpretation as it quantifies the strength and direction of the relationship on a standardized scale. Positive correlations are represented by \"r\" values between 0 and 1, while negative correlations have \"r\" values between 0 and -1.\n",
    "4. Magnitude: The magnitude of correlation is bound between -1 and 1, which makes it easier to compare across datasets and variables.\n",
    "\n",
    "In statistical analysis:\n",
    "\n",
    "- Covariance can help identify whether two variables tend to move in the same or opposite directions. However, the actual magnitude of covariance doesn't provide a clear understanding of the strength of the relationship, and it is sensitive to the units of measurement.\n",
    "\n",
    "- Correlation is widely used to measure the strength and direction of linear relationships between variables. It's especially valuable for comparing the relationships between different pairs of variables since it's unitless and bounded between -1 and 1. The Pearson correlation coefficient is commonly used for linear relationships, but other correlation measures like the Spearman rank correlation or Kendall's tau can be used for non-linear relationships."
   ]
  },
  {
   "cell_type": "markdown",
   "metadata": {},
   "source": [
    "## Q11. What is the formula for calculating the sample mean? Provide an example calculation for a dataset."
   ]
  },
  {
   "cell_type": "markdown",
   "metadata": {},
   "source": [
    "The formula for calculating the sample mean (average) is as follows:\n",
    "\n",
    "Sample Mean (x̄) = (Sum of all data points) / (Number of data points)\n",
    "\n",
    "In mathematical notation, it can be expressed as:\n",
    "\n",
    "> x̄ = (Σx) / N \n",
    "\n",
    "Where:\n",
    "\n",
    "x̄ is the sample mean (average).\n",
    "Σx represents the sum of all the data points.\n",
    "N is the number of data points.\n",
    "Let's calculate the sample mean for a dataset as an example. Suppose we have the following dataset of test scores:\n",
    "\n",
    "Dataset: [85, 90, 78, 92, 88, 95]\n",
    "\n",
    "To calculate the sample mean:\n",
    "\n",
    "Sum all the data points: Σx = 85 + 90 + 78 + 92 + 88 + 95 = 528\n",
    "Count the number of data points: N = 6\n",
    "Now, apply the formula:\n",
    "\n",
    "Sample Mean (x̄) = Σx / N\n",
    "Sample Mean (x̄) = 528 / 6\n",
    "Sample Mean (x̄) = 88\n",
    "\n",
    "So, the sample mean for the given dataset of test scores is 88. This means that the average test score in the dataset is 88."
   ]
  },
  {
   "cell_type": "markdown",
   "metadata": {},
   "source": [
    "## Q12. For a normal distribution data what is the relationship between its measure of central tendency? \n"
   ]
  },
  {
   "cell_type": "markdown",
   "metadata": {},
   "source": [
    "In a normal distribution, also known as a Gaussian distribution or bell-shaped curve, there is a specific and well-defined relationship between its measures of central tendency, which are the mean, median, and mode. The key relationships are as follows:\n",
    "\n",
    "1. Mean (Average):\n",
    "- In a normal distribution, the mean is located at the center of the distribution.\n",
    "- The mean is equal to the median, which means that they have the same value.\n",
    "- Mathematically, Mean = Median in a perfectly normal distribution.\n",
    "\n",
    "2. Median:\n",
    "- The median in a normal distribution is also located at the center, just like the mean.\n",
    "- The median is equal to the mean, as mentioned above.\n",
    "\n",
    "3. Mode:\n",
    "- In a normal distribution, the mode is also at the center of the distribution.\n",
    "- The mode is equal to the mean and median."
   ]
  },
  {
   "cell_type": "markdown",
   "metadata": {},
   "source": [
    "## Q13. How is covariance different from correlation? "
   ]
  },
  {
   "cell_type": "markdown",
   "metadata": {},
   "source": [
    "Covariance and correlation are both measures used to describe the relationship between two variables, but they differ in several important ways:\n",
    "\n",
    "1. Covariance:\n",
    "- Definition: Covariance measures the degree to which two variables change together. It indicates whether an increase in one variable corresponds to an increase or decrease in another.\n",
    "- Scale: The scale of covariance is in the units of the two variables being analyzed, which makes it difficult to interpret, as the magnitude of covariance depends on the scales of the variables.\n",
    "- Interpretation: A positive covariance indicates a positive relationship (as one variable increases, the other tends to increase), while a negative covariance indicates a negative relationship (as one variable increases, the other tends to decrease).\n",
    "- Magnitude: The magnitude of covariance does not have an upper or lower bound, making it challenging to compare across different datasets.\n",
    "\n",
    "2. Correlation:\n",
    "- Definition: Correlation is a standardized measure that quantifies the strength and direction of the linear relationship between two variables. It scales the covariance by the standard deviations of the variables.\n",
    "- Scale: The correlation coefficient, denoted by \"r,\" is a unitless value that ranges from -1 to 1. An \"r\" of -1 indicates a perfect negative linear relationship, an \"r\" of 1 indicates a perfect positive linear relationship, and an \"r\" of 0 indicates no linear relationship.\n",
    "- Interpretation: Correlation provides a more straightforward interpretation as it quantifies the strength and direction of the relationship on a standardized scale. Positive correlations are represented by \"r\" values between 0 and 1, while negative correlations have \"r\" values between 0 and -1.\n",
    "- Magnitude: The magnitude of correlation is bound between -1 and 1, making it easier to compare across datasets and variables."
   ]
  },
  {
   "cell_type": "markdown",
   "metadata": {},
   "source": [
    "## Q14. How do outliers affect measures of central tendency and dispersion? Provide an example."
   ]
  },
  {
   "cell_type": "markdown",
   "metadata": {},
   "source": [
    "Outliers are data points that significantly deviate from the majority of the data in a dataset. They can have a substantial impact on measures of central tendency (mean, median, mode) and measures of dispersion (range, variance, standard deviation). Here's how outliers affect these measures, along with an example:\n",
    "\n",
    "1. Measures of Central Tendency:\n",
    "- Mean: Outliers can pull the mean in their direction. A single extreme outlier can significantly affect the mean, making it unrepresentative of the typical data point.\n",
    "- Median: The median is less affected by outliers. It remains relatively stable because it is not influenced by the specific values of outliers.\n",
    "- Mode: The mode can be influenced by outliers if they represent the most common value in the dataset.\n",
    "\n",
    "2. Measures of Dispersion:\n",
    "- Range: Outliers can significantly affect the range, particularly if they are extreme values. The range expands to accommodate the extreme values.\n",
    "- Variance and Standard Deviation: Outliers can increase the variance and standard deviation because they introduce additional variability in the dataset, making the data points more spread out from the mean.\n",
    "\n",
    "Example:\n",
    "Consider a dataset of income levels for a small group of individuals:\n",
    "\n",
    "Income: [20, 25, 30, 35, 40, 200]\n",
    "\n",
    "- Mean: Without the outlier (200), the mean income is (20+25+30+35+40)/5 = 30. With the outlier, it becomes (20+25+30+35+40+200)/6 = 61.67.\n",
    "- Median: The median remains unaffected by the outlier, and it is 32.5 in both cases.\n",
    "- Range: Without the outlier, the range is 40 - 20 = 20. With the outlier, the range is 200 - 20 = 180.\n",
    "- Variance and Standard Deviation: These measures increase when the outlier is included because of the additional variability introduced by the extreme value."
   ]
  },
  {
   "cell_type": "markdown",
   "metadata": {},
   "source": []
  }
 ],
 "metadata": {
  "kernelspec": {
   "display_name": ".venv",
   "language": "python",
   "name": "python3"
  },
  "language_info": {
   "codemirror_mode": {
    "name": "ipython",
    "version": 3
   },
   "file_extension": ".py",
   "mimetype": "text/x-python",
   "name": "python",
   "nbconvert_exporter": "python",
   "pygments_lexer": "ipython3",
   "version": "3.11.6"
  }
 },
 "nbformat": 4,
 "nbformat_minor": 2
}
