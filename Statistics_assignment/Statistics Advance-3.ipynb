{
 "cells": [
  {
   "cell_type": "markdown",
   "metadata": {},
   "source": [
    "# Statistics Advance-3"
   ]
  },
  {
   "cell_type": "markdown",
   "metadata": {},
   "source": [
    "## Q1: What is Estimation Statistics? Explain point estimate and interval estimate."
   ]
  },
  {
   "cell_type": "markdown",
   "metadata": {},
   "source": [
    "Estimation statistics involves the use of sample data to make inferences or predictions about population parameters. There are two main types of estimation in statistics: point estimation and interval estimation.\n",
    "\n",
    "1. **Point Estimate**:\n",
    "\n",
    "    - A point estimate is a single value that is used to approximate the population parameter. It is based on sample data and provides the best guess for the true value of the parameter. Common point estimates include the sample mean $(\\hat{X})$ for estimating the population mean $(μ)$, the sample proportion $(p)$ for estimating the population proportion $(P)$, and the sample standard deviation $(s)$ for estimating the population standard deviation $(σ)$.\n",
    "\n",
    "    Example:\n",
    "    - If you calculate the mean height of a sample of students and obtain $X$ = 65 inches, then 65 inches is the point estimate for the population mean height.\n",
    "\n",
    "\n",
    "2. **Interval Estimate**:\n",
    "\n",
    "    - An interval estimate provides a range of values within which the true population parameter is likely to fall, along with a level of confidence associated with that range. It recognizes the uncertainty inherent in estimating a parameter based on a sample. The interval estimate is expressed as a confidence interval.\n",
    "\n",
    "    Example:\n",
    "    - Instead of providing a single point estimate for the average income of a population, you might provide an interval estimate like \"The average income of the population is estimated to be between $50,000 and $60,000 with 95% confidence.\" This indicates a level of confidence that the true parameter falls within the specified interval."
   ]
  },
  {
   "cell_type": "markdown",
   "metadata": {},
   "source": [
    "## Q2. Write a Python function to estimate the population mean using a sample mean and standard deviation."
   ]
  },
  {
   "cell_type": "code",
   "execution_count": 1,
   "metadata": {},
   "outputs": [
    {
     "name": "stdout",
     "output_type": "stream",
     "text": [
      "Population mean estimate (95% confidence interval): (63.1329693162095, 66.8670306837905)\n"
     ]
    }
   ],
   "source": [
    "import scipy.stats as stats\n",
    "import math\n",
    "\n",
    "def estimate_population_mean(sample_mean, sample_std_dev, sample_size, confidence_level=0.95):\n",
    "    \"\"\"\n",
    "    Estimate the population mean using a sample mean and standard deviation.\n",
    "\n",
    "    Parameters:\n",
    "    - sample_mean: The mean of the sample.\n",
    "    - sample_std_dev: The standard deviation of the sample.\n",
    "    - sample_size: The size of the sample.\n",
    "    - confidence_level: The desired confidence level (default is 0.95 for a 95% confidence interval).\n",
    "\n",
    "    Returns:\n",
    "    - A tuple containing the lower and upper bounds of the confidence interval.\n",
    "    \"\"\"\n",
    "    # Calculate the standard error of the mean\n",
    "    standard_error = sample_std_dev / math.sqrt(sample_size)\n",
    "\n",
    "    # Calculate the degrees of freedom (using sample_size - 1 for a sample)\n",
    "    degrees_of_freedom = sample_size - 1\n",
    "\n",
    "    # Find the critical value for a two-tailed test\n",
    "    alpha = 1 - confidence_level\n",
    "    t_critical = stats.t.ppf(1 - alpha / 2, degrees_of_freedom)\n",
    "\n",
    "    # Calculate the margin of error\n",
    "    margin_of_error = t_critical * standard_error\n",
    "\n",
    "    # Calculate the confidence interval bounds\n",
    "    lower_bound = sample_mean - margin_of_error\n",
    "    upper_bound = sample_mean + margin_of_error\n",
    "\n",
    "    return lower_bound, upper_bound\n",
    "\n",
    "# Example usage:\n",
    "sample_mean = 65.0\n",
    "sample_std_dev = 5.0\n",
    "sample_size = 30\n",
    "confidence_level = 0.95\n",
    "\n",
    "confidence_interval = estimate_population_mean(sample_mean, sample_std_dev, sample_size, confidence_level)\n",
    "print(f\"Population mean estimate (95% confidence interval): {confidence_interval}\")\n"
   ]
  },
  {
   "cell_type": "markdown",
   "metadata": {},
   "source": [
    "## Q3: What is Hypothesis testing? Why is it used? State the importance of Hypothesis testing."
   ]
  },
  {
   "cell_type": "markdown",
   "metadata": {},
   "source": [
    "**Hypothesis testing** is a statistical method used to make inferences about population parameters based on a sample of data. It involves formulating a hypothesis about the population parameter, collecting data, and then using statistical techniques to assess the evidence against or in favor of the hypothesis.\n",
    "\n",
    "The process typically involves two hypotheses:\n",
    "\n",
    "1. **Null Hypothesis $(H_{0})$**: This hypothesis suggests that any observed differences or effects are due to random chance or sampling error. It represents a kind of default assumption.\n",
    "\n",
    "2. **Alternative Hypothesis $(H_{1}$ or $H_{a})$**: This hypothesis proposes that there is a significant effect, difference, or relationship in the population.\n",
    "\n",
    "The goal of hypothesis testing is to determine whether there is enough evidence in the sample data to reject the null hypothesis in favor of the alternative hypothesis.\n",
    "\n",
    "**Importance of Hypothesis Testing**:\n",
    "\n",
    "1. **Scientific Research**: Hypothesis testing is fundamental in scientific research to validate or refute theories and hypotheses. It helps researchers draw conclusions about the population based on sample data.\n",
    "\n",
    "2. **Decision Making**: It is widely used in decision-making processes, especially in business and industry. For example, a company might use hypothesis testing to decide whether a new product launch has a significant impact on sales.\n",
    "\n",
    "3. **Quality Control**: Industries use hypothesis testing to ensure the quality of products. By testing samples from production batches, companies can make inferences about the quality of the entire batch.\n",
    "\n",
    "4. **Medicine and Healthcare**: Hypothesis testing is crucial in clinical trials to determine whether a new drug or treatment is effective. It helps in making decisions about adopting new medical practices based on evidence.\n",
    "\n",
    "5. **Social Sciences**: In fields such as psychology and sociology, hypothesis testing is used to draw conclusions about human behavior, attitudes, and social phenomena.\n",
    "\n",
    "6. **Policy and Government**: Governments often use hypothesis testing to assess the effectiveness of policies and interventions. For example, policymakers might use hypothesis testing to determine whether a new education program has a significant impact on student performance."
   ]
  },
  {
   "cell_type": "markdown",
   "metadata": {},
   "source": [
    "## Q4. Create a hypothesis that states whether the average weight of male college students is greater than the average weight of female college students."
   ]
  },
  {
   "cell_type": "markdown",
   "metadata": {},
   "source": [
    "**Null Hypothesis $(H_{0})$**:\n",
    "The average weight of male college students is equal to or less than the average weight of female college students.\n",
    "\n",
    "**Alternative Hypothesis ($H_{1}$ or $H_{a}$)**:\n",
    "The average weight of male college students is greater than the average weight of female college students.\n",
    "\n",
    "Symbolically, if $μ_{m}$ represents the average weight of male college students and $μ_{f}$ represents the average weight of female college students, the hypotheses can be written as:\n",
    "\n",
    "$H_{0} : μ_{m} <_{=} μ_{f}$\n",
    "$H_{1} : μ_{m} > μ_{f}$\n",
    "Here, $μ$ is the symbol for the population mean. The null hypothesis suggests that there is no significant difference or that male students might, on average, weigh less than or equal to female students. The alternative hypothesis posits that the average weight of male students is greater than that of female students.\n",
    "\n",
    "\n",
    "\n",
    "\n"
   ]
  },
  {
   "cell_type": "markdown",
   "metadata": {},
   "source": [
    "## Q5. Write a Python script to conduct a hypothesis test on the difference between two population means, given a sample from each population.\n"
   ]
  },
  {
   "cell_type": "code",
   "execution_count": 1,
   "metadata": {},
   "outputs": [
    {
     "name": "stdout",
     "output_type": "stream",
     "text": [
      "Test Statistic: 3.9462790956016813\n",
      "P-value: 0.00021692578547756098\n",
      "Reject the null hypothesis. There is enough evidence to suggest a significant difference.\n"
     ]
    }
   ],
   "source": [
    "import numpy as np\n",
    "from scipy import stats\n",
    "\n",
    "# Generate sample data for two populations\n",
    "np.random.seed(42)  # for reproducibility\n",
    "sample_size = 30\n",
    "\n",
    "# Sample data for population 1 (e.g., weights of male college students)\n",
    "population1 = np.random.normal(loc=70, scale=5, size=sample_size)\n",
    "\n",
    "# Sample data for population 2 (e.g., weights of female college students)\n",
    "population2 = np.random.normal(loc=65, scale=5, size=sample_size)\n",
    "\n",
    "# Perform a two-sample t-test\n",
    "t_stat, p_value = stats.ttest_ind(population1, population2)\n",
    "\n",
    "# Set the significance level (alpha)\n",
    "alpha = 0.05\n",
    "\n",
    "# Print the results\n",
    "print(f'Test Statistic: {t_stat}')\n",
    "print(f'P-value: {p_value}')\n",
    "\n",
    "# Compare p-value to the significance level\n",
    "if p_value < alpha:\n",
    "    print(\"Reject the null hypothesis. There is enough evidence to suggest a significant difference.\")\n",
    "else:\n",
    "    print(\"Fail to reject the null hypothesis. There is not enough evidence to suggest a significant difference.\")\n"
   ]
  },
  {
   "cell_type": "markdown",
   "metadata": {},
   "source": [
    "- Two random normal distributions are generated as samples for two populations (you can replace them with your actual data).\n",
    "- The ttest_ind function from scipy.stats is used to perform a two-sample t-test.\n",
    "- The test statistic and p-value are printed.\n",
    "- The results are interpreted by comparing the p-value to the chosen significance level (alpha). If the p-value is less than alpha, you reject the null hypothesis."
   ]
  },
  {
   "cell_type": "markdown",
   "metadata": {},
   "source": [
    "## Q6: What is a null and alternative hypothesis? Give some examples."
   ]
  },
  {
   "cell_type": "markdown",
   "metadata": {},
   "source": [
    "In statistical hypothesis testing, the null hypothesis (H0) and alternative hypothesis (H1 or Ha) are statements about a population parameter. These hypotheses are formulated to make inferences about the population based on sample data.\n",
    "\n",
    "**Null Hypothesis $(H_{0})$**:\n",
    "The null hypothesis is a statement of no effect, no difference, or no relationship in the population. It often represents a default or status quo assumption.\n",
    "\n",
    "**Examples:**\n",
    "\n",
    "1. The average height of male and female students is the same.\n",
    "2. There is no difference in test scores between two teaching methods.\n",
    "3. A new drug has no effect on patient blood pressure.\n",
    "\n",
    "**Alternative Hypothesis $(H_{1} or H_{a})$**:\n",
    "The alternative hypothesis is a statement that contradicts the null hypothesis. It suggests that there is a significant effect, difference, or relationship in the population.\n",
    "\n",
    "**Examples (corresponding to the null hypothesis examples above):**\n",
    "\n",
    "1. The average height of male students is different from the average height of female students.\n",
    "2. There is a significant difference in test scores between two teaching methods.\n",
    "3. The new drug has a significant effect on patient blood pressure.\n",
    "\n",
    "In symbolic form, if $μ_{1}$ and $μ_{2}$ represent population means, these hypotheses can be written as:\n",
    "\n",
    "**Null Hypothesis $(H_{0})$**:\n",
    "\n",
    "$μ_{1}=μ_{2}​$\n",
    "\n",
    "**Alternate Hypothesis $(H_{1})$**:\n",
    "\n",
    "$μ_{1} \\neq μ_{2}​$\n",
    "\n",
    "or\n",
    "\n",
    "**Null Hypothesis $(H_{0})$**:\n",
    "\n",
    "$μ_{1}-μ_{2} = 0​$\n",
    "\n",
    "**Alternate Hypothesis $(H_{1})$**:\n",
    "\n",
    "$μ_{1} - μ_{2} \\neq 0​$\n",
    "\n",
    "The goal of hypothesis testing is to assess whether there is enough evidence in the sample data to reject the null hypothesis in favor of the alternative hypothesis. The choice between the null and alternative hypotheses depends on the research question and the hypothesis the researcher wants to test."
   ]
  },
  {
   "cell_type": "markdown",
   "metadata": {},
   "source": [
    "## Q7: Write down the steps involved in hypothesis testing."
   ]
  },
  {
   "cell_type": "markdown",
   "metadata": {},
   "source": [
    "Hypothesis testing involves several steps to draw conclusions about population parameters based on sample data. Here are the general steps in hypothesis testing:\n",
    "\n",
    "1. **Formulate Hypotheses**:\n",
    "    - Null Hypothesis $(H_{0})$: Stating a hypothesis of no effect, no difference, or no relationship in the population.\n",
    "    - Alternative Hypothesis $(H_{1}$ or $H_{a})$: Stating a hypothesis that contradicts the null hypothesis, suggesting a significant effect, difference, or relationship.\n",
    "\n",
    "    \n",
    "2. **Choose Significance Level $(α)$**:\n",
    "    - Select a significance level $(α)$ to determine the threshold for statistical significance. Common choices include 0.05, 0.01, or 0.10.\n",
    "\n",
    "3. **Collect Data**:\n",
    "    - Collect a sample from the population of interest.\n",
    "\n",
    "4. **Choose the Appropriate Statistical Test**:\n",
    "    - Based on the research question, data type, and assumptions, select the appropriate statistical test (e.g., t-test, chi-square test, ANOVA).\n",
    "\n",
    "5. **Calculate Test Statistic**:\n",
    "    - Compute the test statistic based on the sample data and the chosen statistical test.\n",
    "\n",
    "6. **Determine the Critical Region**:\n",
    "    - Identify the critical region or rejection region, which represents extreme values of the test statistic that would lead to the rejection of the null hypothesis.\n",
    "\n",
    "7. **Make a Decision**:\n",
    "    - Compare the calculated test statistic to the critical value(s) or use the p-value. If the test statistic falls in the critical region or if the p-value is less than $α$, reject the null hypothesis.\n",
    "\n",
    "8. **Draw a Conclusion**:\n",
    "    - Based on the comparison, draw a conclusion about the null hypothesis. State whether there is enough evidence to reject the null hypothesis in favor of the alternative hypothesis or if there is insufficient evidence.\n",
    "\n",
    "9. **Interpret the Results**:\n",
    "    - Interpret the findings in the context of the research question. Consider the practical significance of the results.\n",
    "\n",
    "10. **Report the Results**:\n",
    "    - Clearly communicate the results, including the test statistic, p-value, and the decision regarding the null hypothesis, in a manner that is understandable to the audience."
   ]
  },
  {
   "cell_type": "markdown",
   "metadata": {},
   "source": [
    "## Q8. Define p-value and explain its significance in hypothesis testing."
   ]
  },
  {
   "cell_type": "markdown",
   "metadata": {},
   "source": [
    "**P-value Definition**:\n",
    "\n",
    "The p-value, or probability value, is a measure that helps assess the evidence against a null hypothesis in hypothesis testing. It quantifies the likelihood of obtaining the observed data (or more extreme) under the assumption that the null hypothesis is true. In other words, the p-value indicates how probable it is to observe the observed results if there is no real effect or difference in the population.\n",
    "\n",
    "**Significance in Hypothesis Testing**:\n",
    "\n",
    "1. **Decision Rule**:\n",
    "    - If the p-value is less than or equal to the chosen significance level $(α)$, typically 0.05, the null hypothesis is rejected.\n",
    "    - If the p-value is greater than $α$, there is insufficient evidence to reject the null hypothesis.\n",
    "\n",
    "2. **Interpretation**:\n",
    "    - A small p-value (e.g., less than 0.05) suggests that the observed results are unlikely under the null hypothesis, leading to the rejection of the null hypothesis.\n",
    "    - A large p-value suggests that the observed results are likely to occur by random chance, leading to a failure to reject the null hypothesis.\n",
    "\n",
    "3. **Strength of Evidence**:\n",
    "    - The p-value provides a measure of the strength of evidence against the null hypothesis. A smaller p-value indicates stronger evidence against the null hypothesis.\n",
    "\n",
    "4. **Not a Probability of Hypotheses**:\n",
    "    - The p-value is often misunderstood as the probability that the null hypothesis is true. However, it only provides information about the probability of the observed data given the null hypothesis, not the reverse.\n",
    "\n",
    "5. **Decision-Making**:\n",
    "    - Researchers use the p-value to make decisions about whether to reject the null hypothesis. It helps determine whether the observed results are statistically significant.\n",
    "\n",
    "6. **Threshold for Significance**:\n",
    "    - The choice of significance level $(α)$ is crucial. Common values include 0.05, 0.01, or 0.10. A smaller $α$ leads to a more stringent criterion for rejecting the null hypothesis."
   ]
  },
  {
   "cell_type": "markdown",
   "metadata": {},
   "source": [
    "## Q9. Generate a Student's t-distribution plot using Python's matplotlib library, with the degrees of freedom parameter set to 10."
   ]
  },
  {
   "cell_type": "code",
   "execution_count": 2,
   "metadata": {},
   "outputs": [
    {
     "data": {
      "image/png": "[encoded data removed]",
      "text/plain": [
       "<Figure size 640x480 with 1 Axes>"
      ]
     },
     "metadata": {},
     "output_type": "display_data"
    }
   ],
   "source": [
    "import numpy as np\n",
    "import matplotlib.pyplot as plt\n",
    "from scipy.stats import t\n",
    "\n",
    "# Set the degrees of freedom\n",
    "degrees_of_freedom = 10\n",
    "\n",
    "# Generate values for the x-axis\n",
    "x = np.linspace(-4, 4, 1000)\n",
    "\n",
    "# Create the t-distribution\n",
    "t_distribution = t.pdf(x, df=degrees_of_freedom)\n",
    "\n",
    "# Plot the t-distribution\n",
    "plt.plot(x, t_distribution, label=f't-distribution (df={degrees_of_freedom})')\n",
    "plt.title(\"Student's t-distribution\")\n",
    "plt.xlabel('x')\n",
    "plt.ylabel('Probability Density Function (PDF)')\n",
    "plt.legend()\n",
    "plt.grid(True)\n",
    "plt.show()"
   ]
  },
  {
   "cell_type": "markdown",
   "metadata": {},
   "source": [
    "In this example:\n",
    "\n",
    "- We set the degrees of freedom to 10.\n",
    "- We generate values for the x-axis using np.linspace to cover a range from -4 to 4.\n",
    "- Using t.pdf, we create the probability density function (PDF) for the t-distribution.\n",
    "- Finally, we plot the t-distribution using plt.plot."
   ]
  },
  {
   "cell_type": "markdown",
   "metadata": {},
   "source": [
    "## Q10. Write a Python program to calculate the two-sample t-test for independent samples, given two random samples of equal size and a null hypothesis that the population means are equal."
   ]
  },
  {
   "cell_type": "code",
   "execution_count": 3,
   "metadata": {},
   "outputs": [
    {
     "name": "stdout",
     "output_type": "stream",
     "text": [
      "Test Statistic: -4.512913234547555\n",
      "P-value: 3.176506547470154e-05\n",
      "Reject the null hypothesis. There is enough evidence to suggest a significant difference.\n"
     ]
    }
   ],
   "source": [
    "import numpy as np\n",
    "from scipy.stats import ttest_ind\n",
    "\n",
    "# Generate two random samples of equal size\n",
    "np.random.seed(42)  # for reproducibility\n",
    "sample_size = 30\n",
    "\n",
    "sample1 = np.random.normal(loc=10, scale=2, size=sample_size)\n",
    "sample2 = np.random.normal(loc=12, scale=2, size=sample_size)\n",
    "\n",
    "# Perform two-sample t-test\n",
    "t_stat, p_value = ttest_ind(sample1, sample2)\n",
    "\n",
    "# Set the significance level (alpha)\n",
    "alpha = 0.05\n",
    "\n",
    "# Print the results\n",
    "print(f'Test Statistic: {t_stat}')\n",
    "print(f'P-value: {p_value}')\n",
    "\n",
    "# Compare p-value to the significance level\n",
    "if p_value < alpha:\n",
    "    print(\"Reject the null hypothesis. There is enough evidence to suggest a significant difference.\")\n",
    "else:\n",
    "    print(\"Fail to reject the null hypothesis. There is not enough evidence to suggest a significant difference.\")\n"
   ]
  },
  {
   "cell_type": "markdown",
   "metadata": {},
   "source": [
    "In this example:\n",
    "\n",
    "- Two random samples (sample1 and sample2) are generated using the np.random.normal function.\n",
    "- The ttest_ind function from scipy.stats is used to perform the two-sample t-test.\n",
    "- The test statistic and p-value are printed.\n",
    "- The results are interpreted by comparing the p-value to the chosen significance level (alpha)."
   ]
  },
  {
   "cell_type": "markdown",
   "metadata": {},
   "source": [
    "## Q11: What is Student’s t distribution? When to use the t-Distribution."
   ]
  },
  {
   "cell_type": "markdown",
   "metadata": {},
   "source": [
    "**Student’s t-distribution**:\n",
    "\n",
    "The Student's t-distribution (or simply the t-distribution) is a probability distribution that arises in statistical inference when estimating the mean of a normally distributed population with a small sample size or when the population standard deviation is unknown. It is a family of distributions, and the shape of the distribution depends on the degrees of freedom.\n",
    "\n",
    "The probability density function (PDF) of the t-distribution is bell-shaped like the normal distribution but has heavier tails, especially for small sample sizes. As the sample size increases, the t-distribution approaches the normal distribution.\n",
    "\n",
    "**Key characteristics of the t-distribution**:\n",
    "\n",
    "- It is symmetric and bell-shaped.\n",
    "- Its shape is determined by the degrees of freedom $(df)$.\n",
    "- As df increases, the t-distribution approaches the standard normal distribution.\n",
    "\n",
    "**When to use the t-Distribution**:\n",
    "\n",
    "The t-distribution is commonly used in situations where:\n",
    "\n",
    "1. **Small Sample Size**:\n",
    "    - When dealing with a small sample size (typically less than 30) and the population standard deviation is unknown, the t-distribution is used for hypothesis testing and constructing confidence intervals for the population mean.\n",
    "\n",
    "2. **Unknown Population Standard Deviation**:\n",
    "    - If the population standard deviation $(σ)$ is unknown, and it is estimated from the sample standard deviation $(s)$, the t-distribution is used instead of the normal distribution.\n",
    "\n",
    "3. **Population is Approximately Normally Distributed**:\n",
    "    - The t-distribution is appropriate when the population from which the sample is drawn is approximately normally distributed. However, it is robust to departures from normality, especially as the sample size increases.\n",
    "\n",
    "4. **Outliers or Skewness**:\n",
    "    - In the presence of outliers or when the data is skewed, the t-distribution may provide a better fit than the normal distribution.\n",
    "\n",
    "**Example**:\n",
    "Suppose you want to estimate the average height of students in a school, and you take a small random sample of students. Since you don't know the standard deviation of heights in the entire student population, and your sample size is small, you might use the t-distribution to make inferences about the population mean height."
   ]
  },
  {
   "cell_type": "markdown",
   "metadata": {},
   "source": [
    "## Q12: What is t-statistic? State the formula for t-statistic."
   ]
  },
  {
   "cell_type": "markdown",
   "metadata": {},
   "source": [
    "The t-statistic is a measure used in hypothesis testing to assess the evidence against a null hypothesis. It is particularly relevant in cases where the population standard deviation is unknown and is estimated from the sample data. The t-statistic is used in t-tests, which compare the means of two groups or assess the difference between a sample mean and a known or hypothesized population mean.\n",
    "\n",
    "The formula for the t-statistic depends on the context of its use. The most common formula is for a one-sample t-test, which compares the mean of a sample to a known or hypothesized population mean. The formula is as follows:"
   ]
  },
  {
   "cell_type": "markdown",
   "metadata": {},
   "source": [
    "**One-Sample t-Test:**"
   ]
  },
  {
   "cell_type": "markdown",
   "metadata": {},
   "source": [
    "$$t = \\frac{\\bar{x} - μ_{0}}{\\frac{s}{\\sqrt{n}}}$$"
   ]
  },
  {
   "cell_type": "markdown",
   "metadata": {},
   "source": [
    "Where:\n",
    "- $\\hat{x}$ is the sample mean,\n",
    "- $μ_0$ is the hypothesized population mean under the null hypothesis,\n",
    "- $s$ is the sample standard deviation,\n",
    "- $n$ is the sample size."
   ]
  },
  {
   "cell_type": "markdown",
   "metadata": {},
   "source": [
    "For a two-sample t-test (independent samples), where you are comparing the means of two independent groups, the formula is slightly different:"
   ]
  },
  {
   "cell_type": "markdown",
   "metadata": {},
   "source": [
    "**Two-Sample t-Test:**"
   ]
  },
  {
   "cell_type": "markdown",
   "metadata": {},
   "source": [
    "$$ t = \\frac{\\bar{x_1} - \\bar{x_2}}{\\sqrt{\\frac{s_1^2}{n_1} + \\frac{s_2^2}{n_2}}} $$"
   ]
  },
  {
   "cell_type": "markdown",
   "metadata": {},
   "source": [
    "Where:\n",
    "- $\\bar{x_1}$ and $\\bar{x_2}$ are the sample means of the two groups,\n",
    "- $s_1$ and $s_2$ are the sample standard deviations of the two groups,\n",
    "- $n_1$ and $n_2$ are the sample sizes of the two groups."
   ]
  },
  {
   "cell_type": "markdown",
   "metadata": {},
   "source": [
    "In both formulas, the t-statistic represents the number of standard errors the sample mean is from the hypothesized population mean. A larger absolute value of the t-statistic indicates stronger evidence against the null hypothesis. The t-statistic is then compared to critical values or used to calculate a p-value to make a decision about the null hypothesis."
   ]
  },
  {
   "cell_type": "markdown",
   "metadata": {},
   "source": [
    "## Q13. A coffee shop owner wants to estimate the average daily revenue for their shop. They take a random sample of 50 days and find the sample mean revenue to be $500 with a standard deviation of $50. Estimate the population mean revenue with a 95% confidence interval."
   ]
  },
  {
   "cell_type": "markdown",
   "metadata": {},
   "source": [
    "To estimate the population mean revenue with a 95% confidence interval, you can use the formula for the confidence interval for the population mean in the case of a known standard deviation. The formula is:"
   ]
  },
  {
   "cell_type": "markdown",
   "metadata": {},
   "source": [
    "$$Confidential Interval = \\bar{x} \\pm Z(\\frac{s}{\\sqrt{n}})$$"
   ]
  },
  {
   "cell_type": "markdown",
   "metadata": {},
   "source": [
    "Where:"
   ]
  },
  {
   "cell_type": "markdown",
   "metadata": {},
   "source": [
    "- $\\bar{x}$ is the sample mean.\n",
    "- $Z$ is the Z-score xorresponding to the desired confidence level (for a 95% confidence interval, Z is approximately 1.96),\n",
    "- $s$ is the sample standard deviation,\n",
    "- $n$ is sample size"
   ]
  },
  {
   "cell_type": "markdown",
   "metadata": {},
   "source": [
    "Given the information from the coffee shop owner's sample:"
   ]
  },
  {
   "cell_type": "markdown",
   "metadata": {},
   "source": [
    "- Sample mean ($\\bar{x}$) : $500.\n",
    "- Sample standard deviation ($s$) : $50.\n",
    "- Sample size ($n$) : 50\n",
    "- Z-score for a 95% confidence interval: 1.96\n",
    "\n",
    "Now, plug these values into the formula:"
   ]
  },
  {
   "cell_type": "markdown",
   "metadata": {},
   "source": [
    "$$Confidential Interval = 500 \\pm 1.96(\\frac{50}{\\sqrt{50}})$$"
   ]
  },
  {
   "cell_type": "code",
   "execution_count": 4,
   "metadata": {},
   "outputs": [
    {
     "name": "stdout",
     "output_type": "stream",
     "text": [
      "95% Confidence Interval: ($486.14, $513.86)\n"
     ]
    }
   ],
   "source": [
    "import math\n",
    "\n",
    "# Given values\n",
    "sample_mean = 500\n",
    "sample_std_dev = 50\n",
    "sample_size = 50\n",
    "confidence_level = 0.95\n",
    "\n",
    "# Z-score for a 95% confidence interval\n",
    "z_score = 1.96\n",
    "\n",
    "# Calculate the margin of error\n",
    "margin_of_error = z_score * (sample_std_dev / math.sqrt(sample_size))\n",
    "\n",
    "# Calculate the confidence interval\n",
    "lower_bound = sample_mean - margin_of_error\n",
    "upper_bound = sample_mean + margin_of_error\n",
    "\n",
    "print(f\"95% Confidence Interval: (${lower_bound:.2f}, ${upper_bound:.2f})\")\n"
   ]
  },
  {
   "cell_type": "markdown",
   "metadata": {},
   "source": [
    "The margin of error is calculated using the Z-score, and the lower and upper bounds of the interval are determined accordingly."
   ]
  },
  {
   "cell_type": "markdown",
   "metadata": {},
   "source": [
    "## Q14. A researcher hypothesizes that a new drug will decrease blood pressure by 10 mmHg. They conduct a clinical trial with 100 patients and find that the sample mean decrease in blood pressure is 8 mmHg with a standard deviation of 3 mmHg. Test the hypothesis with a significance level of 0.05."
   ]
  },
  {
   "cell_type": "markdown",
   "metadata": {},
   "source": [
    "To test the hypothesis that a new drug decreases blood pressure by 10 mmHg, you can perform a one-sample t-test. The null hypothesis $(H_0)$ is that the true mean decrease in blood pressure $(μ)$ is equal to 10 mmHg, and the alternative hypothesis $(H_1)$ is that the true mean decrease is not equal to 10 mmHg."
   ]
  },
  {
   "cell_type": "markdown",
   "metadata": {},
   "source": [
    "The formula for the one-sample t-statistic is:"
   ]
  },
  {
   "cell_type": "markdown",
   "metadata": {},
   "source": [
    "$$t = \\frac{\\bar{x} - μ_0}{\\frac{s}{\\sqrt{n}}}$$"
   ]
  },
  {
   "cell_type": "markdown",
   "metadata": {},
   "source": [
    "Where:"
   ]
  },
  {
   "cell_type": "markdown",
   "metadata": {},
   "source": [
    "- $\\bar{x}$ is the sample mean,\n",
    "- $μ_0$ is the hypothesized population mean under the null hypothesis,\n",
    "- $s$ is the sample standard deviation,\n",
    "- $n$ is the sample size."
   ]
  },
  {
   "cell_type": "markdown",
   "metadata": {},
   "source": [
    "Given the information from the clinical trial:"
   ]
  },
  {
   "cell_type": "markdown",
   "metadata": {},
   "source": [
    "- Sample mean $(\\bar{x})$ : 8 mmHg\n",
    "- Hypothesized population mean $(μ_0)$ : 10 mmHg\n",
    "- Sample standard deviation $(s)$: 3 mmHg\n",
    "- sample size $(n)$ : 100"
   ]
  },
  {
   "cell_type": "code",
   "execution_count": 5,
   "metadata": {},
   "outputs": [
    {
     "name": "stdout",
     "output_type": "stream",
     "text": [
      "Reject the null hypothesis. There is enough evidence to suggest a significant difference.\n"
     ]
    }
   ],
   "source": [
    "import math\n",
    "from scipy.stats import t\n",
    "\n",
    "# Given values\n",
    "sample_mean = 8\n",
    "hypothesized_mean = 10\n",
    "sample_std_dev = 3\n",
    "sample_size = 100\n",
    "significance_level = 0.05\n",
    "\n",
    "# Calculate the t-statistic\n",
    "t_statistic = (sample_mean - hypothesized_mean) / (sample_std_dev / math.sqrt(sample_size))\n",
    "\n",
    "# Degrees of freedom for a one-sample t-test\n",
    "degrees_of_freedom = sample_size - 1\n",
    "\n",
    "# Calculate the critical t-value for a two-tailed test\n",
    "critical_t_value = t.ppf(1 - significance_level / 2, degrees_of_freedom)\n",
    "\n",
    "# Compare the t-statistic to the critical t-value\n",
    "if abs(t_statistic) > critical_t_value:\n",
    "    print(\"Reject the null hypothesis. There is enough evidence to suggest a significant difference.\")\n",
    "else:\n",
    "    print(\"Fail to reject the null hypothesis. There is not enough evidence to suggest a significant difference.\")\n"
   ]
  },
  {
   "cell_type": "markdown",
   "metadata": {},
   "source": [
    "## Q15. An electronics company produces a certain type of product with a mean weight of 5 pounds and a standard deviation of 0.5 pounds. A random sample of 25 products is taken, and the sample mean weight is found to be 4.8 pounds. Test the hypothesis that the true mean weight of the products is less than 5 pounds with a significance level of 0.01."
   ]
  },
  {
   "cell_type": "markdown",
   "metadata": {},
   "source": []
  },
  {
   "cell_type": "markdown",
   "metadata": {},
   "source": [
    "## Q16. Two groups of students are given different study materials to prepare for a test. The first group (n1 = 30) has a mean score of 80 with a standard deviation of 10, and the second group (n2 = 40) has a mean score of 75 with a standard deviation of 8. Test the hypothesis that the population means for the two groups are equal with a significance level of 0.01."
   ]
  },
  {
   "cell_type": "markdown",
   "metadata": {},
   "source": []
  },
  {
   "cell_type": "markdown",
   "metadata": {},
   "source": [
    "## Q17. A marketing company wants to estimate the average number of ads watched by viewers during a TV program. They take a random sample of 50 viewers and find that the sample mean is 4 with a standard deviation of 1.5. Estimate the population mean with a 99% confidence interval."
   ]
  },
  {
   "cell_type": "markdown",
   "metadata": {},
   "source": []
  }
 ],
 "metadata": {
  "kernelspec": {
   "display_name": ".venv",
   "language": "python",
   "name": "python3"
  },
  "language_info": {
   "codemirror_mode": {
    "name": "ipython",
    "version": 3
   },
   "file_extension": ".py",
   "mimetype": "text/x-python",
   "name": "python",
   "nbconvert_exporter": "python",
   "pygments_lexer": "ipython3",
   "version": "3.11.6"
  }
 },
 "nbformat": 4,
 "nbformat_minor": 2
}
