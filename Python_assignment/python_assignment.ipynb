{
  "cells": [
    {
      "cell_type": "markdown",
      "metadata": {},
      "source": [
        "# Python Assignment -1 "
      ]
    },
    {
      "cell_type": "markdown",
      "metadata": {
        "id": "QbrMJJbq8F8T"
      },
      "source": [
        "## Q1. Create a python program to sort the given list of tuples based on integer value using a lambda function. \n",
        "## [('Sachin Tendulkar', 34357), ('Ricky Ponting', 27483), ('Jack Kallis', 25534), ('Virat Kohli', 24936)]"
      ]
    },
    {
      "cell_type": "code",
      "execution_count": 3,
      "metadata": {
        "colab": {
          "base_uri": "https://localhost:8080/"
        },
        "id": "ZBgHwunG-rbn",
        "outputId": "34b16c25-ff74-4917-f7e0-01c10129a547"
      },
      "outputs": [
        {
          "name": "stdout",
          "output_type": "stream",
          "text": [
            "('Virat Kohli', 24936)\n",
            "('Jack Kallis', 25534)\n",
            "('Ricky Ponting', 27483)\n",
            "('Sachin Tendulkar', 34357)\n"
          ]
        }
      ],
      "source": [
        "data =  [('Sachin Tendulkar', 34357), ('Ricky Ponting', 27483), ('Jack Kallis', 25534), ('Virat Kohli', 24936)]\n",
        "\n",
        "sorted_data = sorted(data, key=lambda x: x[1])\n",
        "\n",
        "for item in sorted_data:\n",
        "    print(item)"
      ]
    },
    {
      "cell_type": "markdown",
      "metadata": {
        "id": "UUa40_bk8GfG"
      },
      "source": [
        "## Q2. Write a Python Program to find the squares of all the numbers in the given list of integers using lambda and map functions.\n",
        "## [1, 2, 3, 4, 5, 6, 7, 8, 9, 10]"
      ]
    },
    {
      "cell_type": "code",
      "execution_count": 6,
      "metadata": {
        "colab": {
          "base_uri": "https://localhost:8080/"
        },
        "id": "S2i5s224AnVh",
        "outputId": "ada5447b-5909-47dc-841e-ba21c6144ced"
      },
      "outputs": [
        {
          "data": {
            "text/plain": [
              "[1, 4, 9, 16, 25, 36, 49, 64, 81, 100]"
            ]
          },
          "execution_count": 6,
          "metadata": {},
          "output_type": "execute_result"
        }
      ],
      "source": [
        "data =  [1, 2, 3, 4, 5, 6, 7, 8, 9, 10]\n",
        "\n",
        "list(map(lambda x: x**2, data))"
      ]
    },
    {
      "cell_type": "markdown",
      "metadata": {
        "id": "ysfqa-ES8Gv5"
      },
      "source": [
        "## Q3. Write a python program to convert the given list of integers into a tuple of strings. Use map and lambda functions\n",
        "## Given String: [1, 2, 3, 4, 5, 6, 7, 8, 9, 10]\n",
        "## Expected output: ('1', '2', '3', '4', '5', '6', '7', '8', '9', '10')"
      ]
    },
    {
      "cell_type": "code",
      "execution_count": 7,
      "metadata": {
        "colab": {
          "base_uri": "https://localhost:8080/"
        },
        "id": "mwpJ-7oqBFo3",
        "outputId": "b851b009-589e-4c53-a6f4-f42e8afd8f21"
      },
      "outputs": [
        {
          "data": {
            "text/plain": [
              "('1', '2', '3', '4', '5', '6', '7', '8', '9', '10')"
            ]
          },
          "execution_count": 7,
          "metadata": {},
          "output_type": "execute_result"
        }
      ],
      "source": [
        "data =  [1, 2, 3, 4, 5, 6, 7, 8, 9, 10]\n",
        "\n",
        "tuple(map(lambda x: str(x), data))"
      ]
    },
    {
      "cell_type": "markdown",
      "metadata": {
        "id": "LasI5tK48HVD"
      },
      "source": [
        "## Q4. Write a python program using reduce function to compute the product of a list containing numbers from 1 to 25."
      ]
    },
    {
      "cell_type": "code",
      "execution_count": 12,
      "metadata": {
        "colab": {
          "base_uri": "https://localhost:8080/"
        },
        "id": "aa93lxV3BX2b",
        "outputId": "4a65a8ff-8331-4218-d030-a884d7c647b0"
      },
      "outputs": [
        {
          "data": {
            "text/plain": [
              "15511210043330985984000000"
            ]
          },
          "execution_count": 12,
          "metadata": {},
          "output_type": "execute_result"
        }
      ],
      "source": [
        "from functools import reduce \n",
        "data = list(range(1,26))\n",
        "reduce(lambda x,y : x*y, data)"
      ]
    },
    {
      "cell_type": "markdown",
      "metadata": {
        "id": "wezftgsP8Hk_"
      },
      "source": [
        "## Q5. Write a python program to filter the numbers in a given list that are divisible by 2 and 3 using the filter function.\n",
        "\n",
        "## [2, 3, 6, 9, 27, 60, 90, 120, 55, 46]"
      ]
    },
    {
      "cell_type": "code",
      "execution_count": 16,
      "metadata": {
        "colab": {
          "base_uri": "https://localhost:8080/"
        },
        "id": "-B-Nqf4_CISU",
        "outputId": "ca119585-2442-409a-9549-bebb55384b7c"
      },
      "outputs": [
        {
          "data": {
            "text/plain": [
              "[6, 60, 90, 120]"
            ]
          },
          "execution_count": 16,
          "metadata": {},
          "output_type": "execute_result"
        }
      ],
      "source": [
        "data = list([2, 3, 6, 9, 27, 60, 90, 120, 55, 46])\n",
        "\n",
        "list(filter(lambda x: x%2 == 0 and x%3 == 0, data))"
      ]
    },
    {
      "cell_type": "markdown",
      "metadata": {
        "id": "eXxVXa8d8Hz0"
      },
      "source": [
        "## Q6. Write a python program to find palindromes in the given list of strings using lambda and filter function.\n",
        "## ['python', 'php', 'aba', 'radar', 'level']"
      ]
    },
    {
      "cell_type": "code",
      "execution_count": 22,
      "metadata": {
        "colab": {
          "base_uri": "https://localhost:8080/"
        },
        "id": "_ZEFpg03C5HK",
        "outputId": "e7b6f301-6b87-4d0b-b39f-4c7e25ac9667"
      },
      "outputs": [
        {
          "data": {
            "text/plain": [
              "['php', 'aba', 'radar', 'level']"
            ]
          },
          "execution_count": 22,
          "metadata": {},
          "output_type": "execute_result"
        }
      ],
      "source": [
        "data = ['python', 'php', 'aba', 'radar', 'level']\n",
        "\n",
        "list(filter(lambda x : x[::-1] == x, data))"
      ]
    }
  ],
  "metadata": {
    "colab": {
      "authorship_tag": "ABX9TyPRvGQinpb437J7HCn6gQ6T",
      "provenance": []
    },
    "kernelspec": {
      "display_name": "Python 3",
      "name": "python3"
    },
    "language_info": {
      "name": "python"
    }
  },
  "nbformat": 4,
  "nbformat_minor": 0
}
