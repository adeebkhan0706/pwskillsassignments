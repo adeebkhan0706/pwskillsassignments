{
  "nbformat": 4,
  "nbformat_minor": 0,
  "metadata": {
    "colab": {
      "provenance": [],
      "authorship_tag": "ABX9TyNp13qcEyFZ2gvfZPmUR6oL",
      "include_colab_link": true
    },
    "kernelspec": {
      "name": "python3",
      "display_name": "Python 3"
    },
    "language_info": {
      "name": "python"
    }
  },
  "cells": [
    {
      "cell_type": "markdown",
      "metadata": {
        "id": "view-in-github",
        "colab_type": "text"
      },
      "source": [
        "<a href=\"https://colab.research.google.com/github/adeebkhan0706/pwskillsassignmnets/blob/main/Exception_Handling_2.ipynb\" target=\"_parent\"><img src=\"https://colab.research.google.com/assets/colab-badge.svg\" alt=\"Open In Colab\"/></a>"
      ]
    },
    {
      "cell_type": "markdown",
      "source": [
        "**Q1. Explain why we have to use the Exception class while creating a Custom Exception. Note: Here Exception class refers to the base class for all the exceptions.**"
      ],
      "metadata": {
        "id": "qcCugEpv8YQz"
      }
    },
    {
      "cell_type": "markdown",
      "source": [
        "In Python, the Exception class serves as the base class for all built-in and custom exceptions. When creating a custom exception, it is recommended to inherit from the Exception class or one of its subclasses. Here are a few reasons why we use the Exception class as the base class for custom exceptions:\n",
        "\n",
        "1. Inheritance: By inheriting from the Exception class,\n",
        "our custom exception inherits the behavior and attributes of the base class. This includes functionality such as capturing and storing the exception message, traceback information, and the ability to raise and handle exceptions.\n",
        "\n",
        "2. Compatibility: Inheriting from the Exception class ensures that our custom exception is compatible with existing exception handling mechanisms in Python. This means that our custom exception can be caught and handled using generic exception handling constructs like try-except blocks.\n",
        "\n",
        "3. Standardization: By using the Exception class, we adhere to the established convention and standard of using it as the base class for exceptions. This promotes consistency and makes our code more readable and understandable to other Python developers who are familiar with the standard exception hierarchy.\n",
        "\n",
        "4. Exception Handling: The Exception class provides various methods and attributes that are useful for exception handling. For example, the __str__ method allows us to provide a string representation of our custom exception, which can be helpful for error messages and debugging.\n",
        "\n",
        "5. Customization: Although the Exception class provides a generic base for exceptions, we can customize our custom exception by adding additional attributes, methods, or behavior specific to our application's needs. Inheriting from Exception gives us the flexibility to extend and modify the base functionality as required.\n",
        "\n",
        "By utilizing the Exception class as the base class for our custom exceptions, we ensure compatibility, adhere to conventions, and leverage the existing infrastructure for exception handling in Python. This approach allows for consistent and effective error handling in our codebase."
      ],
      "metadata": {
        "id": "jyzGpn_o-idm"
      }
    },
    {
      "cell_type": "markdown",
      "source": [
        "**Q2. Write a python program to print Python Exception Hierarchy.**"
      ],
      "metadata": {
        "id": "bWrgTzam8YOX"
      }
    },
    {
      "cell_type": "code",
      "source": [
        "import sys\n",
        "\n",
        "def print_exception_hierarchy():\n",
        "    exception_hierarchy = []\n",
        "    current_exception = BaseException\n",
        "\n",
        "    while current_exception is not None:\n",
        "        exception_hierarchy.append(current_exception)\n",
        "        current_exception = current_exception.__base__\n",
        "\n",
        "    for exception in reversed(exception_hierarchy):\n",
        "        print(exception.__name__)\n",
        "\n",
        "print_exception_hierarchy()\n"
      ],
      "metadata": {
        "colab": {
          "base_uri": "https://localhost:8080/"
        },
        "id": "E0_flMdG_SzE",
        "outputId": "60a907b5-375b-4ca6-b486-6a5247ef08c7"
      },
      "execution_count": 2,
      "outputs": [
        {
          "output_type": "stream",
          "name": "stdout",
          "text": [
            "object\n",
            "BaseException\n"
          ]
        }
      ]
    },
    {
      "cell_type": "markdown",
      "source": [
        "This program uses a loop to traverse the exception hierarchy starting from BaseException and goes up to the root of the exception hierarchy. It prints the name of each exception class in reverse order, so that the hierarchy is displayed from the base exception classes to the more specific ones."
      ],
      "metadata": {
        "id": "MRcbqeofFY-G"
      }
    },
    {
      "cell_type": "markdown",
      "source": [
        "**Q3. What errors are defined in the ArithmeticError class? Explain any two with an example.**"
      ],
      "metadata": {
        "id": "l3KVMuvE8YL1"
      }
    },
    {
      "cell_type": "markdown",
      "source": [
        "In Python, the ArithmeticError class serves as the base class for exceptions that occur during arithmetic operations. It encompasses several specific error classes related to arithmetic operations. Two common errors defined in the ArithmeticError class are ZeroDivisionError and OverflowError."
      ],
      "metadata": {
        "id": "4a6o1CCXFuM3"
      }
    },
    {
      "cell_type": "markdown",
      "source": [
        "1. ZeroDivisionError: This exception is raised when an arithmetic operation attempts to divide a number by zero."
      ],
      "metadata": {
        "id": "w_CctiJPF6zF"
      }
    },
    {
      "cell_type": "code",
      "source": [
        "def divide_numbers(a, b):\n",
        "    try:\n",
        "        result = a / b\n",
        "        return result\n",
        "    except ZeroDivisionError:\n",
        "        print(\"Error: Division by zero is not allowed.\")\n",
        "        return None\n",
        "\n",
        "result1 = divide_numbers(10, 2)\n",
        "print(result1)  # Output: 5.0\n",
        "\n",
        "result2 = divide_numbers(10, 0)\n",
        "# Output: Error: Division by zero is not allowed.\n",
        "#         None is returned\n"
      ],
      "metadata": {
        "colab": {
          "base_uri": "https://localhost:8080/"
        },
        "id": "CY4lVLaHGJRx",
        "outputId": "233164ec-fefd-4d0e-ea69-49ce90b71066"
      },
      "execution_count": 3,
      "outputs": [
        {
          "output_type": "stream",
          "name": "stdout",
          "text": [
            "5.0\n",
            "Error: Division by zero is not allowed.\n"
          ]
        }
      ]
    },
    {
      "cell_type": "markdown",
      "source": [
        "In this example, the divide_numbers function attempts to divide the first argument a by the second argument b. If b is zero, a ZeroDivisionError is raised. The exception is caught in the except block, where an error message is printed, and None is returned to handle the exceptional case of division by zero."
      ],
      "metadata": {
        "id": "PijZ9o0oGlKx"
      }
    },
    {
      "cell_type": "markdown",
      "source": [
        "2. OverflowError: This exception is raised when an arithmetic operation results in a value that is too large to be represented within the available memory or numeric range."
      ],
      "metadata": {
        "id": "XANIPzpfGmtd"
      }
    },
    {
      "cell_type": "code",
      "source": [
        "def calculate_factorial(n):\n",
        "    try:\n",
        "        result = 1\n",
        "        for i in range(1, n + 1):\n",
        "            result *= i\n",
        "        return result\n",
        "    except OverflowError:\n",
        "        print(\"Error: Calculation resulted in an overflow.\")\n",
        "        return None\n",
        "\n",
        "result1 = calculate_factorial(120)\n",
        "print(result1)  # Output: 120\n",
        "\n",
        "result2 = calculate_factorial(10000)\n",
        "# Output: Error: Calculation resulted in an overflow.\n",
        "#         None is returned\n"
      ],
      "metadata": {
        "colab": {
          "base_uri": "https://localhost:8080/"
        },
        "id": "9wLYQMejGs1b",
        "outputId": "4e90f7da-157f-4559-a0f8-e006914027bb"
      },
      "execution_count": 8,
      "outputs": [
        {
          "output_type": "stream",
          "name": "stdout",
          "text": [
            "6689502913449127057588118054090372586752746333138029810295671352301633557244962989366874165271984981308157637893214090552534408589408121859898481114389650005964960521256960000000000000000000000000000\n"
          ]
        }
      ]
    },
    {
      "cell_type": "markdown",
      "source": [
        "In this example, the calculate_factorial function calculates the factorial of a given number n. If the value of n is too large, it can result in an OverflowError when calculating the factorial. The exception is caught in the except block, where an error message is printed, and None is returned to handle the exceptional case of an arithmetic overflow.\n",
        "\n",
        "These examples illustrate how the ZeroDivisionError and OverflowError exceptions, which are derived from the ArithmeticError class, can be used to handle specific error scenarios related to arithmetic operations."
      ],
      "metadata": {
        "id": "7Wr3n6i3G1os"
      }
    },
    {
      "cell_type": "markdown",
      "source": [
        "Q4. Why LookupError class is used? Explain with an example KeyError and IndexError."
      ],
      "metadata": {
        "id": "kYJeQKXI8YJZ"
      }
    },
    {
      "cell_type": "markdown",
      "source": [
        "The LookupError class in Python serves as the base class for exceptions that occur when a lookup or indexing operation fails. It is a subclass of the Exception class and is further subclassed by exceptions such as KeyError and IndexError.\n",
        "\n",
        "The LookupError class is used to handle situations where an element or key is not found during a lookup or indexing operation. It provides a common base for these types of errors, allowing for more general exception handling.\n",
        "\n",
        "Let's explore two specific subclasses of LookupError with examples:\n",
        "\n",
        "1. KeyError: This exception is raised when a dictionary key or a set element is not found."
      ],
      "metadata": {
        "id": "qGP4x0dyHaMD"
      }
    },
    {
      "cell_type": "code",
      "source": [
        "my_dict = {\"name\": \"John\", \"age\": 25, \"city\": \"New York\"}\n",
        "\n",
        "try:\n",
        "    print(my_dict[\"occupation\"])\n",
        "except KeyError:\n",
        "    print(\"Error: Key not found in the dictionary.\")\n"
      ],
      "metadata": {
        "colab": {
          "base_uri": "https://localhost:8080/"
        },
        "id": "Zmu5U9JtHc6p",
        "outputId": "1dddd3f7-85c8-4ff4-b5e2-8d1980d6fdc0"
      },
      "execution_count": 9,
      "outputs": [
        {
          "output_type": "stream",
          "name": "stdout",
          "text": [
            "Error: Key not found in the dictionary.\n"
          ]
        }
      ]
    },
    {
      "cell_type": "markdown",
      "source": [
        "2. IndexError: This exception is raised when a sequence index is out of range."
      ],
      "metadata": {
        "id": "6-rYAsdyHl6C"
      }
    },
    {
      "cell_type": "code",
      "source": [
        "my_list = [1, 2, 3, 4, 5]\n",
        "\n",
        "try:\n",
        "    print(my_list[10])\n",
        "except IndexError:\n",
        "    print(\"Error: Index out of range.\")\n"
      ],
      "metadata": {
        "colab": {
          "base_uri": "https://localhost:8080/"
        },
        "id": "iamTsxBbHp_2",
        "outputId": "4a732554-0683-45b6-d87d-9744ca0f427b"
      },
      "execution_count": 10,
      "outputs": [
        {
          "output_type": "stream",
          "name": "stdout",
          "text": [
            "Error: Index out of range.\n"
          ]
        }
      ]
    },
    {
      "cell_type": "markdown",
      "source": [
        "**Q5. Explain ImportError. What is ModuleNotFoundError?**"
      ],
      "metadata": {
        "id": "bLxFIvy29iHm"
      }
    },
    {
      "cell_type": "markdown",
      "source": [
        "In Python, ImportError and ModuleNotFoundError are exceptions that occur when there is an issue with importing modules or packages.\n",
        "\n",
        "ImportError: This exception is raised when an import statement fails to import a module or when there is an error in the imported module."
      ],
      "metadata": {
        "id": "n7B7FclcNa1i"
      }
    },
    {
      "cell_type": "code",
      "source": [
        "try:\n",
        "    import non_existent_module\n",
        "except ImportError:\n",
        "    print(\"Error: Failed to import the module.\")"
      ],
      "metadata": {
        "colab": {
          "base_uri": "https://localhost:8080/"
        },
        "id": "joqnVJS1Ncy_",
        "outputId": "ccb8eec3-0639-435f-ad1e-0b0b339db71a"
      },
      "execution_count": 11,
      "outputs": [
        {
          "output_type": "stream",
          "name": "stdout",
          "text": [
            "Error: Failed to import the module.\n"
          ]
        }
      ]
    },
    {
      "cell_type": "markdown",
      "source": [
        "ModuleNotFoundError: This exception is a subclass of ImportError and is specifically raised when a module or package cannot be found during the import process."
      ],
      "metadata": {
        "id": "6aINBhGzNoxE"
      }
    },
    {
      "cell_type": "code",
      "source": [
        "try:\n",
        "    from non_existent_package import non_existent_module\n",
        "except ModuleNotFoundError:\n",
        "    print(\"Error: Module or package not found.\")\n"
      ],
      "metadata": {
        "colab": {
          "base_uri": "https://localhost:8080/"
        },
        "id": "ZzHxKWQZNrjU",
        "outputId": "f962909d-2155-4687-8796-aa721f3a8045"
      },
      "execution_count": 12,
      "outputs": [
        {
          "output_type": "stream",
          "name": "stdout",
          "text": [
            "Error: Module or package not found.\n"
          ]
        }
      ]
    },
    {
      "cell_type": "markdown",
      "source": [
        "**Q6. List down some best practices for exception handling in python.**"
      ],
      "metadata": {
        "id": "FN1LEQPi8YG1"
      }
    },
    {
      "cell_type": "markdown",
      "source": [
        "Exception handling is an important aspect of writing robust and maintainable Python code. Here are some best practices for exception handling in Python:\n",
        "\n",
        "1. Be specific in exception handling: Catch specific exceptions whenever possible rather than using a generic except clause. This allows for targeted handling of different types of exceptions and prevents unintentional masking of errors.\n",
        "\n",
        "2. Use multiple except clauses: If you need to handle different types of exceptions differently, use multiple except clauses. This allows you to handle each exception type separately and provide appropriate error handling logic.\n",
        "\n",
        "3. Use finally for cleanup: Use the finally block to perform cleanup operations, such as closing files, releasing resources, or restoring states, regardless of whether an exception occurred or not. The finally block ensures that the cleanup code is executed, even if an exception is raised or caught.\n",
        "\n",
        "4. Avoid bare except: Avoid using bare except clauses (except:) as they catch all exceptions, including system-exiting exceptions like SystemExit or KeyboardInterrupt. This can make it difficult to identify and handle exceptions properly. Instead, catch specific exceptions or use Exception as a base class if necessary.\n",
        "\n",
        "5. Use exception chaining: When catching and re-raising an exception, use the raise ... from ... syntax to preserve the original exception's traceback information. This helps in debugging and provides a clearer understanding of the exception's origin.\n",
        "\n",
        "6. Keep error messages informative: Provide clear and meaningful error messages when raising or handling exceptions. The error messages should provide enough information to identify the cause of the exception and assist in debugging.\n",
        "\n",
        "7. Use context managers: Utilize context managers (with statement) for resources that need to be automatically managed, such as file handling or acquiring locks. Context managers help ensure proper resource cleanup and exception handling.\n",
        "\n",
        "8. Avoid unnecessary try-except blocks: Only use try-except blocks where exceptions are likely to occur. Placing every line of code within a try-except block can make the code harder to read and can obscure the logic of the program.\n",
        "\n",
        "9. Log exceptions: Consider logging exceptions using a logging framework instead of printing error messages. Logging provides more flexibility and control over error handling, including the ability to log exceptions to files or external services.\n",
        "\n",
        "10. Document exception handling: Clearly document the exceptions that functions or methods can raise. This helps other developers understand how to handle exceptions and provides guidance on error conditions."
      ],
      "metadata": {
        "id": "HSW3hy89N9mx"
      }
    }
  ]
}