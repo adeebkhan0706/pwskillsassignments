{
 "cells": [
  {
   "cell_type": "markdown",
   "id": "1fc55dbc",
   "metadata": {},
   "source": [
    "# Q1. Create one variable containing following type of data:\n",
    "- (i) string\n",
    "- (ii) list\n",
    "- (iii) float\n",
    "- (iv) tuple"
   ]
  },
  {
   "cell_type": "code",
   "execution_count": 4,
   "id": "8db78b6c",
   "metadata": {},
   "outputs": [],
   "source": [
    "var_str = \"Hello PWSkills\"\n",
    "var_list = [\"Hello\", \"PW\", \"Skills\", 1, 3]\n",
    "var_float = 1.2345\n",
    "var_tup = (1, 2, \"hi\")"
   ]
  },
  {
   "cell_type": "markdown",
   "id": "796e6ad9",
   "metadata": {},
   "source": [
    "# Q2. Given are some following variables containing data:\n",
    "(i) var1 = ‘ ‘\n",
    "(ii) var2 = ‘[ DS , ML , Python]’\n",
    "(iii) var3 = [ ‘DS’ , ’ML’ , ‘Python’ ]\n",
    "(iv) var4 = 1.\n",
    "What will be the data type of the above given variable."
   ]
  },
  {
   "cell_type": "code",
   "execution_count": 7,
   "id": "4d194e7b",
   "metadata": {},
   "outputs": [
    {
     "name": "stdout",
     "output_type": "stream",
     "text": [
      "<class 'str'>\n",
      "<class 'str'>\n",
      "<class 'list'>\n",
      "<class 'int'>\n"
     ]
    }
   ],
   "source": [
    "var1 = \"\"\n",
    "var2 = \"[ DS , ML , Python]\"\n",
    "var3 = [ 'DS' , 'ML' , 'Python' ]\n",
    "var4 = 1\n",
    "print(type(var1))\n",
    "print(type(var2))\n",
    "print(type(var3))\n",
    "print(type(var4))"
   ]
  },
  {
   "cell_type": "markdown",
   "id": "355a4f98",
   "metadata": {},
   "source": [
    "# Q3. Explain the use of the following operators using an example:\n",
    "(i) /\n",
    "(ii) %\n",
    "(iii) //\n",
    "(iv) **"
   ]
  },
  {
   "cell_type": "code",
   "execution_count": 15,
   "id": "a55806ca",
   "metadata": {},
   "outputs": [
    {
     "name": "stdout",
     "output_type": "stream",
     "text": [
      "Division operator -  4.5\n",
      "Modulus operator -  1\n",
      "4\n",
      "81\n"
     ]
    }
   ],
   "source": [
    "# / is used to recieve the quotient after division of a number\n",
    "print(\"Division operator - \", 9/2)\n",
    "# % is used to get the remainder after division of a number\n",
    "print(\"Modulus operator - \",9%2)\n",
    "# // floor division\n",
    "print(9//2)\n",
    "# ** Power: Returns first raised to power second\n",
    "print(9**2)"
   ]
  },
  {
   "cell_type": "markdown",
   "id": "53a04767",
   "metadata": {},
   "source": [
    "# Q4. Create a list of length 10 of your choice containing multiple types of data. Using for loop print the element and its data type.\n"
   ]
  },
  {
   "cell_type": "code",
   "execution_count": 16,
   "id": "e165a397",
   "metadata": {},
   "outputs": [],
   "source": [
    "var_q4 = [\"Hi\", 1, 2.45, \"what's\", True, False, \"up\", 56, 97888888, {\"name\":\"pwskills\"}]"
   ]
  },
  {
   "cell_type": "code",
   "execution_count": 17,
   "id": "99fbc82c",
   "metadata": {},
   "outputs": [
    {
     "name": "stdout",
     "output_type": "stream",
     "text": [
      "Hi\n",
      "1\n",
      "2.45\n",
      "what's\n",
      "True\n",
      "False\n",
      "up\n",
      "56\n",
      "97888888\n",
      "{'name': 'pwskills'}\n"
     ]
    }
   ],
   "source": [
    "for i in var_q4:\n",
    "    print(i)"
   ]
  },
  {
   "cell_type": "markdown",
   "id": "0ce96fab",
   "metadata": {},
   "source": [
    "# Q5. Using a while loop, verify if the number A is purely divisible by number B and if so then how many times it can be divisible."
   ]
  },
  {
   "cell_type": "code",
   "execution_count": 43,
   "id": "385b7a67",
   "metadata": {},
   "outputs": [],
   "source": [
    "def purely_div(A, B):\n",
    "    count=0\n",
    "    remainder = A\n",
    "    while remainder>1:\n",
    "        remainder = A%B\n",
    "        if remainder == 0:\n",
    "            return True, count\n",
    "        count+=1\n",
    "    return False"
   ]
  },
  {
   "cell_type": "code",
   "execution_count": 45,
   "id": "debc2e66",
   "metadata": {},
   "outputs": [
    {
     "data": {
      "text/plain": [
       "(True, 0)"
      ]
     },
     "execution_count": 45,
     "metadata": {},
     "output_type": "execute_result"
    }
   ],
   "source": [
    "purely_div(10, 2)"
   ]
  },
  {
   "cell_type": "markdown",
   "id": "2665bc8d",
   "metadata": {},
   "source": [
    "# Q6. Create a list containing 25 int type data. Using for loop and if-else condition print if the element is divisible by 3 or not."
   ]
  },
  {
   "cell_type": "code",
   "execution_count": 19,
   "id": "8f818f15",
   "metadata": {},
   "outputs": [],
   "source": [
    "var_q6 = range(0, 50, 2)"
   ]
  },
  {
   "cell_type": "code",
   "execution_count": 21,
   "id": "5e27612c",
   "metadata": {},
   "outputs": [
    {
     "data": {
      "text/plain": [
       "25"
      ]
     },
     "execution_count": 21,
     "metadata": {},
     "output_type": "execute_result"
    }
   ],
   "source": [
    "len(var_q6)"
   ]
  },
  {
   "cell_type": "code",
   "execution_count": 22,
   "id": "80f657bc",
   "metadata": {},
   "outputs": [
    {
     "name": "stdout",
     "output_type": "stream",
     "text": [
      "0 id divisible by 3\n",
      "6 id divisible by 3\n",
      "12 id divisible by 3\n",
      "18 id divisible by 3\n",
      "24 id divisible by 3\n",
      "30 id divisible by 3\n",
      "36 id divisible by 3\n",
      "42 id divisible by 3\n",
      "48 id divisible by 3\n"
     ]
    }
   ],
   "source": [
    "for num in var_q6:\n",
    "    if num%3 == 0:\n",
    "        print(f\"{num} id divisible by 3\")\n",
    "        "
   ]
  },
  {
   "cell_type": "markdown",
   "id": "5ee8d281",
   "metadata": {},
   "source": [
    "# Q7. What do you understand about mutable and immutable data types? Give examples for both showing this property."
   ]
  },
  {
   "cell_type": "code",
   "execution_count": 26,
   "id": "ad947600",
   "metadata": {},
   "outputs": [
    {
     "name": "stdout",
     "output_type": "stream",
     "text": [
      "[1, 2, 3, 4, 5, 6]\n",
      "[1, 2, 3, 4, 5, 6, 8]\n"
     ]
    }
   ],
   "source": [
    "#list is a mutable data type\n",
    "var_q7 = [1,2,3,4,5,6]\n",
    "print(var_q7)\n",
    "var_q7.append(8)\n",
    "print(var_q7)"
   ]
  },
  {
   "cell_type": "code",
   "execution_count": 32,
   "id": "21a297a1",
   "metadata": {},
   "outputs": [
    {
     "name": "stdout",
     "output_type": "stream",
     "text": [
      "(1, 2, 3, 4, 5, 6)\n"
     ]
    },
    {
     "ename": "TypeError",
     "evalue": "'tuple' object does not support item assignment",
     "output_type": "error",
     "traceback": [
      "\u001b[1;31m---------------------------------------------------------------------------\u001b[0m",
      "\u001b[1;31mTypeError\u001b[0m                                 Traceback (most recent call last)",
      "Cell \u001b[1;32mIn[32], line 4\u001b[0m\n\u001b[0;32m      2\u001b[0m var_q7_tup \u001b[38;5;241m=\u001b[39m (\u001b[38;5;241m1\u001b[39m,\u001b[38;5;241m2\u001b[39m,\u001b[38;5;241m3\u001b[39m,\u001b[38;5;241m4\u001b[39m,\u001b[38;5;241m5\u001b[39m,\u001b[38;5;241m6\u001b[39m)\n\u001b[0;32m      3\u001b[0m \u001b[38;5;28mprint\u001b[39m(var_q7_tup)\n\u001b[1;32m----> 4\u001b[0m var_q7_tup[\u001b[38;5;241m3\u001b[39m]\u001b[38;5;241m=\u001b[39m\u001b[38;5;241m8\u001b[39m\n\u001b[0;32m      5\u001b[0m \u001b[38;5;28mprint\u001b[39m(var_q7_tup)\n",
      "\u001b[1;31mTypeError\u001b[0m: 'tuple' object does not support item assignment"
     ]
    }
   ],
   "source": [
    "#tuple is am immutable data type\n",
    "var_q7_tup = (1,2,3,4,5,6)\n",
    "print(var_q7_tup)\n",
    "var_q7_tup[3]=8\n",
    "print(var_q7_tup)"
   ]
  },
  {
   "cell_type": "code",
   "execution_count": null,
   "id": "a17fc82b",
   "metadata": {},
   "outputs": [],
   "source": []
  }
 ],
 "metadata": {
  "kernelspec": {
   "display_name": "Python 3 (ipykernel)",
   "language": "python",
   "name": "python3"
  },
  "language_info": {
   "codemirror_mode": {
    "name": "ipython",
    "version": 3
   },
   "file_extension": ".py",
   "mimetype": "text/x-python",
   "name": "python",
   "nbconvert_exporter": "python",
   "pygments_lexer": "ipython3",
   "version": "3.10.9"
  }
 },
 "nbformat": 4,
 "nbformat_minor": 5
}
