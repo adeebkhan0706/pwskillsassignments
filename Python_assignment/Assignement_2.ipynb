{
 "cells": [
  {
   "attachments": {},
   "cell_type": "markdown",
   "metadata": {},
   "source": [
    "Q1. How do you comment code in Python? What are the different types of comments?"
   ]
  },
  {
   "cell_type": "code",
   "execution_count": null,
   "metadata": {},
   "outputs": [],
   "source": [
    "#In Python, you can add comments to your code using the \n",
    "# symbol. Any text following a # symbol on a #line is considered a comment and is ignored by the Python interpreter"
   ]
  },
  {
   "attachments": {},
   "cell_type": "markdown",
   "metadata": {},
   "source": [
    "Q2. What are variables in Python? How do you declare and assign values to variables?"
   ]
  },
  {
   "attachments": {},
   "cell_type": "markdown",
   "metadata": {},
   "source": [
    "In Python, variables are used to store and manipulate data. They act as named containers that hold values of various types, such as numbers, strings, lists, or more complex data structures. Variables allow you to reference and manipulate data throughout your program.\n",
    "\n",
    "To declare and assign values to variables in Python, you simply choose a name for the variable and use the assignment operator (=) to assign a value to i"
   ]
  },
  {
   "cell_type": "code",
   "execution_count": 2,
   "metadata": {},
   "outputs": [],
   "source": [
    "# Declaring and assigning a value to a variable\n",
    "x = 10\n",
    "\n",
    "# Assigning a different value to an existing variable\n",
    "x = 20\n",
    "\n",
    "# Assigning a string value to a variable\n",
    "name = \"John Doe\"\n",
    "\n",
    "# Assigning a list to a variable\n",
    "numbers = [1, 2, 3, 4, 5]\n",
    "\n",
    "# Assigning the result of an expression to a variable\n",
    "sum = 10 + 20"
   ]
  },
  {
   "attachments": {},
   "cell_type": "markdown",
   "metadata": {},
   "source": [
    "Q3. How do you convert one data type to another in Python?"
   ]
  },
  {
   "attachments": {},
   "cell_type": "markdown",
   "metadata": {},
   "source": [
    "In Python, you can convert one data type to another using type conversion functions or constructors that are built-in to the language. Here are some commonly used type conversion functions:\n",
    "\n",
    "int(): Converts a value to an integer.\n",
    "float(): Converts a value to a floating-point number.\n",
    "str(): Converts a value to a string.\n",
    "list(): Converts a value to a list.\n",
    "tuple(): Converts a value to a tuple.\n",
    "set(): Converts a value to a set.\n",
    "bool(): Converts a value to a boolean."
   ]
  },
  {
   "cell_type": "code",
   "execution_count": 3,
   "metadata": {},
   "outputs": [
    {
     "name": "stdout",
     "output_type": "stream",
     "text": [
      "25\n",
      "10.0\n",
      "3.14159\n",
      "(1, 2, 3, 4, 5)\n"
     ]
    }
   ],
   "source": [
    "# Convert a string to an integer\n",
    "age = \"25\"\n",
    "age_int = int(age)\n",
    "print(age_int)  # Output: 25\n",
    "\n",
    "# Convert an integer to a float\n",
    "x = 10\n",
    "x_float = float(x)\n",
    "print(x_float)  # Output: 10.0\n",
    "\n",
    "# Convert a float to a string\n",
    "pi = 3.14159\n",
    "pi_str = str(pi)\n",
    "print(pi_str)  # Output: \"3.14159\"\n",
    "\n",
    "# Convert a list to a tuple\n",
    "numbers_list = [1, 2, 3, 4, 5]\n",
    "numbers_tuple = tuple(numbers_list)\n",
    "print(numbers_tuple)"
   ]
  },
  {
   "attachments": {},
   "cell_type": "markdown",
   "metadata": {},
   "source": [
    "Q4. How do you write and execute a Python script from the command line?"
   ]
  },
  {
   "attachments": {},
   "cell_type": "markdown",
   "metadata": {},
   "source": [
    "To write and execute a Python script from the command line, follow these steps:\n",
    "\n",
    "Open a text editor and create a new file. Enter your Python code in the file, saving it with a .py extension. For example, you can create a file named my_script.py and add your code to it.\n",
    "\n",
    "Open a terminal or command prompt and navigate to the directory where you saved the Python script. You can use the cd command to change directories.\n",
    "\n",
    "To execute the Python script, use the python command followed by the name of the script file."
   ]
  },
  {
   "cell_type": "code",
   "execution_count": null,
   "metadata": {},
   "outputs": [],
   "source": [
    "#!python my_script.py\n",
    "#!python my_script.py arg1 arg2"
   ]
  },
  {
   "attachments": {},
   "cell_type": "markdown",
   "metadata": {},
   "source": [
    "Q5. Given a list my_list = [1, 2, 3, 4, 5], write the code to slice the list and obtain the sub-list [2, 3]"
   ]
  },
  {
   "cell_type": "code",
   "execution_count": 4,
   "metadata": {},
   "outputs": [
    {
     "name": "stdout",
     "output_type": "stream",
     "text": [
      "[2, 3]\n"
     ]
    }
   ],
   "source": [
    "my_list = [1, 2, 3, 4, 5]\n",
    "sub_list = my_list[1:3]\n",
    "print(sub_list)"
   ]
  },
  {
   "attachments": {},
   "cell_type": "markdown",
   "metadata": {},
   "source": [
    "Q6. What is a complex number in mathematics, and how is it represented in Python?"
   ]
  },
  {
   "attachments": {},
   "cell_type": "markdown",
   "metadata": {},
   "source": [
    "In mathematics, a complex number is a number that comprises both a real part and an imaginary part. It is represented in the form a + bi, where a represents the real part and b represents the imaginary part, and i is the imaginary unit (√(-1)).\n",
    "\n",
    "In Python, complex numbers can be represented using the complex() function or by directly specifying the real and imaginary parts"
   ]
  },
  {
   "cell_type": "code",
   "execution_count": 5,
   "metadata": {},
   "outputs": [],
   "source": [
    "# Using the complex() function\n",
    "z1 = complex(2, 3)  # 2 + 3i\n",
    "z2 = complex(4.5, -1.2)  # 4.5 - 1.2i\n",
    "\n",
    "# Directly specifying real and imaginary parts\n",
    "z3 = 1 + 2j  # 1 + 2i\n",
    "z4 = -3.7j  # -3.7i"
   ]
  },
  {
   "attachments": {},
   "cell_type": "markdown",
   "metadata": {},
   "source": [
    "Q7. What is the correct way to declare a variable named age and assign the value 25 to it"
   ]
  },
  {
   "cell_type": "code",
   "execution_count": 6,
   "metadata": {},
   "outputs": [],
   "source": [
    "age = 25"
   ]
  },
  {
   "attachments": {},
   "cell_type": "markdown",
   "metadata": {},
   "source": [
    "Q8. Declare a variable named price and assign the value 9.99 to it. What data type does this variable \n",
    "belong to?\n"
   ]
  },
  {
   "cell_type": "code",
   "execution_count": 9,
   "metadata": {},
   "outputs": [
    {
     "name": "stdout",
     "output_type": "stream",
     "text": [
      "9.99\n",
      "<class 'float'>\n"
     ]
    }
   ],
   "source": [
    "price = 9.99\n",
    "print(price)\n",
    "print(type(price))"
   ]
  },
  {
   "attachments": {},
   "cell_type": "markdown",
   "metadata": {},
   "source": [
    "Q9. Create a variable named name and assign your full name to it as a string. How would you print the \n",
    "value of this variable?"
   ]
  },
  {
   "cell_type": "code",
   "execution_count": 13,
   "metadata": {},
   "outputs": [
    {
     "name": "stdout",
     "output_type": "stream",
     "text": [
      "Adeeb Khan\n"
     ]
    }
   ],
   "source": [
    "name = \"Adeeb Khan\"\n",
    "print(name)"
   ]
  },
  {
   "attachments": {},
   "cell_type": "markdown",
   "metadata": {},
   "source": [
    "Q10. Given the string \"Hello, World!\", extract the substring \"World\""
   ]
  },
  {
   "cell_type": "code",
   "execution_count": 14,
   "metadata": {},
   "outputs": [
    {
     "name": "stdout",
     "output_type": "stream",
     "text": [
      "World\n"
     ]
    }
   ],
   "source": [
    "s = \"Hello, World!\"\n",
    "substring = s[7:12]\n",
    "print(substring)"
   ]
  },
  {
   "attachments": {},
   "cell_type": "markdown",
   "metadata": {},
   "source": [
    "Q11. Create a variable named \"is_student\" and assign it a boolean value indicating whether you are \n",
    "currently a student or not"
   ]
  },
  {
   "cell_type": "code",
   "execution_count": 15,
   "metadata": {},
   "outputs": [],
   "source": [
    "is_student = True  # Assign True if you are currently a student, or False if you are not\n"
   ]
  }
 ],
 "metadata": {
  "kernelspec": {
   "display_name": "base",
   "language": "python",
   "name": "python3"
  },
  "language_info": {
   "codemirror_mode": {
    "name": "ipython",
    "version": 3
   },
   "file_extension": ".py",
   "mimetype": "text/x-python",
   "name": "python",
   "nbconvert_exporter": "python",
   "pygments_lexer": "ipython3",
   "version": "3.10.9"
  },
  "orig_nbformat": 4
 },
 "nbformat": 4,
 "nbformat_minor": 2
}
