{
  "nbformat": 4,
  "nbformat_minor": 0,
  "metadata": {
    "colab": {
      "provenance": [],
      "authorship_tag": "ABX9TyN7NDY5aSmG5cIs68b3xCoW",
      "include_colab_link": true
    },
    "kernelspec": {
      "name": "python3",
      "display_name": "Python 3"
    },
    "language_info": {
      "name": "python"
    }
  },
  "cells": [
    {
      "cell_type": "markdown",
      "metadata": {
        "id": "view-in-github",
        "colab_type": "text"
      },
      "source": [
        "<a href=\"https://colab.research.google.com/github/adeebkhan0706/pwskillsassignmnets/blob/main/OOPS_TASK__Assignment.ipynb\" target=\"_parent\"><img src=\"https://colab.research.google.com/assets/colab-badge.svg\" alt=\"Open In Colab\"/></a>"
      ]
    },
    {
      "cell_type": "markdown",
      "source": [
        "**Q1. Create a vehicle class with an init method having instance variables as name_of_vehicle, max_speed and average_of_vehicle.**"
      ],
      "metadata": {
        "id": "ZG2g7XJpu_3n"
      }
    },
    {
      "cell_type": "code",
      "source": [
        "class vehicle:\n",
        "  def __init__(self, name_of_vehicle, max_speed, average_of_vehicle):\n",
        "    self.name_of_vehicle = name_of_vehicle\n",
        "    self.max_speed = max_speed\n",
        "    self.average_of_vehicle = average_of_vehicle"
      ],
      "metadata": {
        "id": "r4fixuoxveP_"
      },
      "execution_count": 1,
      "outputs": []
    },
    {
      "cell_type": "markdown",
      "source": [
        "**Q2. Create a child class car from the vehicle class created in Que 1, which will inherit the vehicle class. Create a method named seating_capacity which takes capacity as an argument and returns the name of the vehicle and its seating capacity.**"
      ],
      "metadata": {
        "id": "arjeQxzku_6L"
      }
    },
    {
      "cell_type": "code",
      "source": [
        "class car(vehicle):\n",
        "  def seating_capacity(self, capacity):\n",
        "    return self.name_of_vehicle, capacity"
      ],
      "metadata": {
        "id": "BgGxlzisw0Vq"
      },
      "execution_count": 2,
      "outputs": []
    },
    {
      "cell_type": "markdown",
      "source": [
        "**Q3. What is multiple inheritance? Write a python code to demonstrate multiple inheritance.**"
      ],
      "metadata": {
        "id": "Z_ZEg0Vku_8x"
      }
    },
    {
      "cell_type": "code",
      "source": [
        "class Animal:\n",
        "    def eat(self):\n",
        "        print(\"Eating...\")\n",
        "\n",
        "class CanFly:\n",
        "    def fly(self):\n",
        "        print(\"Flying...\")\n",
        "\n",
        "class Bird(Animal, CanFly):\n",
        "    def chirp(self):\n",
        "        print(\"Chirping...\")\n",
        "\n",
        "# Creating an instance of Bird\n",
        "my_bird = Bird()\n",
        "my_bird.eat()\n",
        "my_bird.fly()\n",
        "my_bird.chirp()"
      ],
      "metadata": {
        "colab": {
          "base_uri": "https://localhost:8080/"
        },
        "id": "WyGf_r5gyOhW",
        "outputId": "e1f254c5-5f81-4190-981e-636cfa58ea82"
      },
      "execution_count": 3,
      "outputs": [
        {
          "output_type": "stream",
          "name": "stdout",
          "text": [
            "Eating...\n",
            "Flying...\n",
            "Chirping...\n"
          ]
        }
      ]
    },
    {
      "cell_type": "markdown",
      "source": [
        "**Q4. What are getter and setter in python? Create a class and create a getter and a setter method in this class**"
      ],
      "metadata": {
        "id": "PnE3nsupvAAP"
      }
    },
    {
      "cell_type": "markdown",
      "source": [
        "In Python, getters and setters are methods used to access and modify the attributes (data members) of a class. They provide a controlled interface for retrieving and updating the values of private or protected attributes, allowing for better encapsulation and data protection.\n",
        "\n",
        "Getters, also known as accessor methods, are used to retrieve the value of an attribute. They typically have a naming convention where the method name starts with \"get_\" followed by the attribute name. Getters provide read-only access to the attribute.\n",
        "\n",
        "Setters, also known as mutator methods, are used to set or modify the value of an attribute. They typically have a naming convention where the method name starts with \"set_\" followed by the attribute name. Setters provide write-only access or allow controlled modification of the attribute."
      ],
      "metadata": {
        "id": "_e8gHxccyloo"
      }
    },
    {
      "cell_type": "code",
      "source": [
        "class Person:\n",
        "    def __init__(self, name):\n",
        "        self._name = name  # Private attribute with a single underscore convention\n",
        "\n",
        "    def get_name(self):\n",
        "        return self._name\n",
        "\n",
        "    def set_name(self, name):\n",
        "        self._name = name\n",
        "\n",
        "# Creating an instance of Person\n",
        "person = Person(\"John\")\n",
        "\n",
        "# Accessing attribute using the getter\n",
        "print(person.get_name())  # Output: John\n",
        "\n",
        "# Modifying attribute using the setter\n",
        "person.set_name(\"Alice\")\n",
        "print(person.get_name())  # Output: Alice\n"
      ],
      "metadata": {
        "colab": {
          "base_uri": "https://localhost:8080/"
        },
        "id": "qA52PhznywQR",
        "outputId": "a87fb12e-f24a-4380-cf60-72be87a4b469"
      },
      "execution_count": 5,
      "outputs": [
        {
          "output_type": "stream",
          "name": "stdout",
          "text": [
            "John\n",
            "Alice\n"
          ]
        }
      ]
    },
    {
      "cell_type": "markdown",
      "source": [
        "**Q5.What is method overriding in python? Write a python code to demonstrate method overriding.**"
      ],
      "metadata": {
        "id": "eDA9rPD7vALx"
      }
    },
    {
      "cell_type": "markdown",
      "source": [
        "\n",
        "Method overriding in Python is a concept where a derived class provides its own implementation of a method that is already defined in its base class. It allows the derived class to redefine the behavior of the method according to its specific requirements, while still maintaining the same method signature (name and parameters) as the base class.\n",
        "\n",
        "To override a method in Python, the derived class defines a method with the same name as the base class method. When the method is called on an object of the derived class, the overridden method in the derived class gets executed instead of the base class method."
      ],
      "metadata": {
        "id": "ZT8g5MZpzNAi"
      }
    },
    {
      "cell_type": "code",
      "source": [
        "class Animal:\n",
        "    def make_sound(self):\n",
        "        print(\"Generic animal sound.\")\n",
        "\n",
        "\n",
        "class Cat(Animal):\n",
        "    def make_sound(self):\n",
        "        print(\"Meow!\")\n",
        "\n",
        "\n",
        "# Creating objects of Animal and Cat\n",
        "animal = Animal()\n",
        "cat = Cat()\n",
        "\n",
        "# Invoking the make_sound() method on Animal and Cat objects\n",
        "animal.make_sound()  # Output: Generic animal sound.\n",
        "cat.make_sound()  # Output: Meow!\n"
      ],
      "metadata": {
        "colab": {
          "base_uri": "https://localhost:8080/"
        },
        "id": "z-ZimXvNzNk_",
        "outputId": "96ddda0f-269b-45d2-d24a-e4f6f96baabf"
      },
      "execution_count": 6,
      "outputs": [
        {
          "output_type": "stream",
          "name": "stdout",
          "text": [
            "Generic animal sound.\n",
            "Meow!\n"
          ]
        }
      ]
    }
  ]
}