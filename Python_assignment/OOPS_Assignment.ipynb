{
  "nbformat": 4,
  "nbformat_minor": 0,
  "metadata": {
    "colab": {
      "provenance": [],
      "authorship_tag": "ABX9TyP3PZJVdQmqj3SoUF4lq6ph",
      "include_colab_link": true
    },
    "kernelspec": {
      "name": "python3",
      "display_name": "Python 3"
    },
    "language_info": {
      "name": "python"
    }
  },
  "cells": [
    {
      "cell_type": "markdown",
      "metadata": {
        "id": "view-in-github",
        "colab_type": "text"
      },
      "source": [
        "<a href=\"https://colab.research.google.com/github/adeebkhan0706/pwskillsassignmnets/blob/main/OOPS_Assignment.ipynb\" target=\"_parent\"><img src=\"https://colab.research.google.com/assets/colab-badge.svg\" alt=\"Open In Colab\"/></a>"
      ]
    },
    {
      "cell_type": "markdown",
      "source": [
        "**Q1. Explain Class and Object with respect to Object-Oriented Programming. Give a suitable example.**"
      ],
      "metadata": {
        "id": "r0cPY5Hy-jI3"
      }
    },
    {
      "cell_type": "markdown",
      "source": [
        "A class is a blueprint or a template that defines the structure and behavior of objects. It encapsulates data (attributes) and functions (methods) that operate on that data. It serves as a blueprint for creating multiple instances (objects) of the class. For example, consider a class called \"Car\" that defines the attributes like \"color,\" \"model,\" and methods like \"start_engine,\" \"accelerate,\" and \"brake.\"\n",
        "\n",
        "An object, on the other hand, is an instance of a class. It represents a specific entity created using the class blueprint. In our \"Car\" example, if we create two objects of the \"Car\" class, such as \"myCar\" and \"friendCar,\" they would be unique instances with their specific attributes and behaviors."
      ],
      "metadata": {
        "id": "wMgyTmd3-jLZ"
      }
    },
    {
      "cell_type": "code",
      "source": [
        "# Class definition\n",
        "class Car:\n",
        "    def __init__(self, color, model):\n",
        "        self.color = color\n",
        "        self.model = model\n",
        "\n",
        "    def start_engine(self):\n",
        "        print(\"Engine started.\")\n",
        "\n",
        "    def accelerate(self):\n",
        "        print(\"Car is accelerating.\")\n",
        "\n",
        "    def brake(self):\n",
        "        print(\"Car is braking.\")\n",
        "\n",
        "# Object creation\n",
        "myCar = Car(\"Red\", \"Sedan\")\n",
        "friendCar = Car(\"Blue\", \"SUV\")\n",
        "\n",
        "# Accessing object attributes\n",
        "print(myCar.color)    # Output: Red\n",
        "print(friendCar.model)  # Output: SUV\n",
        "\n",
        "# Invoking object methods\n",
        "myCar.start_engine()  # Output: Engine started.\n",
        "friendCar.accelerate()  # Output: Car is accelerating."
      ],
      "metadata": {
        "colab": {
          "base_uri": "https://localhost:8080/"
        },
        "id": "TmRB1z9w_Bd0",
        "outputId": "1e0efe82-9366-496f-862d-13352ca8a32b"
      },
      "execution_count": null,
      "outputs": [
        {
          "output_type": "stream",
          "name": "stdout",
          "text": [
            "Red\n",
            "SUV\n",
            "Engine started.\n",
            "Car is accelerating.\n"
          ]
        }
      ]
    },
    {
      "cell_type": "markdown",
      "source": [
        "**Q2. Name the four pillars of OOPs.**"
      ],
      "metadata": {
        "id": "cwcGgoRf-jN9"
      }
    },
    {
      "cell_type": "markdown",
      "source": [
        "1. Encapsulation: It is the concept of bundling data and\n",
        "methods together within a class, hiding the internal details and providing a public interface to interact with the object. It allows for better data protection and code organization.\n",
        "\n",
        "2. Inheritance: It allows a class to inherit properties (attributes and methods) from another class. It promotes code reuse and the creation of hierarchical relationships between classes.\n",
        "\n",
        "3. Polymorphism: It refers to the ability of an object to take on different forms and respond differently based on the context. It allows objects of different classes to be treated interchangeably if they share a common interface or superclass.\n",
        "\n",
        "4. Abstraction: It involves simplifying complex systems by breaking them down into smaller, more manageable units. It focuses on essential features while hiding unnecessary details. Abstract classes and interfaces are used to define common behavior and create a contract for derived classes to follow."
      ],
      "metadata": {
        "id": "xo_3hOMU-jQh"
      }
    },
    {
      "cell_type": "markdown",
      "source": [
        "**Q3. Explain why the __init__() function is used. Give a suitable example.**"
      ],
      "metadata": {
        "id": "gPpoLohS-jS9"
      }
    },
    {
      "cell_type": "markdown",
      "source": [
        "The __init__() function is a special method in Python classes used for initializing objects. It is called automatically when a new instance of the class is created. The primary purpose of the __init__() method is to set the initial state (values) of an object by assigning values to its attributes"
      ],
      "metadata": {
        "id": "-EVt2zP_-jVZ"
      }
    },
    {
      "cell_type": "code",
      "source": [
        "class Person:\n",
        "    def __init__(self, name, age):\n",
        "        self.name = name\n",
        "        self.age = age\n",
        "\n",
        "    def introduce(self):\n",
        "        print(f\"My name is {self.name}, and I am {self.age} years old.\")\n",
        "\n",
        "# Creating an object and initializing its attributes\n",
        "john = Person(\"John\", 25)\n",
        "\n",
        "# Accessing object attributes\n",
        "print(john.name)  # Output: John\n",
        "print(john.age)   # Output: 25\n",
        "\n",
        "# Invoking object method\n",
        "john.introduce()  # Output: My name is John, and I am 25 years old."
      ],
      "metadata": {
        "colab": {
          "base_uri": "https://localhost:8080/"
        },
        "id": "kc1hrgjc_bIb",
        "outputId": "4e66d9b7-64b8-4816-f195-75b04540893e"
      },
      "execution_count": null,
      "outputs": [
        {
          "output_type": "stream",
          "name": "stdout",
          "text": [
            "John\n",
            "25\n",
            "My name is John, and I am 25 years old.\n"
          ]
        }
      ]
    },
    {
      "cell_type": "markdown",
      "source": [
        "**Q4. Why self is used in OOPs?**"
      ],
      "metadata": {
        "id": "kjgPhChL-jXl"
      }
    },
    {
      "cell_type": "markdown",
      "source": [
        "In Object-Oriented Programming (OOP), the self keyword is used to refer to the instance (object) of a class within its own methods. It is a convention in Python (and some other programming languages) to use the name self as the first parameter in method definitions.\n",
        "\n",
        "When a method is invoked on an object, the self parameter represents that specific instance of the class, allowing the method to access and modify the object's attributes and call other methods defined within the class.\n",
        "\n",
        "By using self, the methods can distinguish between attributes and variables specific to the instance and those that are local to the method. It provides a way to differentiate between instance variables and local variables within the scope of a method."
      ],
      "metadata": {
        "id": "9fmH7_gg-jaB"
      }
    },
    {
      "cell_type": "code",
      "source": [
        "class Circle:\n",
        "    def __init__(self, radius):\n",
        "        self.radius = radius\n",
        "\n",
        "    def calculate_area(self):\n",
        "        area = 3.14 * self.radius * self.radius\n",
        "        return area\n",
        "\n",
        "    def calculate_circumference(self):\n",
        "        circumference = 2 * 3.14 * self.radius\n",
        "        return circumference\n",
        "\n",
        "# Creating an instance of Circle\n",
        "my_circle = Circle(5)\n",
        "\n",
        "# Accessing instance variables using self\n",
        "print(my_circle.calculate_area())  # Output: 78.5\n",
        "print(my_circle.calculate_circumference())  # Output: 31.400000000000002"
      ],
      "metadata": {
        "colab": {
          "base_uri": "https://localhost:8080/"
        },
        "id": "XBHMGyQs_3zW",
        "outputId": "3b2dd834-f58b-462d-ed4d-cfd78e4e1168"
      },
      "execution_count": null,
      "outputs": [
        {
          "output_type": "stream",
          "name": "stdout",
          "text": [
            "78.5\n",
            "31.400000000000002\n"
          ]
        }
      ]
    },
    {
      "cell_type": "markdown",
      "source": [
        "**Q5. What is inheritance? Give an example for each type of inheritance.**"
      ],
      "metadata": {
        "id": "V07nZHBZ-jcV"
      }
    },
    {
      "cell_type": "markdown",
      "source": [
        "Inheritance is a fundamental concept in Object-Oriented Programming (OOP) that allows a class to inherit properties (attributes and methods) from another class. The class that inherits is called the derived class or subclass, and the class from which it inherits is called the base class or superclass. Inheritance promotes code reuse, facilitates the creation of hierarchical relationships between classes, and enables the implementation of polymorphism."
      ],
      "metadata": {
        "id": "V764-wgYADNV"
      }
    },
    {
      "cell_type": "markdown",
      "source": [
        "There are several types of inheritance:\n",
        "\n",
        "1. Single Inheritance:\n",
        "In single inheritance, a class inherits from a single base class. The derived class extends the functionality of the base class by adding its own attributes and methods.\n",
        "\n"
      ],
      "metadata": {
        "id": "4h2963AhAHEl"
      }
    },
    {
      "cell_type": "code",
      "source": [
        "class Animal:\n",
        "    def eat(self):\n",
        "        print(\"Eating...\")\n",
        "\n",
        "class Dog(Animal):\n",
        "    def bark(self):\n",
        "        print(\"Barking...\")\n",
        "\n",
        "# Creating an instance of Dog\n",
        "my_dog = Dog()\n",
        "my_dog.eat()  # Output: Eating...\n",
        "my_dog.bark()  # Output: Barking...\n"
      ],
      "metadata": {
        "colab": {
          "base_uri": "https://localhost:8080/"
        },
        "id": "_IkBVO6E-yIF",
        "outputId": "234cb221-2368-4a9a-b216-d133a50460f8"
      },
      "execution_count": null,
      "outputs": [
        {
          "output_type": "stream",
          "name": "stdout",
          "text": [
            "Eating...\n",
            "Barking...\n"
          ]
        }
      ]
    },
    {
      "cell_type": "markdown",
      "source": [
        "2. Multiple Inheritance:\n",
        "Multiple inheritance allows a class to inherit from multiple base classes. The derived class inherits attributes and methods from all the base classes. It can access and extend the functionality of multiple classes."
      ],
      "metadata": {
        "id": "mX-6DySBAN5n"
      }
    },
    {
      "cell_type": "code",
      "source": [
        "class Animal:\n",
        "    def eat(self):\n",
        "        print(\"Eating...\")\n",
        "\n",
        "class CanFly:\n",
        "    def fly(self):\n",
        "        print(\"Flying...\")\n",
        "\n",
        "class Bird(Animal, CanFly):\n",
        "    def chirp(self):\n",
        "        print(\"Chirping...\")\n",
        "\n",
        "# Creating an instance of Bird\n",
        "my_bird = Bird()\n",
        "my_bird.eat()  # Output: Eating...\n",
        "my_bird.fly()  # Output: Flying...\n",
        "my_bird.chirp()  # Output: Chirping..."
      ],
      "metadata": {
        "colab": {
          "base_uri": "https://localhost:8080/"
        },
        "id": "aRFT96vlAM4r",
        "outputId": "adcc3b90-1c3a-4813-a35b-2677c89e1cc8"
      },
      "execution_count": null,
      "outputs": [
        {
          "output_type": "stream",
          "name": "stdout",
          "text": [
            "Eating...\n",
            "Flying...\n",
            "Chirping...\n"
          ]
        }
      ]
    },
    {
      "cell_type": "markdown",
      "source": [
        "3. Multilevel Inheritance:\n",
        "Multilevel inheritance involves deriving a class from another derived class. It creates a parent-child relationship between classes, forming a hierarchy."
      ],
      "metadata": {
        "id": "L8CMmOLKAaUi"
      }
    },
    {
      "cell_type": "code",
      "source": [
        "class Vehicle:\n",
        "    def drive(self):\n",
        "        print(\"Driving...\")\n",
        "\n",
        "class Car(Vehicle):\n",
        "    def start(self):\n",
        "        print(\"Car started...\")\n",
        "\n",
        "class Sedan(Car):\n",
        "    def luxury(self):\n",
        "        print(\"Luxury sedan...\")\n",
        "\n",
        "# Creating an instance of Sedan\n",
        "my_sedan = Sedan()\n",
        "my_sedan.drive()  # Output: Driving...\n",
        "my_sedan.start()  # Output: Car started...\n",
        "my_sedan.luxury()  # Output: Luxury sedan..."
      ],
      "metadata": {
        "colab": {
          "base_uri": "https://localhost:8080/"
        },
        "id": "XKKTnuigAX3G",
        "outputId": "720a1c09-bae9-4c5c-fb4b-4ce79444d6e3"
      },
      "execution_count": null,
      "outputs": [
        {
          "output_type": "stream",
          "name": "stdout",
          "text": [
            "Driving...\n",
            "Car started...\n",
            "Luxury sedan...\n"
          ]
        }
      ]
    },
    {
      "cell_type": "markdown",
      "source": [
        "4. Hierarchical Inheritance:\n",
        "Hierarchical inheritance involves multiple derived classes inheriting from a single base class. Each derived class shares the attributes and methods of the base class while adding its unique functionality."
      ],
      "metadata": {
        "id": "vh6qQGkBAfzO"
      }
    },
    {
      "cell_type": "code",
      "source": [
        "class Shape:\n",
        "    def draw(self):\n",
        "        print(\"Drawing shape...\")\n",
        "\n",
        "class Circle(Shape):\n",
        "    def draw(self):\n",
        "        print(\"Drawing circle...\")\n",
        "\n",
        "class Rectangle(Shape):\n",
        "    def draw(self):\n",
        "        print(\"Drawing rectangle...\")\n",
        "\n",
        "# Creating instances of Circle and Rectangle\n",
        "my_circle = Circle()\n",
        "my_rectangle = Rectangle()\n",
        "\n",
        "my_circle.draw()  # Output: Drawing circle...\n",
        "my_rectangle.draw()  # Output: Drawing rectangle...\n"
      ],
      "metadata": {
        "colab": {
          "base_uri": "https://localhost:8080/"
        },
        "id": "OavIN_MWAda2",
        "outputId": "7cb57b87-5a2a-4b39-f3bb-f18c60d65345"
      },
      "execution_count": null,
      "outputs": [
        {
          "output_type": "stream",
          "name": "stdout",
          "text": [
            "Drawing circle...\n",
            "Drawing rectangle...\n"
          ]
        }
      ]
    },
    {
      "cell_type": "markdown",
      "source": [
        "5. Hybrid inheritance in Python refers to a combination of multiple types of inheritance, including single inheritance, multiple inheritance, multilevel inheritance, and hierarchical inheritance. It allows a class to inherit from multiple base classes, creating a complex inheritance structure. In hybrid inheritance, the inheritance hierarchy can involve multiple levels, with classes inheriting from other derived classes, as well as from multiple base classes. This combination provides flexibility and allows for the creation of more sophisticated class relationships and behavior."
      ],
      "metadata": {
        "id": "6WblIIKWtaMt"
      }
    },
    {
      "cell_type": "code",
      "source": [
        "class Animal:\n",
        "    def eat(self):\n",
        "        print(\"Eating...\")\n",
        "\n",
        "\n",
        "class CanFly:\n",
        "    def fly(self):\n",
        "        print(\"Flying...\")\n",
        "\n",
        "\n",
        "class CanSwim:\n",
        "    def swim(self):\n",
        "        print(\"Swimming...\")\n",
        "\n",
        "\n",
        "class Bird(Animal, CanFly):\n",
        "    def chirp(self):\n",
        "        print(\"Chirping...\")\n",
        "\n",
        "\n",
        "class Duck(Bird, CanSwim):\n",
        "    def quack(self):\n",
        "        print(\"Quacking...\")\n",
        "\n",
        "\n",
        "# Creating an instance of Duck\n",
        "my_duck = Duck()\n",
        "\n",
        "# Accessing inherited methods\n",
        "my_duck.eat()  # Output: Eating...\n",
        "my_duck.fly()  # Output: Flying...\n",
        "my_duck.swim()  # Output: Swimming...\n",
        "\n",
        "# Invoking class-specific method\n",
        "my_duck.quack()  # Output: Quacking...\n",
        ""
      ],
      "metadata": {
        "colab": {
          "base_uri": "https://localhost:8080/"
        },
        "id": "XEssuQ1GtX74",
        "outputId": "8c4dec4f-cb7b-4263-fbb0-049d72a1c0f2"
      },
      "execution_count": 8,
      "outputs": [
        {
          "output_type": "stream",
          "name": "stdout",
          "text": [
            "Eating...\n",
            "Flying...\n",
            "Swimming...\n",
            "Quacking...\n"
          ]
        }
      ]
    },
    {
      "cell_type": "code",
      "source": [],
      "metadata": {
        "id": "viiWpxB_AjA_"
      },
      "execution_count": null,
      "outputs": []
    }
  ]
}