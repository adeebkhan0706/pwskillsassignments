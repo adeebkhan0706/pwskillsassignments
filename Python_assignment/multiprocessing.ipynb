{
  "cells": [
    {
      "cell_type": "markdown",
      "metadata": {
        "colab_type": "text",
        "id": "view-in-github"
      },
      "source": [
        "<a href=\"https://colab.research.google.com/github/adeebkhan0706/pwskillsassignmnets/blob/main/multiprocessing.ipynb\" target=\"_parent\"><img src=\"https://colab.research.google.com/assets/colab-badge.svg\" alt=\"Open In Colab\"/></a>"
      ]
    },
    {
      "cell_type": "markdown",
      "metadata": {
        "id": "C6AxdxXInx24"
      },
      "source": [
        "## **Q1. What is multiprocessing in python? Why is it useful?**"
      ]
    },
    {
      "cell_type": "markdown",
      "metadata": {
        "id": "dt7Pc44ynxzU"
      },
      "source": [
        "Multiprocessing in Python refers to the capability of the Python programming language to create and manage multiple processes simultaneously. It allows the execution of multiple processes in parallel, utilizing multiple CPU cores or even multiple machines in a distributed environment.\n",
        "\n",
        "Python's multiprocessing module provides a way to create and control processes, enabling the execution of tasks concurrently. Each process has its own memory space and resources, allowing them to run independently and in parallel. The multiprocessing module offers a similar interface to the threading module, but with the distinction that processes run in separate memory spaces, while threads share the same memory space.\n",
        "\n",
        "Here are some reasons why multiprocessing in Python is useful:\n",
        "\n",
        "1. Parallel Execution: Multiprocessing allows the execution of tasks in parallel, taking advantage of multiple CPU cores. This can significantly improve the performance and efficiency of CPU-bound tasks by distributing the workload across multiple processes.\n",
        "\n",
        "2. Improved Throughput: By utilizing multiprocessing, you can increase the throughput of your application by performing multiple tasks simultaneously. This is particularly beneficial when dealing with computationally intensive tasks that can benefit from parallel execution.\n",
        "\n",
        "3. Resource Isolation: Each process in multiprocessing has its own memory space, which provides isolation between processes. This ensures that any issues or errors occurring in one process do not affect other processes. Resource isolation enhances stability and robustness, as errors in one process are less likely to crash the entire application.\n",
        "\n",
        "4. Simplified Programming: Python's multiprocessing module offers a high-level and easy-to-use interface for creating and managing processes. It provides abstractions such as the Process class, which simplifies the creation and control of processes. This makes it convenient for developers to harness the power of parallelism without diving into low-level details.\n",
        "\n",
        "5. Leveraging Multiple Machines: In addition to utilizing multiple CPU cores on a single machine, multiprocessing in Python can also be used to distribute processes across multiple machines in a distributed environment. This enables scaling and load balancing of computationally intensive tasks across a cluster of machines.\n",
        "\n",
        "6. Avoiding Global Interpreter Lock (GIL): Python's Global Interpreter Lock (GIL) limits true parallel execution of threads in Python. However, multiprocessing allows bypassing the GIL by utilizing separate processes, enabling true parallelism and improved performance in CPU-bound tasks."
      ]
    },
    {
      "cell_type": "markdown",
      "metadata": {
        "id": "-v_YRvfCnxxH"
      },
      "source": [
        "## **Q2. What are the differences between multiprocessing and multithreading?**"
      ]
    },
    {
      "cell_type": "markdown",
      "metadata": {
        "id": "VfB2sJQonxu4"
      },
      "source": [
        "1. Execution Model: In multiprocessing, multiple processes are created and executed concurrently, each with its own memory space. Processes do not share memory directly and communicate through inter-process communication (IPC) mechanisms. In multithreading, multiple threads are created within a single process, sharing the same memory space. Threads can directly access and modify shared data.\n",
        "\n",
        "2. Resource Utilization: Multiprocessing can utilize multiple CPU cores effectively, as each process runs on a separate core. This allows for true parallel execution of tasks. Multithreading, on the other hand, is limited by the Global Interpreter Lock (GIL) in Python, which allows only one thread to execute Python bytecode at a time. This means that multithreading may not fully utilize multiple CPU cores for CPU-bound tasks but can still benefit from concurrency in I/O-bound scenarios.\n",
        "\n",
        "3. Memory Overhead: In multiprocessing, each process has its own memory space, resulting in separate memory overhead for each process. This can lead to higher memory consumption compared to multithreading, where threads share the same memory space and have lower memory overhead.\n",
        "\n",
        "4. Communication: Inter-process communication (IPC) mechanisms, such as pipes, queues, or shared memory, are used for communication between processes in multiprocessing. These mechanisms add complexity but allow communication between processes with data isolation. In multithreading, communication between threads is more straightforward as they can directly access shared data.\n",
        "\n",
        "5. Synchronization: Synchronizing access to shared resources in multiprocessing requires explicit synchronization mechanisms like locks or semaphores, as processes do not share memory. In multithreading, synchronization is often easier since threads can directly access shared data. However, proper synchronization is still necessary to avoid race conditions and ensure thread safety.\n",
        "\n",
        "6. Fault Isolation: In multiprocessing, if one process crashes or encounters an error, it does not affect other processes, as they have separate memory spaces. In multithreading, if one thread encounters an error, it can potentially crash the entire process, as all threads share the same memory space.\n",
        "\n",
        "7. Complexity: Multithreading is generally considered less complex than multiprocessing. Multithreading involves shared memory and direct communication between threads, which simplifies programming in some scenarios. Multiprocessing, with its separate memory spaces and IPC mechanisms, introduces additional complexity in managing processes and communication between them."
      ]
    },
    {
      "cell_type": "markdown",
      "metadata": {
        "id": "UQe-bgGInxs1"
      },
      "source": [
        "## **Q3. Write a python code to create a process using the multiprocessing module.**"
      ]
    },
    {
      "cell_type": "code",
      "execution_count": 1,
      "metadata": {
        "colab": {
          "base_uri": "https://localhost:8080/"
        },
        "id": "GVhJggJIrvmX",
        "outputId": "e19c9014-a98a-4045-c750-5276eb534bb1"
      },
      "outputs": [
        {
          "name": "stdout",
          "output_type": "stream",
          "text": [
            "This is a child process\n",
            "This is the parent process\n"
          ]
        }
      ],
      "source": [
        "import multiprocessing\n",
        "\n",
        "def process_function():\n",
        "    # Code to be executed by the process\n",
        "    print(\"This is a child process\")\n",
        "\n",
        "if __name__ == \"__main__\":\n",
        "    # Create a process\n",
        "    process = multiprocessing.Process(target=process_function)\n",
        "\n",
        "    # Start the process\n",
        "    process.start()\n",
        "\n",
        "    # Wait for the process to finish\n",
        "    process.join()\n",
        "\n",
        "    # The code below this line is executed by the parent process\n",
        "    print(\"This is the parent process\")\n"
      ]
    },
    {
      "cell_type": "markdown",
      "metadata": {
        "id": "-QXhMhJynxn4"
      },
      "source": [
        "## **Q4. What is a multiprocessing pool in python? Why is it used?**"
      ]
    },
    {
      "cell_type": "markdown",
      "metadata": {
        "id": "BwLUUdtJscvN"
      },
      "source": [
        "In Python, a multiprocessing pool refers to a mechanism provided by the multiprocessing module for parallel execution of a function across multiple input values. It allows distributing the workload among a specified number of worker processes, collectively referred to as a pool, to perform computations concurrently.\n",
        "\n",
        "The multiprocessing pool is created using the multiprocessing.Pool class. It provides convenient methods for parallel execution, such as map(), imap(), map_async(), apply(), and apply_async(). These methods enable applying a function to multiple input values in parallel, returning the results efficiently.\n",
        "\n",
        "Here are a few reasons why multiprocessing pools are used:\n",
        "\n",
        "1. Parallel Execution: Multiprocessing pools enable parallel execution of a function across multiple inputs. The pool automatically distributes the workload among the available worker processes, allowing for faster execution of tasks. This is particularly useful for CPU-bound tasks that can benefit from utilizing multiple CPU cores.\n",
        "\n",
        "2. Increased Performance: By leveraging multiple worker processes, multiprocessing pools can significantly improve the performance of computationally intensive tasks. With parallel execution, the total execution time can be reduced compared to a sequential approach.\n",
        "\n",
        "3. Simplified Programming: Multiprocessing pools provide a high-level interface that simplifies the implementation of parallel execution. The map() and apply() methods, for example, abstract away the complexities of managing worker processes, inter-process communication, and synchronization. This allows developers to focus on the problem at hand rather than the low-level details of concurrency.\n",
        "\n",
        "4. Resource Management: Multiprocessing pools manage the allocation and distribution of resources, such as worker processes, among the available CPUs. The pool handles the creation and management of worker processes, allowing the programmer to focus on defining the task to be executed.\n",
        "\n",
        "5. Load Balancing: Multiprocessing pools automatically distribute the workload evenly among the worker processes. This load balancing ensures that the tasks are efficiently divided among the available resources, maximizing the utilization of CPU cores and avoiding potential bottlenecks.\n",
        "\n",
        "6. Result Retrieval: Multiprocessing pools provide convenient methods, such as map() or apply(), that return the results of parallel execution. These methods return the results in the same order as the input, making it easy to retrieve and process the outputs."
      ]
    },
    {
      "cell_type": "markdown",
      "metadata": {
        "id": "ntGS6E20oiVT"
      },
      "source": [
        "## **Q5. How can we create a pool of worker processes in pyhton using the multiprocessing module?**"
      ]
    },
    {
      "cell_type": "code",
      "execution_count": 2,
      "metadata": {
        "colab": {
          "base_uri": "https://localhost:8080/"
        },
        "id": "C_g65WDsoue7",
        "outputId": "f4f2c751-cd28-4b01-da81-e2b2434cbfd6"
      },
      "outputs": [
        {
          "name": "stdout",
          "output_type": "stream",
          "text": [
            "[2, 4, 6, 8, 10]\n"
          ]
        }
      ],
      "source": [
        "import multiprocessing\n",
        "\n",
        "def worker_function(value):\n",
        "    # Code to be executed by each worker process\n",
        "    result = value * 2\n",
        "    return result\n",
        "\n",
        "if __name__ == \"__main__\":\n",
        "    # Create a pool of worker processes\n",
        "    pool = multiprocessing.Pool()\n",
        "\n",
        "    # Define a list of input values\n",
        "    input_values = [1, 2, 3, 4, 5]\n",
        "\n",
        "    # Apply the worker function to the input values in parallel using the pool\n",
        "    results = pool.map(worker_function, input_values)\n",
        "\n",
        "    # Close the pool to prevent any more tasks from being submitted\n",
        "    pool.close()\n",
        "\n",
        "    # Wait for the worker processes to complete\n",
        "    pool.join()\n",
        "\n",
        "    # Print the results\n",
        "    print(results)\n"
      ]
    },
    {
      "cell_type": "markdown",
      "metadata": {
        "id": "rXy56_aOoxlD"
      },
      "source": [
        "## **Q6. Write a python program to create 4 processes, each process should print a different number using the multiprocessing module in python.**"
      ]
    },
    {
      "cell_type": "code",
      "execution_count": 3,
      "metadata": {
        "colab": {
          "base_uri": "https://localhost:8080/"
        },
        "id": "gT9zyw6KpCRD",
        "outputId": "4931bdad-75d3-4f4a-951a-f09d3e3c90e3"
      },
      "outputs": [
        {
          "name": "stdout",
          "output_type": "stream",
          "text": [
            "Process ID:Process ID:Process ID:Process ID:5721 \n",
            "Number: 1\n",
            "   57235722\n",
            "5724Number:\n",
            "\n",
            " 2Number:Number:\n",
            "  3\n",
            "4\n"
          ]
        }
      ],
      "source": [
        "import multiprocessing\n",
        "\n",
        "def print_number(number):\n",
        "    print(\"Process ID:\", multiprocessing.current_process().pid)\n",
        "    print(\"Number:\", number)\n",
        "\n",
        "if __name__ == \"__main__\":\n",
        "    # Create a list of numbers\n",
        "    numbers = [1, 2, 3, 4]\n",
        "\n",
        "    # Create a pool of 4 processes\n",
        "    pool = multiprocessing.Pool(processes=4)\n",
        "\n",
        "    # Apply the print_number function to each number in parallel using the pool\n",
        "    pool.map(print_number, numbers)\n",
        "\n",
        "    # Close the pool\n",
        "    pool.close()\n",
        "\n",
        "    # Wait for the processes to complete\n",
        "    pool.join()\n"
      ]
    }
  ],
  "metadata": {
    "colab": {
      "authorship_tag": "ABX9TyOER2K36HlUbKDxz/im5Wlc",
      "include_colab_link": true,
      "provenance": []
    },
    "kernelspec": {
      "display_name": "Python 3",
      "name": "python3"
    },
    "language_info": {
      "name": "python"
    }
  },
  "nbformat": 4,
  "nbformat_minor": 0
}
